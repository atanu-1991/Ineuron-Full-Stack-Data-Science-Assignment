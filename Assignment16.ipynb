{
 "cells": [
  {
   "cell_type": "raw",
   "id": "3bf07c7d",
   "metadata": {},
   "source": [
    "1. Create a list called years_list, starting with the year of your birth, and each year thereafter until the year of your fifth birthday. For example, if you were born in 1980. the list would be years_list = [1980, 1981, 1982, 1983, 1984, 1985]."
   ]
  },
  {
   "cell_type": "code",
   "execution_count": 2,
   "id": "8547576d",
   "metadata": {},
   "outputs": [
    {
     "name": "stdout",
     "output_type": "stream",
     "text": [
      "Enter Year of Birth2\n",
      "[2, 3, 4, 5, 6, 7]\n"
     ]
    }
   ],
   "source": [
    "yob = int(input(\"Enter Year of Birth\"))\n",
    "year_list = []\n",
    "for i in range(yob, (yob+6)):\n",
    "    year_list.append(i)\n",
    "print(year_list)"
   ]
  },
  {
   "cell_type": "markdown",
   "id": "0db055b1",
   "metadata": {},
   "source": [
    "2.In which year in years_list was your third birthday? Remember, you were 0 years of age for your first year."
   ]
  },
  {
   "cell_type": "markdown",
   "id": "f97ee182",
   "metadata": {},
   "source": [
    "Ans: In 1983"
   ]
  },
  {
   "cell_type": "markdown",
   "id": "41a52bfc",
   "metadata": {},
   "source": [
    "3.In the years list, which year were you the oldest?"
   ]
  },
  {
   "cell_type": "markdown",
   "id": "7d085fad",
   "metadata": {},
   "source": [
    "Ans: In 1981"
   ]
  },
  {
   "cell_type": "markdown",
   "id": "73ae5ce9",
   "metadata": {},
   "source": [
    "4.Make a list called things with these three strings as elements: \"mozzarella\", \"cinderella\", \"salmonella\"."
   ]
  },
  {
   "cell_type": "code",
   "execution_count": 4,
   "id": "190343c3",
   "metadata": {},
   "outputs": [],
   "source": [
    "things = [\"mozzarella\", \"cinderella\", \"salmonella\"]"
   ]
  },
  {
   "cell_type": "markdown",
   "id": "7238eee0",
   "metadata": {},
   "source": [
    "5.Capitalize the element in things that refers to a person and then print the list. Did it change the element in the list"
   ]
  },
  {
   "cell_type": "code",
   "execution_count": 5,
   "id": "72d5d605",
   "metadata": {},
   "outputs": [
    {
     "name": "stdout",
     "output_type": "stream",
     "text": [
      "['mozzarella', 'Cinderella', 'salmonella']\n"
     ]
    }
   ],
   "source": [
    "thing_new = []\n",
    "\n",
    "for i in things:\n",
    "    if i == \"cinderella\":\n",
    "        l = i.capitalize()\n",
    "        thing_new.append(l)\n",
    "    else:\n",
    "        thing_new.append(i)\n",
    "            \n",
    "print(thing_new)"
   ]
  },
  {
   "cell_type": "markdown",
   "id": "fe635ec9",
   "metadata": {},
   "source": [
    "6.Make a surprise list with the elements \"Groucho,\" \"Chico,\" and \"Harpo.\""
   ]
  },
  {
   "cell_type": "code",
   "execution_count": 6,
   "id": "03cf5c69",
   "metadata": {},
   "outputs": [],
   "source": [
    "surprise_list = [\"Groucho\", \"Chico\", \"Harpo\"]"
   ]
  },
  {
   "cell_type": "markdown",
   "id": "7d500484",
   "metadata": {},
   "source": [
    "7.Lowercase the last element of the surprise list, reverse it, and then capitalize it."
   ]
  },
  {
   "cell_type": "code",
   "execution_count": 10,
   "id": "d3ebe416",
   "metadata": {},
   "outputs": [
    {
     "name": "stdout",
     "output_type": "stream",
     "text": [
      "['Groucho', 'Chico', 'harpo']\n",
      "['harpo', 'Chico', 'Groucho']\n",
      "['Harpo', 'Chico', 'Groucho']\n"
     ]
    }
   ],
   "source": [
    "surpriselist_new = []\n",
    "for i in range(len(surprise_list)):\n",
    "    if surprise_list[i] == surprise_list[len(surprise_list)-1]:\n",
    "        l = surprise_list[i].lower()\n",
    "        surpriselist_new.append(l)\n",
    "    else:\n",
    "        surpriselist_new.append(surprise_list[i])\n",
    "print(surpriselist_new)\n",
    "surpriselist_new.reverse()\n",
    "print(surpriselist_new)\n",
    "surpriselist_new2 = []\n",
    "for i in surpriselist_new:\n",
    "    if i == \"harpo\":\n",
    "        l = i.capitalize()\n",
    "        surpriselist_new2.append(l)\n",
    "    else:\n",
    "        \n",
    "        surpriselist_new2.append(i)\n",
    "        \n",
    "print(surpriselist_new2)\n",
    "        \n",
    "    "
   ]
  },
  {
   "cell_type": "markdown",
   "id": "e664c818",
   "metadata": {},
   "source": [
    "8.Make an English-to-French dictionary called e2f and print it. Here are your starter words: dog is chien, cat is chat, and walrus is morse."
   ]
  },
  {
   "cell_type": "code",
   "execution_count": 11,
   "id": "52d60bc2",
   "metadata": {},
   "outputs": [],
   "source": [
    "e2f = {\"dog\" : \"chien\", \"cat\" : \"chat\", \"warlus\" : \"morse\"}"
   ]
  },
  {
   "cell_type": "markdown",
   "id": "afee3965",
   "metadata": {},
   "source": [
    "9.Write the French word for walrus in your three-word dictionary e2f."
   ]
  },
  {
   "cell_type": "code",
   "execution_count": 9,
   "id": "df919e5e",
   "metadata": {},
   "outputs": [
    {
     "name": "stdout",
     "output_type": "stream",
     "text": [
      "French word of warlus is morse\n"
     ]
    }
   ],
   "source": [
    "print(\"French word of warlus is\",e2f.get(\"warlus\"))"
   ]
  },
  {
   "cell_type": "markdown",
   "id": "04fffc8f",
   "metadata": {},
   "source": [
    "10.Make a French-to-English dictionary called f2e from e2f. Use the items method."
   ]
  },
  {
   "cell_type": "code",
   "execution_count": 36,
   "id": "173ef6f4",
   "metadata": {},
   "outputs": [
    {
     "name": "stdout",
     "output_type": "stream",
     "text": [
      "{'chien': 'dog', 'chat': 'cat', 'morse': 'warlus'}\n"
     ]
    }
   ],
   "source": [
    "f2e = {v:k for k,v in e2f.items()}\n",
    "print(f2e)"
   ]
  },
  {
   "cell_type": "markdown",
   "id": "7aeb1a62",
   "metadata": {},
   "source": [
    "11.Print the English version of the French word chien using f2e."
   ]
  },
  {
   "cell_type": "code",
   "execution_count": 38,
   "id": "4ddec120",
   "metadata": {},
   "outputs": [
    {
     "name": "stdout",
     "output_type": "stream",
     "text": [
      "English word of chien is dog\n"
     ]
    }
   ],
   "source": [
    "print(\"English word of chien is\",f2e.get(\"chien\"))"
   ]
  },
  {
   "cell_type": "code",
   "execution_count": null,
   "id": "382f9f4b",
   "metadata": {},
   "outputs": [],
   "source": [
    "12.Make and print a set of English words from the keys in e2f."
   ]
  },
  {
   "cell_type": "code",
   "execution_count": 42,
   "id": "07972d8d",
   "metadata": {},
   "outputs": [
    {
     "name": "stdout",
     "output_type": "stream",
     "text": [
      "{'cat', 'dog', 'warlus'}\n"
     ]
    }
   ],
   "source": [
    "s = set()\n",
    "for i in e2f.keys():\n",
    "    s.add(i)\n",
    "print(s)"
   ]
  },
  {
   "cell_type": "markdown",
   "id": "c5fd38bd",
   "metadata": {},
   "source": [
    "13.Make a multilevel dictionary called life. Use these strings for the topmost keys: 'animals', 'plants', and 'other'. Make the 'animals' key refer to another dictionary with the keys 'cats', 'octopi', and 'emus'. Make the 'cats' key refer to a list of strings with the values 'Henri', 'Grumpy', and 'Lucy'. Make all the other keys refer to empty dictionaries."
   ]
  },
  {
   "cell_type": "code",
   "execution_count": 16,
   "id": "00cf9233",
   "metadata": {},
   "outputs": [],
   "source": [
    "life = {'animals' : {'cats' : ['Henri','Grumpy','Lucy'], 'octopi' : {}, 'emus' : {}}, 'plants' : {}, 'other' : {}}"
   ]
  },
  {
   "cell_type": "markdown",
   "id": "81e65aa6",
   "metadata": {},
   "source": [
    "14.Print the top-level keys of life."
   ]
  },
  {
   "cell_type": "code",
   "execution_count": 17,
   "id": "75116a60",
   "metadata": {},
   "outputs": [
    {
     "name": "stdout",
     "output_type": "stream",
     "text": [
      "dict_keys(['animals', 'plants', 'other'])\n"
     ]
    }
   ],
   "source": [
    "print(life.keys())"
   ]
  },
  {
   "cell_type": "raw",
   "id": "3af385b0",
   "metadata": {},
   "source": [
    "15.Print the keys for life['animals']."
   ]
  },
  {
   "cell_type": "code",
   "execution_count": 19,
   "id": "4310ac89",
   "metadata": {},
   "outputs": [
    {
     "name": "stdout",
     "output_type": "stream",
     "text": [
      "dict_keys(['cats', 'octopi', 'emus'])\n"
     ]
    }
   ],
   "source": [
    "dict = life['animals']\n",
    "print(dict.keys())"
   ]
  },
  {
   "cell_type": "raw",
   "id": "40d20650",
   "metadata": {},
   "source": [
    "16.Print the values for life['animals']['cats']"
   ]
  },
  {
   "cell_type": "code",
   "execution_count": 20,
   "id": "4b53baec",
   "metadata": {},
   "outputs": [
    {
     "name": "stdout",
     "output_type": "stream",
     "text": [
      "['Henri', 'Grumpy', 'Lucy']\n"
     ]
    }
   ],
   "source": [
    "print(life['animals']['cats'])"
   ]
  },
  {
   "cell_type": "code",
   "execution_count": null,
   "id": "70ffa937",
   "metadata": {},
   "outputs": [],
   "source": []
  }
 ],
 "metadata": {
  "kernelspec": {
   "display_name": "Python 3 (ipykernel)",
   "language": "python",
   "name": "python3"
  },
  "language_info": {
   "codemirror_mode": {
    "name": "ipython",
    "version": 3
   },
   "file_extension": ".py",
   "mimetype": "text/x-python",
   "name": "python",
   "nbconvert_exporter": "python",
   "pygments_lexer": "ipython3",
   "version": "3.9.7"
  }
 },
 "nbformat": 4,
 "nbformat_minor": 5
}
