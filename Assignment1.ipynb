{
 "cells": [
  {
   "cell_type": "markdown",
   "id": "9ef6a837",
   "metadata": {},
   "source": [
    "1.In the below elements which of them are values or an expression? eg:- values can be integer or string and expressions will be mathematical operators.\n",
    "*  \n",
    "'hello'\n",
    "-87.8\n",
    "- \n",
    "/ \n",
    "+\t\n",
    "6 \n"
   ]
  },
  {
   "cell_type": "markdown",
   "id": "a8da2830",
   "metadata": {},
   "source": [
    "=> Values-  ‘hello’, -87.8, 6  Expression- *, - , / , +"
   ]
  },
  {
   "cell_type": "markdown",
   "id": "b95d2373",
   "metadata": {},
   "source": [
    "2.What is the difference between string and variable?"
   ]
  },
  {
   "cell_type": "markdown",
   "id": "31f24ba2",
   "metadata": {},
   "source": [
    "=> string is a data type and variable is like a container (a=4),here a is variable which store the value 4."
   ]
  },
  {
   "cell_type": "markdown",
   "id": "e5b7c74b",
   "metadata": {},
   "source": [
    "3.Describe three different data types."
   ]
  },
  {
   "cell_type": "markdown",
   "id": "df14dbfa",
   "metadata": {},
   "source": [
    "=> String,Integer,Float"
   ]
  },
  {
   "cell_type": "markdown",
   "id": "d46b67fb",
   "metadata": {},
   "source": [
    "4.What is an expression made up of? What do all expressions do?"
   ]
  },
  {
   "cell_type": "markdown",
   "id": "316960ce",
   "metadata": {},
   "source": [
    "Ans1: expression is made up of operator.\n",
    "Ans2: All expression do some operation like addition, multiplication, subtraction etc."
   ]
  },
  {
   "cell_type": "markdown",
   "id": "8e2e21d2",
   "metadata": {},
   "source": [
    "5.This assignment statements, like spam = 10. What is the difference between an expression and a statement?"
   ]
  },
  {
   "cell_type": "markdown",
   "id": "e2c35f0e",
   "metadata": {},
   "source": [
    "=> spam=10 ,here we can call it is a statement (spam variable is used to store the value 10 using = operator expression)and = operator is expression"
   ]
  },
  {
   "cell_type": "markdown",
   "id": "40f3bd0e",
   "metadata": {},
   "source": [
    "6.After running the following code, what does the variable bacon contain?\n",
    "bacon = 22\n",
    "bacon + 1"
   ]
  },
  {
   "cell_type": "markdown",
   "id": "985e2c57",
   "metadata": {},
   "source": [
    "=> bacon contain 22 because we increased the value of bacon but we did not assign the increased value of bacon"
   ]
  },
  {
   "cell_type": "markdown",
   "id": "39720f6a",
   "metadata": {},
   "source": [
    "7.What should the values of the following two terms be?\n",
    "'spam' + 'spamspam'\n",
    "'spam' * 3 "
   ]
  },
  {
   "cell_type": "code",
   "execution_count": 1,
   "id": "7f60f538",
   "metadata": {},
   "outputs": [
    {
     "data": {
      "text/plain": [
       "'spamspamspam'"
      ]
     },
     "execution_count": 1,
     "metadata": {},
     "output_type": "execute_result"
    }
   ],
   "source": [
    "'spam' + 'spamspam'"
   ]
  },
  {
   "cell_type": "code",
   "execution_count": 2,
   "id": "ef7bfb0d",
   "metadata": {},
   "outputs": [
    {
     "data": {
      "text/plain": [
       "'spamspamspam'"
      ]
     },
     "execution_count": 2,
     "metadata": {},
     "output_type": "execute_result"
    }
   ],
   "source": [
    "'spam' * 3"
   ]
  },
  {
   "cell_type": "markdown",
   "id": "04dda2d2",
   "metadata": {},
   "source": [
    "8.Why is eggs a valid variable name while 100 is invalid?"
   ]
  },
  {
   "cell_type": "markdown",
   "id": "abcc3c19",
   "metadata": {},
   "source": [
    "=> Because 100 is a value and eggs is not a value"
   ]
  },
  {
   "cell_type": "markdown",
   "id": "024bbcae",
   "metadata": {},
   "source": [
    "9.What three functions can be used to get the integer, floating-point number, or string version of a value?"
   ]
  },
  {
   "cell_type": "markdown",
   "id": "fa6e4545",
   "metadata": {},
   "source": [
    "=> Int(), float(), string()"
   ]
  },
  {
   "cell_type": "markdown",
   "id": "e8f3c8f8",
   "metadata": {},
   "source": [
    "10.Why does this expression cause an error? How can you fix it?\n",
    "'I have eaten ' + 99 + ' burritos.'"
   ]
  },
  {
   "cell_type": "markdown",
   "id": "4968b425",
   "metadata": {},
   "source": [
    "=> because string and integer can not concatenate."
   ]
  },
  {
   "cell_type": "code",
   "execution_count": 4,
   "id": "fb90b480",
   "metadata": {},
   "outputs": [
    {
     "data": {
      "text/plain": [
       "'I have eaten 99 burritos.'"
      ]
     },
     "execution_count": 4,
     "metadata": {},
     "output_type": "execute_result"
    }
   ],
   "source": [
    "'I have eaten ' + '99' + ' burritos.'"
   ]
  },
  {
   "cell_type": "code",
   "execution_count": null,
   "id": "ab0478a8",
   "metadata": {},
   "outputs": [],
   "source": []
  }
 ],
 "metadata": {
  "kernelspec": {
   "display_name": "Python 3 (ipykernel)",
   "language": "python",
   "name": "python3"
  },
  "language_info": {
   "codemirror_mode": {
    "name": "ipython",
    "version": 3
   },
   "file_extension": ".py",
   "mimetype": "text/x-python",
   "name": "python",
   "nbconvert_exporter": "python",
   "pygments_lexer": "ipython3",
   "version": "3.9.7"
  }
 },
 "nbformat": 4,
 "nbformat_minor": 5
}
