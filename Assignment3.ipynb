{
 "cells": [
  {
   "cell_type": "markdown",
   "id": "de2dfe45",
   "metadata": {},
   "source": [
    "1.Why are functions advantageous to have in your programs?"
   ]
  },
  {
   "cell_type": "markdown",
   "id": "f3569a27",
   "metadata": {},
   "source": [
    "Ans: Because we need not to write same code again and again"
   ]
  },
  {
   "cell_type": "markdown",
   "id": "013d4a93",
   "metadata": {},
   "source": [
    "2.When does the code in a function run: when it's specified or when it's called?\n",
    "When it’s called?"
   ]
  },
  {
   "cell_type": "markdown",
   "id": "482fdf2c",
   "metadata": {},
   "source": [
    "When it’s called"
   ]
  },
  {
   "cell_type": "markdown",
   "id": "e43c2142",
   "metadata": {},
   "source": [
    "3.What statement creates a function?"
   ]
  },
  {
   "cell_type": "code",
   "execution_count": null,
   "id": "16a1a772",
   "metadata": {},
   "outputs": [],
   "source": [
    "def fun():\n",
    "    # some code here"
   ]
  },
  {
   "cell_type": "markdown",
   "id": "3c36d365",
   "metadata": {},
   "source": [
    "4.What is the difference between a function and a function call?"
   ]
  },
  {
   "cell_type": "markdown",
   "id": "f5c1ea60",
   "metadata": {},
   "source": [
    "Ans: Function means where some code has been written  and function call means  now its turn to execute some operation for which purpose specific code has been written in the function"
   ]
  },
  {
   "cell_type": "code",
   "execution_count": null,
   "id": "9f988647",
   "metadata": {},
   "outputs": [],
   "source": [
    "6.What happens to variables in a local scope when the function call returns?"
   ]
  },
  {
   "cell_type": "markdown",
   "id": "dbbfa27e",
   "metadata": {},
   "source": [
    "Ans: Variable in local scope returns the value"
   ]
  },
  {
   "cell_type": "markdown",
   "id": "e35045a7",
   "metadata": {},
   "source": [
    "7.What is the concept of a return value? Is it possible to have a return value in an expression?"
   ]
  },
  {
   "cell_type": "markdown",
   "id": "4320696d",
   "metadata": {},
   "source": [
    "Ans: The concept of return value is that after execute the function it returns some value if return statement is specified in the function.\n",
    "\n",
    "Ans2: No, it is not possible to have return value in an expression"
   ]
  },
  {
   "cell_type": "markdown",
   "id": "a7757bb6",
   "metadata": {},
   "source": [
    "8.If a function does not have a return statement, what is the return value of a call to that function?"
   ]
  },
  {
   "cell_type": "markdown",
   "id": "72367ec8",
   "metadata": {},
   "source": [
    "Ans: None"
   ]
  },
  {
   "cell_type": "markdown",
   "id": "930c03f4",
   "metadata": {},
   "source": [
    "9.How do you make a function variable refer to the global variable?"
   ]
  },
  {
   "cell_type": "markdown",
   "id": "6f2164fa",
   "metadata": {},
   "source": [
    "Ans: Using global keyword"
   ]
  },
  {
   "cell_type": "markdown",
   "id": "868ce3ee",
   "metadata": {},
   "source": [
    "10.What is the data type of None?"
   ]
  },
  {
   "cell_type": "code",
   "execution_count": 1,
   "id": "d24a36b9",
   "metadata": {},
   "outputs": [
    {
     "name": "stdout",
     "output_type": "stream",
     "text": [
      "<class 'NoneType'>\n"
     ]
    }
   ],
   "source": [
    "print(type(None))"
   ]
  },
  {
   "cell_type": "markdown",
   "id": "076e938b",
   "metadata": {},
   "source": [
    "12.If you had a bacon() feature in a spam module, what would you call it after importing spam?"
   ]
  },
  {
   "cell_type": "markdown",
   "id": "c74a7974",
   "metadata": {},
   "source": [
    "Ans: spam.bacon()"
   ]
  },
  {
   "cell_type": "markdown",
   "id": "fde9322a",
   "metadata": {},
   "source": [
    "13.What can you do to save a programme from crashing if it encounters an error?"
   ]
  },
  {
   "cell_type": "markdown",
   "id": "5fe08f14",
   "metadata": {},
   "source": [
    "Ans: I will use try-excepetion"
   ]
  },
  {
   "cell_type": "markdown",
   "id": "ca4fab3e",
   "metadata": {},
   "source": [
    "14.What is the purpose of the try clause? What is the purpose of the except clause?"
   ]
  },
  {
   "cell_type": "markdown",
   "id": "57afe896",
   "metadata": {},
   "source": [
    "The purpose of try is from where the code is written that may throw an error and the purpose of except clause is where the error is catched and an error message has been shown and as a result the programme runs  safely without crashing"
   ]
  }
 ],
 "metadata": {
  "kernelspec": {
   "display_name": "Python 3 (ipykernel)",
   "language": "python",
   "name": "python3"
  },
  "language_info": {
   "codemirror_mode": {
    "name": "ipython",
    "version": 3
   },
   "file_extension": ".py",
   "mimetype": "text/x-python",
   "name": "python",
   "nbconvert_exporter": "python",
   "pygments_lexer": "ipython3",
   "version": "3.9.7"
  }
 },
 "nbformat": 4,
 "nbformat_minor": 5
}
