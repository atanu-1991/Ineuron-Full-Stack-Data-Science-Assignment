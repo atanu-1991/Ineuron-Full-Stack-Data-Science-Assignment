{
 "cells": [
  {
   "cell_type": "code",
   "execution_count": 5,
   "id": "e3ad17e6",
   "metadata": {},
   "outputs": [
    {
     "name": "stdout",
     "output_type": "stream",
     "text": [
      "<class '__main__.Thing'>\n",
      "<__main__.Thing object at 0x0000029B2379DB50>\n"
     ]
    }
   ],
   "source": [
    "# 1:\n",
    "class Thing:\n",
    "    pass\n",
    "\n",
    "print(Thing)\n",
    "example = Thing()\n",
    "print(example)"
   ]
  },
  {
   "cell_type": "code",
   "execution_count": 7,
   "id": "8dd489f2",
   "metadata": {},
   "outputs": [
    {
     "name": "stdout",
     "output_type": "stream",
     "text": [
      "abc\n"
     ]
    }
   ],
   "source": [
    "# 2:\n",
    "class Thing2:\n",
    "    letters = 'abc'\n",
    "    \n",
    "ob = Thing2()\n",
    "print(ob.letters)"
   ]
  },
  {
   "cell_type": "code",
   "execution_count": 8,
   "id": "c8238461",
   "metadata": {},
   "outputs": [
    {
     "name": "stdout",
     "output_type": "stream",
     "text": [
      "xyz\n"
     ]
    }
   ],
   "source": [
    "# 3:\n",
    "class Thing3:\n",
    "    def __init__(self,letter):\n",
    "        self.letter = letter\n",
    "        \n",
    "    def letters(self):\n",
    "        print(self.letter)\n",
    "        \n",
    "        \n",
    "ob = Thing3('xyz')\n",
    "ob.letters()"
   ]
  },
  {
   "cell_type": "code",
   "execution_count": 9,
   "id": "38d7d93e",
   "metadata": {},
   "outputs": [],
   "source": [
    "# 4:\n",
    "class Element:\n",
    "    def __init__(self,name,symbol,number):\n",
    "        self.name = name\n",
    "        self.symbol = symbol\n",
    "        self.number = number\n",
    "        \n",
    "ob = Element('Hydrozen','H',1)"
   ]
  },
  {
   "cell_type": "code",
   "execution_count": 10,
   "id": "5753b213",
   "metadata": {},
   "outputs": [],
   "source": [
    "# 5:\n",
    "d = {'name': 'Hydrogen', 'symbol': 'H', 'number': 1}\n",
    "ob = Element(**d)"
   ]
  },
  {
   "cell_type": "code",
   "execution_count": 13,
   "id": "757351b1",
   "metadata": {},
   "outputs": [
    {
     "name": "stdout",
     "output_type": "stream",
     "text": [
      "Hydrogen\n",
      "H\n",
      "1\n"
     ]
    }
   ],
   "source": [
    "# 6:\n",
    "class Element:\n",
    "    def __init__(self,name,symbol,number):\n",
    "        self.name = name\n",
    "        self.symbol = symbol\n",
    "        self.number = number\n",
    "        \n",
    "    def  dump(self):\n",
    "        print(self.name)\n",
    "        print(self.symbol)\n",
    "        print(self.number)\n",
    "        \n",
    "hydrozen = Element(**d)\n",
    "hydrozen.dump()"
   ]
  },
  {
   "cell_type": "code",
   "execution_count": 14,
   "id": "6e55dce3",
   "metadata": {},
   "outputs": [
    {
     "name": "stdout",
     "output_type": "stream",
     "text": [
      "Hydrogen\n"
     ]
    }
   ],
   "source": [
    "# 7:\n",
    "class Element:\n",
    "    def __init__(self,name,symbol,number):\n",
    "        self.name = name\n",
    "        self.symbol = symbol\n",
    "        self.number = number\n",
    "        \n",
    "    def  __str__(self):\n",
    "        return self.name\n",
    "    \n",
    "hydrozen = Element(**d)\n",
    "print(hydrozen)"
   ]
  },
  {
   "cell_type": "code",
   "execution_count": 16,
   "id": "1946c1b6",
   "metadata": {},
   "outputs": [
    {
     "data": {
      "text/plain": [
       "'Hydrogen'"
      ]
     },
     "execution_count": 16,
     "metadata": {},
     "output_type": "execute_result"
    }
   ],
   "source": [
    "# 8:\n",
    "class Element:\n",
    "    def __init__(self,name,symbol,number):\n",
    "        self.__name = name\n",
    "        self.__symbol = symbol\n",
    "        self.__number = number\n",
    "    \n",
    "    @property\n",
    "    def name(self):\n",
    "        return(self.__name)\n",
    "    \n",
    "    \n",
    "    @property\n",
    "    def symbol(self):\n",
    "        return(self.__symbol)\n",
    "    \n",
    "    \n",
    "    @property\n",
    "    def number(self):\n",
    "        return(self.__number)\n",
    "    \n",
    "\n",
    "hydrozen = Element(**d)\n",
    "hydrozen.name"
   ]
  },
  {
   "cell_type": "code",
   "execution_count": 24,
   "id": "2de35236",
   "metadata": {},
   "outputs": [
    {
     "data": {
      "text/plain": [
       "'clover'"
      ]
     },
     "execution_count": 24,
     "metadata": {},
     "output_type": "execute_result"
    }
   ],
   "source": [
    "# 9:\n",
    "class Bear:\n",
    "    def eats(self):\n",
    "        return 'berries'\n",
    "    \n",
    "class Rabbit:\n",
    "    def eats(self):\n",
    "        return 'clover'\n",
    "    \n",
    "class Octothorpe:\n",
    "    def eats(self):\n",
    "        return 'campers'"
   ]
  },
  {
   "cell_type": "code",
   "execution_count": 25,
   "id": "4918c723",
   "metadata": {},
   "outputs": [
    {
     "data": {
      "text/plain": [
       "'berries'"
      ]
     },
     "execution_count": 25,
     "metadata": {},
     "output_type": "execute_result"
    }
   ],
   "source": [
    "ob = Bear()\n",
    "ob.eats()"
   ]
  },
  {
   "cell_type": "code",
   "execution_count": 26,
   "id": "1ebfd329",
   "metadata": {},
   "outputs": [
    {
     "data": {
      "text/plain": [
       "'clover'"
      ]
     },
     "execution_count": 26,
     "metadata": {},
     "output_type": "execute_result"
    }
   ],
   "source": [
    "ob2 = Rabbit()\n",
    "ob2.eats()"
   ]
  },
  {
   "cell_type": "code",
   "execution_count": 27,
   "id": "ac47b767",
   "metadata": {},
   "outputs": [
    {
     "data": {
      "text/plain": [
       "'campers'"
      ]
     },
     "execution_count": 27,
     "metadata": {},
     "output_type": "execute_result"
    }
   ],
   "source": [
    "ob3 = Octothorpe()\n",
    "ob3.eats()"
   ]
  },
  {
   "cell_type": "code",
   "execution_count": 32,
   "id": "0929e32e",
   "metadata": {},
   "outputs": [
    {
     "data": {
      "text/plain": [
       "'disintegrate'"
      ]
     },
     "execution_count": 32,
     "metadata": {},
     "output_type": "execute_result"
    }
   ],
   "source": [
    "# 10:\n",
    "class Laser:\n",
    "    def does():\n",
    "        return 'disintegrate'\n",
    "    \n",
    "class Claw:\n",
    "    def does():\n",
    "        return 'crush'\n",
    "    \n",
    "class SmartPhone:\n",
    "    def does():\n",
    "        return 'ring'\n",
    "    \n",
    "    \n",
    "class Robot:\n",
    "    def __init__(self,a):\n",
    "        self.a = a\n",
    "    \n",
    "    def does(self):\n",
    "        return self.a.does()\n",
    "    \n",
    "\n",
    "r= Robot(Laser)    \n",
    "r.does()"
   ]
  },
  {
   "cell_type": "code",
   "execution_count": null,
   "id": "60c1580e",
   "metadata": {},
   "outputs": [],
   "source": []
  }
 ],
 "metadata": {
  "kernelspec": {
   "display_name": "Python 3 (ipykernel)",
   "language": "python",
   "name": "python3"
  },
  "language_info": {
   "codemirror_mode": {
    "name": "ipython",
    "version": 3
   },
   "file_extension": ".py",
   "mimetype": "text/x-python",
   "name": "python",
   "nbconvert_exporter": "python",
   "pygments_lexer": "ipython3",
   "version": "3.9.7"
  }
 },
 "nbformat": 4,
 "nbformat_minor": 5
}
