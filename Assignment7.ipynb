{
 "cells": [
  {
   "cell_type": "markdown",
   "id": "82e3b6c5",
   "metadata": {},
   "source": [
    "1.What is the name of the feature responsible for generating Regex objects?"
   ]
  },
  {
   "cell_type": "code",
   "execution_count": null,
   "id": "fe6db751",
   "metadata": {},
   "outputs": [],
   "source": [
    "import re\n",
    "re.complile()"
   ]
  },
  {
   "cell_type": "markdown",
   "id": "f82dd058",
   "metadata": {},
   "source": [
    "2.Why do raw strings often appear in Regex objects?"
   ]
  },
  {
   "cell_type": "markdown",
   "id": "680e0859",
   "metadata": {},
   "source": [
    "Raw strings are used so that backslashes do not have to be escaped"
   ]
  },
  {
   "cell_type": "markdown",
   "id": "bb77ef8d",
   "metadata": {},
   "source": [
    "3.What is the return value of the search() method?"
   ]
  },
  {
   "cell_type": "code",
   "execution_count": null,
   "id": "0d1901d1",
   "metadata": {},
   "outputs": [],
   "source": [
    "When the search() method is called if it finds match more than one than it returns the first occurance of the match and\n",
    "if no matches are found than the value none is returned"
   ]
  },
  {
   "cell_type": "code",
   "execution_count": null,
   "id": "27702836",
   "metadata": {},
   "outputs": [],
   "source": [
    "4. From a Match item, how do you get the actual strings that match the pattern?"
   ]
  },
  {
   "cell_type": "code",
   "execution_count": 11,
   "id": "5989ffc8",
   "metadata": {},
   "outputs": [
    {
     "name": "stdout",
     "output_type": "stream",
     "text": [
      "Date of Birth is 26-07-1991\n"
     ]
    }
   ],
   "source": [
    "import re\n",
    "DateRegex = re.compile(r\"\\d\\d-\\d\\d-\\d\\d\\d\\d\")\n",
    "dob = DateRegex.search(\"My Date of birth is 26-07-1991\")\n",
    "print(\"Date of Birth is\",dob.group())"
   ]
  },
  {
   "cell_type": "markdown",
   "id": "6e46d98a",
   "metadata": {},
   "source": [
    "5.In the regex which created from the r'(\\d\\d\\d)-(\\d\\d\\d-\\d\\d\\d\\d)', what does group zero cover? Group 2? Group 1?"
   ]
  },
  {
   "cell_type": "code",
   "execution_count": 8,
   "id": "6e520595",
   "metadata": {},
   "outputs": [
    {
     "name": "stdout",
     "output_type": "stream",
     "text": [
      "123-456-7890\n",
      "123-456-7890\n",
      "123\n",
      "456-7890\n"
     ]
    }
   ],
   "source": [
    "NumRegex = re.compile(r'(\\d\\d\\d)-(\\d\\d\\d-\\d\\d\\d\\d)')\n",
    "numb = NumRegex.search(\"The Number is 123-456-7890\")\n",
    "print(numb.group())\n",
    "print(numb.group(0))\n",
    "print(numb.group(1))\n",
    "print(numb.group(2))"
   ]
  },
  {
   "cell_type": "markdown",
   "id": "6c22e144",
   "metadata": {},
   "source": [
    "6.In standard expression syntax, parentheses and intervals have distinct meanings. How can you tell a regex that you want it to fit real parentheses and periods?"
   ]
  },
  {
   "cell_type": "markdown",
   "id": "a2a4c810",
   "metadata": {},
   "source": [
    "Periods and parentheses can be escaped with a backslash: ., (, and )."
   ]
  },
  {
   "cell_type": "markdown",
   "id": "d1cf0ef3",
   "metadata": {},
   "source": [
    "7.The findall() method returns a string list or a list of string tuples. What causes it to return one of the two options?"
   ]
  },
  {
   "cell_type": "markdown",
   "id": "5949dc0e",
   "metadata": {},
   "source": [
    "If the regex has no groups, a list of strings is returned. If the regex has groups, a list of tuples of strings is returned."
   ]
  },
  {
   "cell_type": "markdown",
   "id": "44a76256",
   "metadata": {},
   "source": [
    "8.In standard expressions, what does the | character mean?"
   ]
  },
  {
   "cell_type": "markdown",
   "id": "fe724464",
   "metadata": {},
   "source": [
    "Either or"
   ]
  },
  {
   "cell_type": "code",
   "execution_count": 9,
   "id": "5adf8591",
   "metadata": {},
   "outputs": [
    {
     "data": {
      "text/plain": [
       "'Cricket'"
      ]
     },
     "execution_count": 9,
     "metadata": {},
     "output_type": "execute_result"
    }
   ],
   "source": [
    "sportRegex = re.compile(\"Cricket|Football\")\n",
    "sport1 = sportRegex.search(\"I love Cricket much more than Football\")\n",
    "sport1.group()"
   ]
  },
  {
   "cell_type": "code",
   "execution_count": 10,
   "id": "addcd6e1",
   "metadata": {},
   "outputs": [
    {
     "data": {
      "text/plain": [
       "'Football'"
      ]
     },
     "execution_count": 10,
     "metadata": {},
     "output_type": "execute_result"
    }
   ],
   "source": [
    "sport2 = sportRegex.search(\"I better understand Football with comparision to Cricket\")\n",
    "sport2.group()"
   ]
  },
  {
   "cell_type": "markdown",
   "id": "f1b947c1",
   "metadata": {},
   "source": [
    "9.In regular expressions, what does the character stand for?"
   ]
  },
  {
   "cell_type": "markdown",
   "id": "c784bf96",
   "metadata": {},
   "source": [
    "In regular expressions, character stands for special sequence of characters that helps to match or find other strings or sets of strings, using a specialized syntax held in a pattern"
   ]
  },
  {
   "cell_type": "markdown",
   "id": "4b25a214",
   "metadata": {},
   "source": [
    "10.In regular expressions, what is the difference between the + and * characters?"
   ]
  },
  {
   "cell_type": "markdown",
   "id": "86c6164f",
   "metadata": {},
   "source": [
    "+ = One or more occurrences\n",
    "* = Zero or more occurrences"
   ]
  },
  {
   "cell_type": "markdown",
   "id": "27aa2185",
   "metadata": {},
   "source": [
    "11.What is the difference between {4} and {4,5} in regular expression?"
   ]
  },
  {
   "cell_type": "markdown",
   "id": "515526d6",
   "metadata": {},
   "source": [
    "The {4} matches exactly four instances of the preceding group.\n",
    "\n",
    "The {4,5} matches between four and five instances"
   ]
  },
  {
   "cell_type": "markdown",
   "id": "98f3a0dd",
   "metadata": {},
   "source": [
    "12.What do you mean by the \\d, \\w, and \\s shorthand character classes signify in regular expressions?"
   ]
  },
  {
   "cell_type": "markdown",
   "id": "527f5984",
   "metadata": {},
   "source": [
    "\\d\tReturns a match where the string contains digits (numbers from 0-9)\n",
    "\\w\tReturns a match where the string contains any word characters (characters from a to Z, digits from 0-9, and the underscore _ character)\n",
    "\\s\tReturns a match where the string contains a white space character"
   ]
  },
  {
   "cell_type": "markdown",
   "id": "aaf7e8bb",
   "metadata": {},
   "source": [
    "13.What do means by \\D, \\W, and \\S shorthand character classes signify in regular expressions?"
   ]
  },
  {
   "cell_type": "markdown",
   "id": "746a40a9",
   "metadata": {},
   "source": [
    "\\D\tReturns a match where the string DOES NOT contain digits\n",
    "\\W\tReturns a match where the string DOES NOT contain any word characters\n",
    "\\S\tReturns a match where the string DOES NOT contain a white space character"
   ]
  },
  {
   "cell_type": "markdown",
   "id": "d36ed219",
   "metadata": {},
   "source": [
    "14.What is the difference between .* and .*?"
   ]
  },
  {
   "cell_type": "markdown",
   "id": "ba3a5ffd",
   "metadata": {},
   "source": [
    ".* is a Greedy mode, which returns the longest string that meets the condition. Whereas .*? is a non greedy mode which returns the shortest string that meets the condition."
   ]
  },
  {
   "cell_type": "code",
   "execution_count": 13,
   "id": "c95b684e",
   "metadata": {},
   "outputs": [
    {
     "data": {
      "text/plain": [
       "'<My name is>Atanu Kundu>'"
      ]
     },
     "execution_count": 13,
     "metadata": {},
     "output_type": "execute_result"
    }
   ],
   "source": [
    "greedyRegex = re.compile(r'<.*>')\n",
    "greedy_mode = greedyRegex.search('<My name is>Atanu Kundu>')\n",
    "greedy_mode.group()"
   ]
  },
  {
   "cell_type": "code",
   "execution_count": 17,
   "id": "3e6877df",
   "metadata": {},
   "outputs": [
    {
     "data": {
      "text/plain": [
       "'<My name is>'"
      ]
     },
     "execution_count": 17,
     "metadata": {},
     "output_type": "execute_result"
    }
   ],
   "source": [
    "nongreedyRegex = re.compile(r'<.*?>')\n",
    "non_greedy_mode = nongreedyRegex.search('<My name is>Atanu Kundu>')\n",
    "non_greedy_mode.group()"
   ]
  },
  {
   "cell_type": "markdown",
   "id": "67875f0a",
   "metadata": {},
   "source": [
    "15.What is the syntax for matching both numbers and lowercase letters with a character class?"
   ]
  },
  {
   "cell_type": "code",
   "execution_count": null,
   "id": "ce2b7170",
   "metadata": {},
   "outputs": [],
   "source": [
    "The Synatax is Either [a-z0-9] or [0-9a-z]"
   ]
  },
  {
   "cell_type": "code",
   "execution_count": null,
   "id": "723eed14",
   "metadata": {},
   "outputs": [],
   "source": [
    "reg1 = re.compile(r'[0-9a-z]')\n",
    "reg2 = re.compile(r'[a-z0-9]')"
   ]
  },
  {
   "cell_type": "markdown",
   "id": "f384c14c",
   "metadata": {},
   "source": [
    "16.What is the procedure for making a normal expression in regax case insensitive?"
   ]
  },
  {
   "cell_type": "markdown",
   "id": "1bf101bb",
   "metadata": {},
   "source": [
    "Passing re.I or re.IGNORECASE as the second argument to re.compile() will make the matching case insensitive"
   ]
  },
  {
   "cell_type": "code",
   "execution_count": 23,
   "id": "e76b13c6",
   "metadata": {},
   "outputs": [
    {
     "data": {
      "text/plain": [
       "'PYTHON'"
      ]
     },
     "execution_count": 23,
     "metadata": {},
     "output_type": "execute_result"
    }
   ],
   "source": [
    "caseInsens = re.compile(r'python',re.IGNORECASE)\n",
    "caseInSearch = caseInsens.search(\"PYTHON is best language for Data Science\")\n",
    "caseInSearch.group()"
   ]
  },
  {
   "cell_type": "markdown",
   "id": "7d33a40e",
   "metadata": {},
   "source": [
    "17.What does the . character normally match? What does it match if re.DOTALL is passed as 2nd argument in re.compile()?"
   ]
  },
  {
   "cell_type": "markdown",
   "id": "a19b8205",
   "metadata": {},
   "source": [
    "Dot . character matches everything in input except newline character .. By passing re.DOTALL as a flag to re.compile(), you can make the dot character match all characters, including the newline character."
   ]
  },
  {
   "cell_type": "code",
   "execution_count": 38,
   "id": "4a8ff953",
   "metadata": {},
   "outputs": [
    {
     "name": "stdout",
     "output_type": "stream",
     "text": [
      "<re.Match object; span=(0, 1), match='P'>\n",
      "<re.Match object; span=(1, 2), match='y'>\n",
      "<re.Match object; span=(2, 3), match='t'>\n",
      "<re.Match object; span=(3, 4), match='h'>\n",
      "<re.Match object; span=(4, 5), match='o'>\n",
      "<re.Match object; span=(5, 6), match='n'>\n",
      "<re.Match object; span=(6, 7), match=' '>\n",
      "<re.Match object; span=(7, 8), match='i'>\n",
      "<re.Match object; span=(8, 9), match='s'>\n",
      "<re.Match object; span=(9, 10), match=' '>\n",
      "<re.Match object; span=(10, 11), match='a'>\n",
      "<re.Match object; span=(11, 12), match=' '>\n",
      "<re.Match object; span=(12, 13), match='g'>\n",
      "<re.Match object; span=(13, 14), match='e'>\n",
      "<re.Match object; span=(14, 15), match='n'>\n",
      "<re.Match object; span=(15, 16), match='e'>\n",
      "<re.Match object; span=(16, 17), match='r'>\n",
      "<re.Match object; span=(17, 18), match='a'>\n",
      "<re.Match object; span=(18, 19), match='l'>\n",
      "<re.Match object; span=(19, 20), match='-'>\n",
      "<re.Match object; span=(20, 21), match='p'>\n",
      "<re.Match object; span=(21, 22), match='u'>\n",
      "<re.Match object; span=(22, 23), match='r'>\n",
      "<re.Match object; span=(23, 24), match='p'>\n",
      "<re.Match object; span=(24, 25), match='o'>\n",
      "<re.Match object; span=(25, 26), match='s'>\n",
      "<re.Match object; span=(26, 27), match='e'>\n",
      "<re.Match object; span=(27, 28), match=' '>\n",
      "<re.Match object; span=(28, 29), match='h'>\n",
      "<re.Match object; span=(29, 30), match='i'>\n",
      "<re.Match object; span=(30, 31), match='g'>\n",
      "<re.Match object; span=(31, 32), match='h'>\n",
      "<re.Match object; span=(32, 33), match='-'>\n",
      "<re.Match object; span=(33, 34), match='l'>\n",
      "<re.Match object; span=(34, 35), match='e'>\n",
      "<re.Match object; span=(35, 36), match='v'>\n",
      "<re.Match object; span=(36, 37), match='e'>\n",
      "<re.Match object; span=(37, 38), match='l'>\n",
      "<re.Match object; span=(38, 39), match=' '>\n",
      "<re.Match object; span=(39, 40), match='p'>\n",
      "<re.Match object; span=(40, 41), match='r'>\n",
      "<re.Match object; span=(41, 42), match='o'>\n",
      "<re.Match object; span=(42, 43), match='g'>\n",
      "<re.Match object; span=(43, 44), match='r'>\n",
      "<re.Match object; span=(44, 45), match='a'>\n",
      "<re.Match object; span=(45, 46), match='m'>\n",
      "<re.Match object; span=(46, 47), match='m'>\n",
      "<re.Match object; span=(47, 48), match='i'>\n",
      "<re.Match object; span=(48, 49), match='n'>\n",
      "<re.Match object; span=(49, 50), match='g'>\n",
      "<re.Match object; span=(50, 51), match=' '>\n",
      "<re.Match object; span=(51, 52), match='l'>\n",
      "<re.Match object; span=(52, 53), match='a'>\n",
      "<re.Match object; span=(53, 54), match='n'>\n",
      "<re.Match object; span=(54, 55), match='g'>\n",
      "<re.Match object; span=(55, 56), match='u'>\n",
      "<re.Match object; span=(56, 57), match='a'>\n",
      "<re.Match object; span=(57, 58), match='g'>\n",
      "<re.Match object; span=(58, 59), match='e'>\n",
      "<re.Match object; span=(59, 60), match='.'>\n",
      "<re.Match object; span=(60, 61), match='\\n'>\n",
      "<re.Match object; span=(61, 62), match='I'>\n",
      "<re.Match object; span=(62, 63), match='t'>\n",
      "<re.Match object; span=(63, 64), match=' '>\n",
      "<re.Match object; span=(64, 65), match='w'>\n",
      "<re.Match object; span=(65, 66), match='a'>\n",
      "<re.Match object; span=(66, 67), match='s'>\n",
      "<re.Match object; span=(67, 68), match=' '>\n",
      "<re.Match object; span=(68, 69), match='c'>\n",
      "<re.Match object; span=(69, 70), match='r'>\n",
      "<re.Match object; span=(70, 71), match='e'>\n",
      "<re.Match object; span=(71, 72), match='a'>\n",
      "<re.Match object; span=(72, 73), match='t'>\n",
      "<re.Match object; span=(73, 74), match='e'>\n",
      "<re.Match object; span=(74, 75), match='d'>\n",
      "<re.Match object; span=(75, 76), match=' '>\n",
      "<re.Match object; span=(76, 77), match='b'>\n",
      "<re.Match object; span=(77, 78), match='y'>\n",
      "<re.Match object; span=(78, 79), match=' '>\n",
      "<re.Match object; span=(79, 80), match='G'>\n",
      "<re.Match object; span=(80, 81), match='u'>\n",
      "<re.Match object; span=(81, 82), match='i'>\n",
      "<re.Match object; span=(82, 83), match='d'>\n",
      "<re.Match object; span=(83, 84), match='o'>\n",
      "<re.Match object; span=(84, 85), match=' '>\n",
      "<re.Match object; span=(85, 86), match='v'>\n",
      "<re.Match object; span=(86, 87), match='a'>\n",
      "<re.Match object; span=(87, 88), match='n'>\n",
      "<re.Match object; span=(88, 89), match=' '>\n",
      "<re.Match object; span=(89, 90), match='R'>\n",
      "<re.Match object; span=(90, 91), match='o'>\n",
      "<re.Match object; span=(91, 92), match='s'>\n",
      "<re.Match object; span=(92, 93), match='s'>\n",
      "<re.Match object; span=(93, 94), match='u'>\n",
      "<re.Match object; span=(94, 95), match='m'>\n",
      "<re.Match object; span=(95, 96), match=' '>\n",
      "<re.Match object; span=(96, 97), match='d'>\n",
      "<re.Match object; span=(97, 98), match='u'>\n",
      "<re.Match object; span=(98, 99), match='r'>\n",
      "<re.Match object; span=(99, 100), match='i'>\n",
      "<re.Match object; span=(100, 101), match='n'>\n",
      "<re.Match object; span=(101, 102), match='g'>\n",
      "<re.Match object; span=(102, 103), match=' '>\n",
      "<re.Match object; span=(103, 104), match='1'>\n",
      "<re.Match object; span=(104, 105), match='9'>\n",
      "<re.Match object; span=(105, 106), match='8'>\n",
      "<re.Match object; span=(106, 107), match='5'>\n",
      "<re.Match object; span=(107, 108), match='-'>\n",
      "<re.Match object; span=(108, 109), match=' '>\n",
      "<re.Match object; span=(109, 110), match='1'>\n",
      "<re.Match object; span=(110, 111), match='9'>\n",
      "<re.Match object; span=(111, 112), match='9'>\n",
      "<re.Match object; span=(112, 113), match='0'>\n",
      "<re.Match object; span=(113, 114), match='.'>\n",
      "<re.Match object; span=(114, 115), match='\\n'>\n",
      "<re.Match object; span=(115, 116), match='T'>\n",
      "<re.Match object; span=(116, 117), match='h'>\n",
      "<re.Match object; span=(117, 118), match='i'>\n",
      "<re.Match object; span=(118, 119), match='s'>\n",
      "<re.Match object; span=(119, 120), match=' '>\n",
      "<re.Match object; span=(120, 121), match='t'>\n",
      "<re.Match object; span=(121, 122), match='u'>\n",
      "<re.Match object; span=(122, 123), match='t'>\n",
      "<re.Match object; span=(123, 124), match='o'>\n",
      "<re.Match object; span=(124, 125), match='r'>\n",
      "<re.Match object; span=(125, 126), match='i'>\n",
      "<re.Match object; span=(126, 127), match='a'>\n",
      "<re.Match object; span=(127, 128), match='l'>\n",
      "<re.Match object; span=(128, 129), match=' '>\n",
      "<re.Match object; span=(129, 130), match='g'>\n",
      "<re.Match object; span=(130, 131), match='i'>\n",
      "<re.Match object; span=(131, 132), match='v'>\n",
      "<re.Match object; span=(132, 133), match='e'>\n",
      "<re.Match object; span=(133, 134), match='s'>\n",
      "<re.Match object; span=(134, 135), match=' '>\n",
      "<re.Match object; span=(135, 136), match='e'>\n",
      "<re.Match object; span=(136, 137), match='n'>\n",
      "<re.Match object; span=(137, 138), match='o'>\n",
      "<re.Match object; span=(138, 139), match='u'>\n",
      "<re.Match object; span=(139, 140), match='g'>\n",
      "<re.Match object; span=(140, 141), match='h'>\n",
      "<re.Match object; span=(141, 142), match=' '>\n",
      "<re.Match object; span=(142, 143), match='u'>\n",
      "<re.Match object; span=(143, 144), match='n'>\n",
      "<re.Match object; span=(144, 145), match='d'>\n",
      "<re.Match object; span=(145, 146), match='e'>\n",
      "<re.Match object; span=(146, 147), match='r'>\n",
      "<re.Match object; span=(147, 148), match='s'>\n",
      "<re.Match object; span=(148, 149), match='t'>\n",
      "<re.Match object; span=(149, 150), match='a'>\n",
      "<re.Match object; span=(150, 151), match='n'>\n",
      "<re.Match object; span=(151, 152), match='d'>\n",
      "<re.Match object; span=(152, 153), match='i'>\n",
      "<re.Match object; span=(153, 154), match='n'>\n",
      "<re.Match object; span=(154, 155), match='g'>\n",
      "<re.Match object; span=(155, 156), match=' '>\n",
      "<re.Match object; span=(156, 157), match='o'>\n",
      "<re.Match object; span=(157, 158), match='n'>\n",
      "<re.Match object; span=(158, 159), match=' '>\n",
      "<re.Match object; span=(159, 160), match='P'>\n",
      "<re.Match object; span=(160, 161), match='y'>\n",
      "<re.Match object; span=(161, 162), match='t'>\n",
      "<re.Match object; span=(162, 163), match='h'>\n",
      "<re.Match object; span=(163, 164), match='o'>\n",
      "<re.Match object; span=(164, 165), match='n'>\n",
      "<re.Match object; span=(165, 166), match=' '>\n",
      "<re.Match object; span=(166, 167), match='p'>\n",
      "<re.Match object; span=(167, 168), match='r'>\n",
      "<re.Match object; span=(168, 169), match='o'>\n",
      "<re.Match object; span=(169, 170), match='g'>\n",
      "<re.Match object; span=(170, 171), match='r'>\n",
      "<re.Match object; span=(171, 172), match='a'>\n",
      "<re.Match object; span=(172, 173), match='m'>\n",
      "<re.Match object; span=(173, 174), match='m'>\n",
      "<re.Match object; span=(174, 175), match='i'>\n",
      "<re.Match object; span=(175, 176), match='n'>\n",
      "<re.Match object; span=(176, 177), match='g'>\n",
      "<re.Match object; span=(177, 178), match=' '>\n",
      "<re.Match object; span=(178, 179), match='l'>\n",
      "<re.Match object; span=(179, 180), match='a'>\n",
      "<re.Match object; span=(180, 181), match='n'>\n",
      "<re.Match object; span=(181, 182), match='g'>\n",
      "<re.Match object; span=(182, 183), match='u'>\n",
      "<re.Match object; span=(183, 184), match='a'>\n",
      "<re.Match object; span=(184, 185), match='g'>\n",
      "<re.Match object; span=(185, 186), match='e'>\n",
      "<re.Match object; span=(186, 187), match='.'>\n",
      "<re.Match object; span=(187, 188), match='\\n'>\n"
     ]
    }
   ],
   "source": [
    "mystr = '''Python is a general-purpose high-level programming language.\n",
    "It was created by Guido van Rossum during 1985- 1990.\n",
    "This tutorial gives enough understanding on Python programming language.\n",
    "'''\n",
    "dotChar = re.compile(r'.',re.DOTALL)\n",
    "dotSearch = dotChar.finditer(mystr)\n",
    "for i in dotSearch:\n",
    "    print(i)"
   ]
  },
  {
   "cell_type": "markdown",
   "id": "4de16fe5",
   "metadata": {},
   "source": [
    "18.If numReg = re.compile(r'\\d+'), what will numRegex.sub('X', '11 drummers, 10 pipers, five rings, 4 hen') return?"
   ]
  },
  {
   "cell_type": "code",
   "execution_count": 39,
   "id": "f8f7ecc2",
   "metadata": {},
   "outputs": [
    {
     "data": {
      "text/plain": [
       "'X drummers, X pipers, five rings, X hen'"
      ]
     },
     "execution_count": 39,
     "metadata": {},
     "output_type": "execute_result"
    }
   ],
   "source": [
    "import re\n",
    "numReg = re.compile(r'\\d+')\n",
    "numReg.sub('X', '11 drummers, 10 pipers, five rings, 4 hen')"
   ]
  },
  {
   "cell_type": "markdown",
   "id": "1f3939e1",
   "metadata": {},
   "source": [
    "19.What does passing re.VERBOSE as the 2nd argument to re.compile() allow to do?"
   ]
  },
  {
   "cell_type": "markdown",
   "id": "ffe9621e",
   "metadata": {},
   "source": [
    "re.VERBOSE will allow to add whitespace and comments to string passed to re.compile()."
   ]
  },
  {
   "cell_type": "code",
   "execution_count": null,
   "id": "628c28c7",
   "metadata": {},
   "outputs": [],
   "source": [
    "# Without Using VERBOSE\n",
    "regex_email = re.compile(r'^([a-z0-9_\\.-]+)@([0-9a-z\\.-]+)\\.([a-z\\.]{2, 6})$', re.IGNORECASE)\n",
    " \n",
    "# Using VERBOSE\n",
    "regex_email = re.compile(r\"\"\"\n",
    "                            ^([a-z0-9_\\.-]+)              # local Part like username\n",
    "                            @                             # single @ sign \n",
    "                            ([0-9a-z\\.-]+)                # Domain name like google\n",
    "                            \\.                            # single Dot .\n",
    "                            ([a-z]{2,6})$                 # Top level Domain  like com/in/org\n",
    "                         \"\"\",re.VERBOSE | re.IGNORECASE) "
   ]
  },
  {
   "cell_type": "raw",
   "id": "5a53da90",
   "metadata": {},
   "source": [
    "20. How would you write a regex that match a number with comma for every three digits? It must match the given following:\n",
    "'42'\n",
    "'1,234'\n",
    "'6,368,745'\n",
    "but not the following:\n",
    "'12,34,567' (which has only two digits between the commas)\n",
    "'1234' (which lacks commas)\n"
   ]
  },
  {
   "cell_type": "code",
   "execution_count": 51,
   "id": "343e9d5f",
   "metadata": {},
   "outputs": [
    {
     "name": "stdout",
     "output_type": "stream",
     "text": [
      "Result: 42 -> <re.Match object; span=(0, 2), match='42'>\n",
      "Result: 1,234 -> <re.Match object; span=(0, 5), match='1,234'>\n",
      "Result: 6,368,745 -> <re.Match object; span=(0, 9), match='6,368,745'>\n",
      "Result: 12,34,567 -> None\n",
      "Result: 1234 -> None\n"
     ]
    }
   ],
   "source": [
    "matches=[\"42\",\"1,234\",\"6,368,745\",\"12,34,567\",\"1234\"]\n",
    "patt = re.compile(r'^\\d{1,3}(,\\d{3})*$')\n",
    "for match in matches:\n",
    "    print(\"Result:\",match,\"->\",patt.search(match))"
   ]
  },
  {
   "cell_type": "raw",
   "id": "71e09d2c",
   "metadata": {},
   "source": [
    "21. How would you write a regex that matches the full name of someone whose last name is Watanabe? You can assume that the first name that comes before it will always be one word that begins with a capital letter. The regex must match the following:\n",
    "'Haruto Watanabe'\n",
    "'Alice Watanabe'\n",
    "'RoboCop Watanabe'\n",
    "but not the following:\n",
    "'haruto Watanabe' (where the first name is not capitalized)\n",
    "'Mr. Watanabe' (where the preceding word has a nonletter character)\n",
    "'Watanabe' (which has no first name)\n",
    "'Haruto watanabe' (where Watanabe is not capitalized)"
   ]
  },
  {
   "cell_type": "code",
   "execution_count": 52,
   "id": "8fee35ed",
   "metadata": {},
   "outputs": [
    {
     "name": "stdout",
     "output_type": "stream",
     "text": [
      "Result: Haruto Watanabe -> <re.Match object; span=(0, 15), match='Haruto Watanabe'>\n",
      "Result: Alice Watanabe -> <re.Match object; span=(0, 14), match='Alice Watanabe'>\n",
      "Result: RoboCop Watanabe -> <re.Match object; span=(4, 16), match='Cop Watanabe'>\n",
      "Result: haruto Watanabe -> None\n",
      "Result: Mr. Watanabe -> None\n",
      "Result: Watanabe -> None\n",
      "Result: Haruto watanabe -> None\n"
     ]
    }
   ],
   "source": [
    "matches = ['Haruto Watanabe','Alice Watanabe','RoboCop Watanabe','haruto Watanabe','Mr. Watanabe','Watanabe','Haruto watanabe']\n",
    "patt = re.compile(r'[A-Z]{1}[a-z]*\\sWatanabe')\n",
    "for match in matches:\n",
    "    print(\"Result:\",match,\"->\",patt.search(match))"
   ]
  },
  {
   "cell_type": "raw",
   "id": "a6a5b26a",
   "metadata": {},
   "source": [
    "22. How would you write a regex that matches a sentence where the first word is either Alice, Bob, or Carol; the second word is either eats, pets, or throws; the third word is apples, cats, or baseballs; and the sentence ends with a period? This regex should be case-insensitive. It must match the following:\n",
    "'Alice eats apples.'\n",
    "'Bob pets cats.'\n",
    "'Carol throws baseballs.'\n",
    "'Alice throws Apples.'\n",
    "'BOB EATS CATS.'\n",
    "but not the following:\n",
    "'RoboCop eats apples.'\n",
    "'ALICE THROWS FOOTBALLS.'\n",
    "'Carol eats 7 cats.'"
   ]
  },
  {
   "cell_type": "code",
   "execution_count": 56,
   "id": "b833c454",
   "metadata": {},
   "outputs": [
    {
     "name": "stdout",
     "output_type": "stream",
     "text": [
      "Result: Alice eats apples. -> <re.Match object; span=(0, 18), match='Alice eats apples.'>\n",
      "Result: Bob pets cats. -> <re.Match object; span=(0, 14), match='Bob pets cats.'>\n",
      "Result: Carol throws baseballs. -> <re.Match object; span=(0, 23), match='Carol throws baseballs.'>\n",
      "Result: BOB EATS CATS. -> <re.Match object; span=(0, 14), match='BOB EATS CATS.'>\n",
      "Result: RoboCop eats apples. -> None\n",
      "Result: ALICE THROWS FOOTBALLS. -> None\n",
      "Result: Carol eats 7 cats. -> None\n"
     ]
    }
   ],
   "source": [
    "matches = ['Alice eats apples.','Bob pets cats.','Carol throws baseballs.','BOB EATS CATS.','RoboCop eats apples.','ALICE THROWS FOOTBALLS.','Carol eats 7 cats.']\n",
    "patt = re.compile(r'(Alice|Bob|Carol)\\s(eats|pets|throws)\\s(apples|cats|baseballs)\\.',re.IGNORECASE)\n",
    "for match in matches:\n",
    "    print(\"Result:\",match,\"->\",patt.search(match))"
   ]
  },
  {
   "cell_type": "code",
   "execution_count": null,
   "id": "148ece77",
   "metadata": {},
   "outputs": [],
   "source": []
  }
 ],
 "metadata": {
  "kernelspec": {
   "display_name": "Python 3 (ipykernel)",
   "language": "python",
   "name": "python3"
  },
  "language_info": {
   "codemirror_mode": {
    "name": "ipython",
    "version": 3
   },
   "file_extension": ".py",
   "mimetype": "text/x-python",
   "name": "python",
   "nbconvert_exporter": "python",
   "pygments_lexer": "ipython3",
   "version": "3.9.7"
  }
 },
 "nbformat": 4,
 "nbformat_minor": 5
}
