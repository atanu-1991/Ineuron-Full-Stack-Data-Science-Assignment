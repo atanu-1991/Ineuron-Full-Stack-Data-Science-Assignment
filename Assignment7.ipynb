{
 "cells": [
  {
   "cell_type": "markdown",
   "id": "88fa32e6",
   "metadata": {},
   "source": [
    "1. re.complile()"
   ]
  },
  {
   "cell_type": "markdown",
   "id": "680e0859",
   "metadata": {},
   "source": [
    "2. Raw string often appear in Regex objects because it use escap sequence character as a string\n",
    "example:"
   ]
  },
  {
   "cell_type": "code",
   "execution_count": 1,
   "id": "80bfe039",
   "metadata": {},
   "outputs": [
    {
     "name": "stdout",
     "output_type": "stream",
     "text": [
      "\\n\n"
     ]
    }
   ],
   "source": [
    "print(r\"\\n\")"
   ]
  },
  {
   "cell_type": "code",
   "execution_count": null,
   "id": "0d1901d1",
   "metadata": {},
   "outputs": [],
   "source": [
    "3. when the search() method is called if it finds match more than one than it returns the first occurance of the match and\n",
    "if no matches are found than the value none is returned"
   ]
  }
 ],
 "metadata": {
  "kernelspec": {
   "display_name": "Python 3 (ipykernel)",
   "language": "python",
   "name": "python3"
  },
  "language_info": {
   "codemirror_mode": {
    "name": "ipython",
    "version": 3
   },
   "file_extension": ".py",
   "mimetype": "text/x-python",
   "name": "python",
   "nbconvert_exporter": "python",
   "pygments_lexer": "ipython3",
   "version": "3.9.7"
  }
 },
 "nbformat": 4,
 "nbformat_minor": 5
}
