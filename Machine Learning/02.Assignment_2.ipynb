{
 "cells": [
  {
   "cell_type": "markdown",
   "id": "eae9c3b8",
   "metadata": {},
   "source": [
    "## Assignment 02 Solutions"
   ]
  },
  {
   "cell_type": "markdown",
   "id": "bea12fb8",
   "metadata": {},
   "source": [
    "#### 1. What is the concept of human learning? Please give two examples ?\n",
    "**Ans:** Human learning is the form of learning which requires higher order mental processes like thinking, reasoning, intelligence, etc.We learn different concepts from childhood. For example:\n",
    "\n",
    "1. Learning through Association - Classical Conditioning.\n",
    "2. Learning through consequences – Operant Conditioning.\n",
    "3. Learning through observation – Modeling/Observational Learning."
   ]
  },
  {
   "cell_type": "markdown",
   "id": "7f5d1b59",
   "metadata": {},
   "source": [
    "#### 2. What different forms of human learning are there? Are there any machine learning equivalents ?\n",
    "**Ans:** Different Forms of ML are as follows :\n",
    "\n",
    "* Artificial Intelligence Learning Theories. Machine Learning. Reinforcement Learning. Supervised Learning. Unsupervised Learning.\n",
    "* ML equivalents like Linear regression, decision trees, random forest and support vector machines are some commonly used techniques that are actually examples of supervised learning."
   ]
  },
  {
   "cell_type": "markdown",
   "id": "3fa44863",
   "metadata": {},
   "source": [
    "#### 3. What is machine learning, and how does it work? What are the key responsibilities of machine learning ?\n",
    "**Ans:** Machine learning is a branch of Artificial intelligence (AI) that teaches computers on how to think in a similar way to how humans do, like by Learning and improving upon past experiences.\n",
    "\n",
    "* It works by exploring data and identifying patterns, and involves minimal human intervention.\n",
    "Roles and responsibilities of a machine learning engineer are:\n",
    "\n",
    "* Designing ML systems.\n",
    "* Researching and implementing ML algorithms and tools. Selecting appropriate data sets.\n",
    "* Picking appropriate data representation methods. Identifying differences in data distribution that affects model performance. Verifying data quality."
   ]
  },
  {
   "cell_type": "markdown",
   "id": "f85cf337",
   "metadata": {},
   "source": [
    "#### 4. Define the terms \"penalty\" and \"reward\" in the context of reinforcement learning ?\n",
    "**Ans:** A Reinforcement Learning Algorithm, which may also be referred to as an agent, learns by interacting with its environment. The agent receives rewards by performing correctly and penalties for performing incorrectly. The agent learns without intervention from a human by maximizing its reward and minimizing its penalty."
   ]
  },
  {
   "cell_type": "markdown",
   "id": "6fb168f0",
   "metadata": {},
   "source": [
    "#### 5. Explain the term \"learning as a search\" ?\n",
    "**Ans:** Learning can be viewed as a search through the space of all sentences in a concept description language for a sentence that best describes the data. Alternatively, it can be viewed as a search through all hypotheses in a hypothesis space."
   ]
  },
  {
   "cell_type": "markdown",
   "id": "e19fbb80",
   "metadata": {},
   "source": [
    "#### 6. What are the various goals of machine learning? What is the relationship between these and human learning ?\n",
    "**Ans:** The Goal of machine learning, closely coupled with the goal of AI, is to achieve a through understanding about the nature of learning process (both human learning and other forms of learning), about the computational aspects of learning behaviors, and to implant the learning capability in computer systems.\n",
    "\n",
    "Humans have the ability to learn, however with the progress in artificial intelligence, machine learning has become a resource which can augment or even replace human learning. Learning does not happen all at once, but it builds upon and is shaped by previous knowledge."
   ]
  },
  {
   "cell_type": "markdown",
   "id": "3c112318",
   "metadata": {},
   "source": [
    "#### 7. Illustrate the various elements of machine learning using a real-life illustration ?\n",
    "**Ans:** The Various elements of the the Machine Learning are:\n",
    "\n",
    "1. Data\n",
    "2. Task\n",
    "3. Model\n",
    "4. Loss Function\n",
    "5. Learning Algorithm\n",
    "6. Evaluation"
   ]
  },
  {
   "cell_type": "markdown",
   "id": "30664acd",
   "metadata": {},
   "source": [
    "#### 8. Provide an example of the abstraction method ?\n",
    "**Ans:** In Machine Learning, Abstraction is supported primarily at the level of modules. This can be justified in two ways: first, Data abstraction is mostly a question of program interfaces and therefore it arises naturally at the point where we have to consider program composition and modules."
   ]
  },
  {
   "cell_type": "markdown",
   "id": "8c29ec59",
   "metadata": {},
   "source": [
    "#### 9. What is the concept of generalization? What function does it play in the machine learning process ?\n",
    "**Ans:** Generalization refers to your model's ability to adapt properly to new, previously unseen data, drawn from the same distribution as the one used to create the model.\n",
    "\n",
    "In machine learning, generalization is a definition to demonstrate how well is a trained model to classify or forecast unseen data.This issue can result to classify an actual dog image as a cat from the unseen dataset. Therefore, data diversity is very important factor in order to make a good prediction."
   ]
  },
  {
   "cell_type": "markdown",
   "id": "87cdee09",
   "metadata": {},
   "source": [
    "#### 10. What is classification, exactly? What are the main distinctions between classification and regression ?\n",
    "**Ans:** In Machine Learning, Classification refers to a predictive modeling problem where a class label is predicted for a given example of input data.Classification is the task of predicting a discrete class label. Whereas Regression is the task of predicting a continuous quantity."
   ]
  },
  {
   "cell_type": "markdown",
   "id": "f6d2fc92",
   "metadata": {},
   "source": [
    "#### 11. What is regression, and how does it work? Give an example of a real-world problem that was solved using regression ?\n",
    "**Ans:** Regression is a Supervised Machine Learning technique which is used to predict continuous values. The ultimate goal of a regression algorithm is to plot a best-fit line or a curve between the data.\n",
    "\n",
    "The three main metrics that are used for evaluating the trained regression model are **Variance**, **Bias** and **Error**.\n",
    "\n",
    "A simple linear regression real life example could mean you finding a relationship between the revenue and temperature, with a sample size for revenue as the dependent variable. In case of multiple variable regression, you can find the relationship between temperature, pricing and number of workers to the revenue."
   ]
  },
  {
   "cell_type": "markdown",
   "id": "f223d6df",
   "metadata": {},
   "source": [
    "#### 12. Describe the clustering mechanism in detail ?\n",
    "**Ans:** Clustering is the task of dividing the population or data points into a number of groups such that data points in the same groups are more similar to other data points in the same group than those in other groups. In simple words, the aim is to segregate groups with similar traits and assign them into clusters."
   ]
  },
  {
   "cell_type": "markdown",
   "id": "0f33bea3",
   "metadata": {},
   "source": [
    "#### 13. Make brief observations on two of the following topics ?\n",
    "Machine learning algorithms are used\n",
    "Studying under supervision\n",
    "Studying without supervision\n",
    "Reinforcement learning is a form of learning based on positive reinforcement.\n",
    "**Ans:** The breif observations on the following two topics is:\n",
    "\n",
    "**Machine learning algorithms are used:** At its Most basic, Machine Learning uses programmed algorithms that receive and analyse input data to predict output values within an acceptable range. As new data is fed to these algorithms, they learn and optimise their operations to improve performance, developing intelligence over time.\n",
    "\n",
    "**Studying Under Supervision**: In machine learning, there are two important categories- Supervised and Unsupervised learning.Supervised learning, an algorithm learns from a training dataset. We know the correct answers or desired output, the algorithm makes predictions using the given dataset and is corrected by the “supervisor”."
   ]
  },
  {
   "cell_type": "code",
   "execution_count": null,
   "id": "65e79f10",
   "metadata": {},
   "outputs": [],
   "source": []
  }
 ],
 "metadata": {
  "kernelspec": {
   "display_name": "Python 3 (ipykernel)",
   "language": "python",
   "name": "python3"
  },
  "language_info": {
   "codemirror_mode": {
    "name": "ipython",
    "version": 3
   },
   "file_extension": ".py",
   "mimetype": "text/x-python",
   "name": "python",
   "nbconvert_exporter": "python",
   "pygments_lexer": "ipython3",
   "version": "3.9.7"
  }
 },
 "nbformat": 4,
 "nbformat_minor": 5
}
