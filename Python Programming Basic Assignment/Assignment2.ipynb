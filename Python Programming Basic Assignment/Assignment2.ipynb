{
 "cells": [
  {
   "cell_type": "markdown",
   "id": "ffb501c1",
   "metadata": {},
   "source": [
    "#### 1.\tWrite a Python program to convert kilometers to miles?"
   ]
  },
  {
   "cell_type": "code",
   "execution_count": 4,
   "id": "3ec9d0d8",
   "metadata": {},
   "outputs": [
    {
     "name": "stdout",
     "output_type": "stream",
     "text": [
      "Enter the Kilometer value 2\n",
      "2 kilometer = 1.242 miles\n"
     ]
    }
   ],
   "source": [
    "def kiloTomile(kilo):\n",
    "    mile = kilo * 0.621\n",
    "    print(f\"{kilo} kilometer = {mile} miles\")\n",
    "    \n",
    "kilo = int(input(\"Enter the Kilometer value \"))    \n",
    "kiloTomile(kilo)    "
   ]
  },
  {
   "cell_type": "markdown",
   "id": "4c51a7e8",
   "metadata": {},
   "source": [
    "#### 2.\tWrite a Python program to convert Celsius to Fahrenheit?"
   ]
  },
  {
   "cell_type": "code",
   "execution_count": 6,
   "id": "5edeec1b",
   "metadata": {},
   "outputs": [
    {
     "name": "stdout",
     "output_type": "stream",
     "text": [
      "Enter the Celsius Value 0\n",
      "0 degree celsius = 32.0 degree farhenheit\n"
     ]
    }
   ],
   "source": [
    "def celsiusToFarhenheit(celsi):\n",
    "    farhenheit = (9 * celsi + 160) / 5\n",
    "    print(f\"{celsi} degree celsius = {farhenheit} degree farhenheit\")\n",
    "    \n",
    "celsius = int(input(\"Enter the Celsius Value \"))\n",
    "celsiusToFarhenheit(celsius)"
   ]
  },
  {
   "cell_type": "markdown",
   "id": "6a45f222",
   "metadata": {},
   "source": [
    "#### 3.\tWrite a Python program to display calendar?"
   ]
  },
  {
   "cell_type": "code",
   "execution_count": 3,
   "id": "330bb1c2",
   "metadata": {},
   "outputs": [
    {
     "name": "stdout",
     "output_type": "stream",
     "text": [
      "Enter the Calendar Year: 1991\n",
      "                                  1991\n",
      "\n",
      "      January                   February                   March\n",
      "Mo Tu We Th Fr Sa Su      Mo Tu We Th Fr Sa Su      Mo Tu We Th Fr Sa Su\n",
      "    1  2  3  4  5  6                   1  2  3                   1  2  3\n",
      " 7  8  9 10 11 12 13       4  5  6  7  8  9 10       4  5  6  7  8  9 10\n",
      "14 15 16 17 18 19 20      11 12 13 14 15 16 17      11 12 13 14 15 16 17\n",
      "21 22 23 24 25 26 27      18 19 20 21 22 23 24      18 19 20 21 22 23 24\n",
      "28 29 30 31               25 26 27 28               25 26 27 28 29 30 31\n",
      "\n",
      "       April                      May                       June\n",
      "Mo Tu We Th Fr Sa Su      Mo Tu We Th Fr Sa Su      Mo Tu We Th Fr Sa Su\n",
      " 1  2  3  4  5  6  7             1  2  3  4  5                      1  2\n",
      " 8  9 10 11 12 13 14       6  7  8  9 10 11 12       3  4  5  6  7  8  9\n",
      "15 16 17 18 19 20 21      13 14 15 16 17 18 19      10 11 12 13 14 15 16\n",
      "22 23 24 25 26 27 28      20 21 22 23 24 25 26      17 18 19 20 21 22 23\n",
      "29 30                     27 28 29 30 31            24 25 26 27 28 29 30\n",
      "\n",
      "        July                     August                  September\n",
      "Mo Tu We Th Fr Sa Su      Mo Tu We Th Fr Sa Su      Mo Tu We Th Fr Sa Su\n",
      " 1  2  3  4  5  6  7                1  2  3  4                         1\n",
      " 8  9 10 11 12 13 14       5  6  7  8  9 10 11       2  3  4  5  6  7  8\n",
      "15 16 17 18 19 20 21      12 13 14 15 16 17 18       9 10 11 12 13 14 15\n",
      "22 23 24 25 26 27 28      19 20 21 22 23 24 25      16 17 18 19 20 21 22\n",
      "29 30 31                  26 27 28 29 30 31         23 24 25 26 27 28 29\n",
      "                                                    30\n",
      "\n",
      "      October                   November                  December\n",
      "Mo Tu We Th Fr Sa Su      Mo Tu We Th Fr Sa Su      Mo Tu We Th Fr Sa Su\n",
      "    1  2  3  4  5  6                   1  2  3                         1\n",
      " 7  8  9 10 11 12 13       4  5  6  7  8  9 10       2  3  4  5  6  7  8\n",
      "14 15 16 17 18 19 20      11 12 13 14 15 16 17       9 10 11 12 13 14 15\n",
      "21 22 23 24 25 26 27      18 19 20 21 22 23 24      16 17 18 19 20 21 22\n",
      "28 29 30 31               25 26 27 28 29 30         23 24 25 26 27 28 29\n",
      "                                                    30 31\n",
      "\n"
     ]
    }
   ],
   "source": [
    "import calendar\n",
    "\n",
    "def showCalendar(year):\n",
    "    print(calendar.calendar(year))\n",
    "    \n",
    "year = int(input(\"Enter the Calendar Year: \"))\n",
    "showCalendar(year)"
   ]
  },
  {
   "cell_type": "markdown",
   "id": "61b3890a",
   "metadata": {},
   "source": [
    "#### 4.\tWrite a Python program to solve quadratic equation?"
   ]
  },
  {
   "cell_type": "code",
   "execution_count": 7,
   "id": "ce6cd07c",
   "metadata": {},
   "outputs": [
    {
     "name": "stdout",
     "output_type": "stream",
     "text": [
      "Enter the coefficient a 2\n",
      "Enter the coefficient b 3\n",
      "Enter the coefficient c 5\n",
      "The r1 and r2 are unreal or imaginary\n",
      "The value of r1 is (-0.75+1.3919410907075054j) and r2 is (-0.75-1.3919410907075054j)\n"
     ]
    }
   ],
   "source": [
    "import math\n",
    "import cmath\n",
    "\n",
    "def quardtic_equation(a,b,c):\n",
    "    discriminant = b*b - 4 * a * c\n",
    "    if(discriminant == 0):\n",
    "        r1 = -b/2*a\n",
    "        r2 = -b/2*a\n",
    "        print(\"The r1 and r2 are real and equal\")\n",
    "        print(f\"The value of r1 is {r1} and r2 is {r2}\")\n",
    "        \n",
    "    elif(discriminant>0):\n",
    "        r1 = (-b + math.sqrt(discriminant))/ (2 * a)\n",
    "        r2 = (-b - math.sqrt(discriminant)) / (2 * a)\n",
    "        print(\"The r1 and r2 are real and different\")\n",
    "        print(f\"The value of r1 is {r1} and r2 is {r2}\")\n",
    "        \n",
    "    elif(discriminant<0):\n",
    "        r1 = (-b + cmath.sqrt(discriminant)) / (2 * a)\n",
    "        r2 = (-b - cmath.sqrt(discriminant)) / (2 * a)\n",
    "        print(\"The r1 and r2 are unreal or imaginary\")\n",
    "        print(f\"The value of r1 is {r1} and r2 is {r2}\")\n",
    "        \n",
    "\n",
    "a = int(input(\"Enter the coefficient a \"))\n",
    "b = int(input(\"Enter the coefficient b \"))\n",
    "c = int(input(\"Enter the coefficient c \"))\n",
    "\n",
    "quardtic_equation(a,b,c)"
   ]
  },
  {
   "cell_type": "markdown",
   "id": "ccc67545",
   "metadata": {},
   "source": [
    "#### 5.\tWrite a Python program to swap two variables without temp variable?"
   ]
  },
  {
   "cell_type": "code",
   "execution_count": 8,
   "id": "74ffb75f",
   "metadata": {},
   "outputs": [
    {
     "name": "stdout",
     "output_type": "stream",
     "text": [
      "Enter the First Number2\n",
      "Enter the Second Number3\n",
      "The First Number is 3 and The Second Number is 2\n"
     ]
    }
   ],
   "source": [
    "def swap_num(firstNum,secondNum):\n",
    "    firstNum , secondNum = secondNum , firstNum\n",
    "    print(f\"The First Number is {firstNum} and The Second Number is {secondNum}\")\n",
    "    \n",
    "fNum = int(input(\"Enter the First Number\"))\n",
    "sNum = int(input(\"Enter the Second Number\"))\n",
    "\n",
    "swap_num(fNum,sNum)"
   ]
  },
  {
   "cell_type": "code",
   "execution_count": null,
   "id": "898c9d15",
   "metadata": {},
   "outputs": [],
   "source": []
  }
 ],
 "metadata": {
  "kernelspec": {
   "display_name": "Python 3 (ipykernel)",
   "language": "python",
   "name": "python3"
  },
  "language_info": {
   "codemirror_mode": {
    "name": "ipython",
    "version": 3
   },
   "file_extension": ".py",
   "mimetype": "text/x-python",
   "name": "python",
   "nbconvert_exporter": "python",
   "pygments_lexer": "ipython3",
   "version": "3.9.7"
  }
 },
 "nbformat": 4,
 "nbformat_minor": 5
}
