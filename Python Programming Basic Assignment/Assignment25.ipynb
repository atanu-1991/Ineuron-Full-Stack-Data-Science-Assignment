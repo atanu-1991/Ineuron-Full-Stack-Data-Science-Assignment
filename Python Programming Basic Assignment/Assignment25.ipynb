{
 "cells": [
  {
   "cell_type": "markdown",
   "id": "78424bb6",
   "metadata": {},
   "source": [
    "##### Question1\n",
    "#### Create a function that takes three integer arguments (a, b, c) and returns the amount of integers which are of equal value.\n",
    "##### Examples\n",
    "`equal(3, 4, 3) ➞ 2`\n",
    "\n",
    "`equal(1, 1, 1) ➞ 3`\n",
    "\n",
    "`equal(3, 4, 1) ➞ 0 `\n",
    "##### Notes\n",
    "Your function must return 0, 2 or 3.\n"
   ]
  },
  {
   "cell_type": "code",
   "execution_count": 31,
   "id": "c7daea0c",
   "metadata": {},
   "outputs": [],
   "source": [
    "def equal(num1,num2,num3):\n",
    "    count = 0\n",
    "    if(num1 == num2 and num1 == num3):\n",
    "        count = 3\n",
    "    elif(num1 == num2 or num2== num3 or num1 == num3):\n",
    "        count = 2\n",
    "    else:\n",
    "        count = 0\n",
    "        \n",
    "    return count\n",
    "        "
   ]
  },
  {
   "cell_type": "code",
   "execution_count": 38,
   "id": "764b763e",
   "metadata": {},
   "outputs": [
    {
     "data": {
      "text/plain": [
       "2"
      ]
     },
     "execution_count": 38,
     "metadata": {},
     "output_type": "execute_result"
    }
   ],
   "source": [
    "equal(3,4,3)"
   ]
  },
  {
   "cell_type": "code",
   "execution_count": 39,
   "id": "153acd17",
   "metadata": {},
   "outputs": [
    {
     "data": {
      "text/plain": [
       "3"
      ]
     },
     "execution_count": 39,
     "metadata": {},
     "output_type": "execute_result"
    }
   ],
   "source": [
    "equal(1,1,1)"
   ]
  },
  {
   "cell_type": "code",
   "execution_count": 40,
   "id": "a9f92ad6",
   "metadata": {},
   "outputs": [
    {
     "data": {
      "text/plain": [
       "0"
      ]
     },
     "execution_count": 40,
     "metadata": {},
     "output_type": "execute_result"
    }
   ],
   "source": [
    "equal(3,4,1)"
   ]
  },
  {
   "cell_type": "markdown",
   "id": "36f2188d",
   "metadata": {},
   "source": [
    "##### Question2\n",
    "#### Write a function that converts a dictionary into a list of keys-values tuples.\n",
    "##### Examples\n",
    "`dict_to_list({\n",
    "  \"D\": 1,\n",
    "  \"B\": 2,\n",
    "  \"C\": 3\n",
    "}) ➞ [(\"B\", 2), (\"C\", 3), (\"D\", 1)]`\n",
    "\n",
    "`dict_to_list({\n",
    "  \"likes\": 2,\n",
    "  \"dislikes\": 3,\n",
    "  \"followers\": 10\n",
    "}) ➞ [(\"dislikes\", 3), (\"followers\", 10), (\"likes\", 2)]`\n",
    "##### Notes\n",
    "Return the elements in the list in alphabetical order\n"
   ]
  },
  {
   "cell_type": "code",
   "execution_count": 53,
   "id": "9e241645",
   "metadata": {},
   "outputs": [
    {
     "name": "stdout",
     "output_type": "stream",
     "text": [
      "[('B', 2), ('C', 3), ('D', 1)]\n",
      "[('dislikes', 3), ('followers', 10), ('likes', 2)]\n"
     ]
    }
   ],
   "source": [
    "def dict_to_list(dictionary):\n",
    "    lst = list(dictionary.items())\n",
    "    print(sorted(lst))\n",
    "    \n",
    "dict_to_list({\"D\": 1,\"B\": 2,\"C\": 3})\n",
    "dict_to_list({\"likes\": 2,\"dislikes\": 3,\"followers\": 10})"
   ]
  },
  {
   "cell_type": "markdown",
   "id": "83892409",
   "metadata": {},
   "source": [
    "##### Question3\n",
    "#### Write a function that creates a dictionary with each (key, value) pair being the (lower case, upper case) versions of a letter, respectively.\n",
    "##### Examples\n",
    "`mapping([\"p\", \"s\"]) ➞ { \"p\": \"P\", \"s\": \"S\" }`\n",
    "\n",
    "`mapping([\"a\", \"b\", \"c\"]) ➞ { \"a\": \"A\", \"b\": \"B\", \"c\": \"C\" }`\n",
    "\n",
    "`mapping([\"a\", \"v\", \"y\", \"z\"]) ➞ { \"a\": \"A\", \"v\": \"V\", \"y\": \"Y\", \"z\": \"Z\" }`\n",
    "##### Notes\n",
    "All of the letters in the input list will always be lowercase\n"
   ]
  },
  {
   "cell_type": "code",
   "execution_count": 56,
   "id": "dbe3146f",
   "metadata": {},
   "outputs": [
    {
     "name": "stdout",
     "output_type": "stream",
     "text": [
      "{'p': 'P', 's': 'S'}\n",
      "{'a': 'A', 'b': 'B', 'c': 'C'}\n",
      "{'a': 'A', 'v': 'V', 'y': 'Y', 'z': 'Z'}\n"
     ]
    }
   ],
   "source": [
    "def mapping(lst):\n",
    "    dictionary = {}\n",
    "    for i in lst:\n",
    "        dictionary[i] = i.capitalize()\n",
    "        \n",
    "    print(dictionary)\n",
    "\n",
    "mapping([\"p\", \"s\"])\n",
    "mapping([\"a\", \"b\", \"c\"])\n",
    "mapping([\"a\", \"v\", \"y\", \"z\"])"
   ]
  },
  {
   "cell_type": "markdown",
   "id": "83aa55ce",
   "metadata": {},
   "source": [
    "##### Question4\n",
    "#### Write a function, that replaces all vowels in a string with a specified vowel.\n",
    "##### Examples\n",
    "`vow_replace(\"apples and bananas\", \"u\") ➞ \"upplus und bununus\"`\n",
    "\n",
    "`vow_replace(\"cheese casserole\", \"o\") ➞ \"choosocossorolo\"`\n",
    "\n",
    "`vow_replace(\"stuffed jalapeno poppers\", \"e\") ➞ \"steffedjelepene peppers\"`\n",
    "##### Notes\n",
    "All words will be lowercase. Y is not considered a vowel\n"
   ]
  },
  {
   "cell_type": "code",
   "execution_count": 67,
   "id": "31bb7cb0",
   "metadata": {},
   "outputs": [
    {
     "name": "stdout",
     "output_type": "stream",
     "text": [
      "upplus und bununus\n",
      "chooso cossorolo\n",
      "steffed jelepene peppers\n"
     ]
    }
   ],
   "source": [
    "def vow_replace(txt,vowel):\n",
    "    vowels = \"AEIOUaeiou\"\n",
    "    for i in txt:\n",
    "        if i in vowels:\n",
    "            txt = txt.replace(i,vowel)\n",
    "            \n",
    "    print(txt)\n",
    "    \n",
    "vow_replace(\"apples and bananas\", \"u\")\n",
    "vow_replace(\"cheese casserole\", \"o\")\n",
    "vow_replace(\"stuffed jalapeno poppers\", \"e\")"
   ]
  },
  {
   "cell_type": "markdown",
   "id": "389f9a43",
   "metadata": {},
   "source": [
    "##### Question5\n",
    "#### Create a function that takes a string as input and capitalizes a letter if its ASCII code is even and returns its lower case version if its ASCII code is odd.\n",
    "##### Examples\n",
    "`ascii_capitalize(\"to be or not to be!\") ➞ \"To Be oRNoT To Be!\"`\n",
    "\n",
    "`ascii_capitalize(\"THE LITTLE MERMAID\") ➞ \"THeLiTTLemeRmaiD\"`\n",
    "\n",
    "`ascii_capitalize(\"Oh what a beautiful morning.\") ➞ \"oHwHaT a BeauTiFuLmoRNiNg.\"`\n"
   ]
  },
  {
   "cell_type": "code",
   "execution_count": 74,
   "id": "6f2230a6",
   "metadata": {},
   "outputs": [],
   "source": [
    "def ascii_capitalize(txt):\n",
    "    txtlist = []\n",
    "    for i in range(len(txt)):\n",
    "        if(ord(txt[i]) % 2 == 0):\n",
    "            txtlist.append(txt[i].upper())\n",
    "        else:\n",
    "            txtlist.append(txt[i].lower())\n",
    "            \n",
    "    return \"\".join(txtlist)"
   ]
  },
  {
   "cell_type": "code",
   "execution_count": 75,
   "id": "3f24d502",
   "metadata": {},
   "outputs": [
    {
     "data": {
      "text/plain": [
       "'To Be oR NoT To Be!'"
      ]
     },
     "execution_count": 75,
     "metadata": {},
     "output_type": "execute_result"
    }
   ],
   "source": [
    "ascii_capitalize(\"to be or not to be!\")"
   ]
  },
  {
   "cell_type": "code",
   "execution_count": 76,
   "id": "9cb740ca",
   "metadata": {},
   "outputs": [
    {
     "data": {
      "text/plain": [
       "'THe LiTTLe meRmaiD'"
      ]
     },
     "execution_count": 76,
     "metadata": {},
     "output_type": "execute_result"
    }
   ],
   "source": [
    "ascii_capitalize(\"THE LITTLE MERMAID\")"
   ]
  },
  {
   "cell_type": "code",
   "execution_count": 77,
   "id": "4845809d",
   "metadata": {},
   "outputs": [
    {
     "data": {
      "text/plain": [
       "'oH wHaT a BeauTiFuL moRNiNg.'"
      ]
     },
     "execution_count": 77,
     "metadata": {},
     "output_type": "execute_result"
    }
   ],
   "source": [
    "ascii_capitalize(\"Oh what a beautiful morning.\")"
   ]
  },
  {
   "cell_type": "code",
   "execution_count": null,
   "id": "ec0fdbb7",
   "metadata": {},
   "outputs": [],
   "source": []
  }
 ],
 "metadata": {
  "kernelspec": {
   "display_name": "Python 3 (ipykernel)",
   "language": "python",
   "name": "python3"
  },
  "language_info": {
   "codemirror_mode": {
    "name": "ipython",
    "version": 3
   },
   "file_extension": ".py",
   "mimetype": "text/x-python",
   "name": "python",
   "nbconvert_exporter": "python",
   "pygments_lexer": "ipython3",
   "version": "3.9.7"
  }
 },
 "nbformat": 4,
 "nbformat_minor": 5
}
