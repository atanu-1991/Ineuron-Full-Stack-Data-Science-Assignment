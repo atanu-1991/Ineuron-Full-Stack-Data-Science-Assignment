{
 "cells": [
  {
   "cell_type": "markdown",
   "id": "55a39e7c",
   "metadata": {},
   "source": [
    "#### 1.\tWrite a Python Program to Add Two Matrices?"
   ]
  },
  {
   "cell_type": "code",
   "execution_count": 11,
   "id": "a7e30219",
   "metadata": {},
   "outputs": [
    {
     "name": "stdout",
     "output_type": "stream",
     "text": [
      "Enter The Value of Row: 2\n",
      "Enter The Value of Column:2\n",
      "Enter Matrix A: \n",
      "Enter matrix[0][0]: 1\n",
      "Enter matrix[0][1]: 1\n",
      "Enter matrix[1][0]: 2\n",
      "Enter matrix[1][1]: 2\n",
      "Matrix A is: \n",
      "[1, 1]\n",
      "[2, 2]\n",
      "Enter Matrix B: \n",
      "Enter matrix[0][0]: 1\n",
      "Enter matrix[0][1]: 1\n",
      "Enter matrix[1][0]: 2\n",
      "Enter matrix[1][1]: 2\n",
      "Matrix B is:\n",
      "[1, 1]\n",
      "[2, 2]\n",
      "Sum of Matrix A and Matrix B is:\n",
      "[2, 2]\n",
      "[4, 4]\n"
     ]
    }
   ],
   "source": [
    "def createMatrix(r,c):\n",
    "    matrix = []\n",
    "    for i in range(r):\n",
    "        matrix_row = []\n",
    "        for j in range(c):\n",
    "            val = int(input(f\"Enter matrix[{i}][{j}]: \"))\n",
    "            matrix_row.append(val)\n",
    "            \n",
    "        matrix.append(matrix_row)\n",
    "        \n",
    "    return matrix  \n",
    " \n",
    "    \n",
    "    \n",
    "def sumMatrix(A,B):\n",
    "    C = []\n",
    "    for i in range(len(A)):\n",
    "        row = []\n",
    "        for j in range(len(A[i])):\n",
    "            sum = A[i][j] + B[i][j]\n",
    "            row.append(sum)\n",
    "            \n",
    "        C.append(row)\n",
    "        \n",
    "    return C\n",
    "  \n",
    "    \n",
    "    \n",
    "row = int(input(\"Enter The Value of Row: \"))\n",
    "column = int(input(\"Enter The Value of Column:\"))\n",
    "\n",
    "print(\"Enter Matrix A: \")\n",
    "matrix_A = createMatrix(row,column) \n",
    "print(\"Matrix A is: \")\n",
    "for row_line in matrix_A:\n",
    "    print(row_line)\n",
    "\n",
    "print(\"Enter Matrix B: \")\n",
    "matrix_B = createMatrix(row,column)\n",
    "print(\"Matrix B is:\")\n",
    "for row_line2 in matrix_B:\n",
    "    print(row_line2)\n",
    "\n",
    "matrix_C =sumMatrix(matrix_A,matrix_B)\n",
    "print(\"Sum of Matrix A and Matrix B is:\")\n",
    "for row_line3 in matrix_C:\n",
    "    print(row_line3)"
   ]
  },
  {
   "cell_type": "markdown",
   "id": "01a7f09a",
   "metadata": {},
   "source": [
    "#### 2.\tWrite a Python Program to Multiply Two Matrices?"
   ]
  },
  {
   "cell_type": "code",
   "execution_count": 15,
   "id": "12121ab5",
   "metadata": {},
   "outputs": [
    {
     "name": "stdout",
     "output_type": "stream",
     "text": [
      "Enter The Value of Row(Matrix A): 2\n",
      "Enter The Value of Column(Matrix A): 3\n",
      "Enter matrix[0][0]: 1\n",
      "Enter matrix[0][1]: 2\n",
      "Enter matrix[0][2]: 3\n",
      "Enter matrix[1][0]: 4\n",
      "Enter matrix[1][1]: 5\n",
      "Enter matrix[1][2]: 6\n",
      "Matrix A: \n",
      "[1, 2, 3]\n",
      "[4, 5, 6]\n",
      "Enter The Value of Row(Matrix B): 3\n",
      "Enter The Value of Column(Matrix B): 3\n",
      "Enter matrix[0][0]: 0\n",
      "Enter matrix[0][1]: 1\n",
      "Enter matrix[0][2]: 0\n",
      "Enter matrix[1][0]: 1\n",
      "Enter matrix[1][1]: 0\n",
      "Enter matrix[1][2]: 0\n",
      "Enter matrix[2][0]: 2\n",
      "Enter matrix[2][1]: 0\n",
      "Enter matrix[2][2]: 0\n",
      "Matrix B: \n",
      "[0, 1, 0]\n",
      "[1, 0, 0]\n",
      "[2, 0, 0]\n",
      "Length of column of Matrix A:  3\n",
      "Length of row of Matrix B:  3\n",
      "Matrix After Multiplication:\n",
      "[8, 1, 0]\n",
      "[17, 4, 0]\n"
     ]
    }
   ],
   "source": [
    "def creatMatrix(M):\n",
    "#     print(f\"Enter Matrix {M}\")\n",
    "    row = int(input(f\"Enter The Value of Row(Matrix {M}): \"))\n",
    "    column = int(input(f\"Enter The Value of Column(Matrix {M}): \"))\n",
    "    matrix = []\n",
    "    for i in range(row):\n",
    "        matrix_row = []\n",
    "        for j in range(column):\n",
    "            val = int(input(f\"Enter matrix[{i}][{j}]: \"))\n",
    "            matrix_row.append(val)\n",
    "            \n",
    "        matrix.append(matrix_row)\n",
    "        \n",
    "    return matrix  \n",
    "\n",
    "\n",
    "def multiplyMatrix(A,B):\n",
    "    len_columA = len(A[0])\n",
    "    print(\"Length of column of Matrix A: \",len_columA)\n",
    "    len_rowB = len(B)\n",
    "    print(\"Length of row of Matrix B: \",len_rowB)\n",
    "    \n",
    "    \n",
    "    if(len_columA == len_rowB):\n",
    "        rsultMatrix = []\n",
    "        for i in range(0,len(A)):\n",
    "            rowMatrix = []\n",
    "            for j in range(0,len(B[0])):\n",
    "                sum = 0\n",
    "                for k in range(0,len(B)):\n",
    "                    sum = sum + (A[i][k] * B[k][j])\n",
    "                    \n",
    "                rowMatrix.append(sum)\n",
    "                \n",
    "            rsultMatrix.append(rowMatrix)\n",
    "            \n",
    "        return rsultMatrix\n",
    "    \n",
    "    else:\n",
    "        print(\"Multplication of Matrix A and Matrix B is not possible\")\n",
    "            \n",
    "\n",
    "\n",
    "matrx_A = creatMatrix(\"A\")\n",
    "# print(matrx_A)\n",
    "print(\"Matrix A: \")\n",
    "for rowline in matrx_A:\n",
    "    print(rowline)\n",
    "matrx_B = creatMatrix(\"B\")\n",
    "# print(matrx_B)\n",
    "print(\"Matrix B: \")\n",
    "for rowline2 in matrx_B:\n",
    "    print(rowline2)\n",
    "matrx_C = multiplyMatrix(matrx_A,matrx_B)\n",
    "# print(matrx_C)\n",
    "print(\"Matrix After Multiplication:\")\n",
    "for rowline3 in matrx_C:\n",
    "    print(rowline3)"
   ]
  },
  {
   "cell_type": "markdown",
   "id": "dce7a944",
   "metadata": {},
   "source": [
    "#### 3.\tWrite a Python Program to Transpose a Matrix?"
   ]
  },
  {
   "cell_type": "code",
   "execution_count": 18,
   "id": "867a4c2f",
   "metadata": {},
   "outputs": [
    {
     "name": "stdout",
     "output_type": "stream",
     "text": [
      "[[1, 3, 5], [2, 4, 6]]\n"
     ]
    }
   ],
   "source": [
    "def transposeMatrx(A):\n",
    "    trans_matrix = []\n",
    "    for i in range(0,len(A[0])):\n",
    "        matrix_row = []\n",
    "        for j in range(0,len(A)):\n",
    "            matrix_row.append(A[j][i])\n",
    "            \n",
    "        trans_matrix.append(matrix_row)\n",
    "        \n",
    "    return trans_matrix\n",
    "        \n",
    "A = [[1,2],\n",
    "    [3,4],\n",
    "    [5,6]]\n",
    "\n",
    "matrixA = transposeMatrx(A)\n",
    "print(matrixA)"
   ]
  },
  {
   "cell_type": "markdown",
   "id": "536a18c4",
   "metadata": {},
   "source": [
    "#### 4.\tWrite a Python Program to Sort Words in Alphabetic Order?"
   ]
  },
  {
   "cell_type": "code",
   "execution_count": 36,
   "id": "453409c5",
   "metadata": {},
   "outputs": [
    {
     "name": "stdout",
     "output_type": "stream",
     "text": [
      "Enter a Sring: Ineuron Full Stack Data Science Boot Camp\n",
      "Boot Camp Data Full Ineuron Science Stack\n"
     ]
    }
   ],
   "source": [
    "sentence = input(\"Enter a Sring: \")\n",
    "\n",
    "word_list = sentence.split()\n",
    "word_list.sort()\n",
    "sorted_sentence = \" \".join(word_list)\n",
    "\n",
    "print(sorted_sentence)"
   ]
  },
  {
   "cell_type": "markdown",
   "id": "092f58c8",
   "metadata": {},
   "source": [
    "#### 5.\tWrite a Python Program to Remove Punctuation From a String?"
   ]
  },
  {
   "cell_type": "code",
   "execution_count": 44,
   "id": "ae612ddf",
   "metadata": {},
   "outputs": [
    {
     "name": "stdout",
     "output_type": "stream",
     "text": [
      "Enter A String: Topic: \"Full Stack (Data Science) Boot Cam\"p @ iNeuron\n",
      "Text After Eliminating Punctuations:  Topic Full Stack Data Science Boot Camp  iNeuron\n"
     ]
    }
   ],
   "source": [
    "def removePunctuations(in_string):\n",
    "    punctuations = '''!()-[]{};:'\"\\,<>./?@#$%^&*_~'''\n",
    "    out_string = \"\"\n",
    "    for i in in_string:\n",
    "        if i not in punctuations:\n",
    "            out_string = out_string + i\n",
    "            \n",
    "    return(out_string)\n",
    "    \n",
    "    \n",
    "puncTxt = input('Enter A String: ')\n",
    "plainTxt=removePunctuations(puncTxt)\n",
    "print(\"Text After Eliminating Punctuations: \",plainTxt)"
   ]
  },
  {
   "cell_type": "code",
   "execution_count": null,
   "id": "a3d82e99",
   "metadata": {},
   "outputs": [],
   "source": []
  }
 ],
 "metadata": {
  "kernelspec": {
   "display_name": "Python 3 (ipykernel)",
   "language": "python",
   "name": "python3"
  },
  "language_info": {
   "codemirror_mode": {
    "name": "ipython",
    "version": 3
   },
   "file_extension": ".py",
   "mimetype": "text/x-python",
   "name": "python",
   "nbconvert_exporter": "python",
   "pygments_lexer": "ipython3",
   "version": "3.9.7"
  }
 },
 "nbformat": 4,
 "nbformat_minor": 5
}
