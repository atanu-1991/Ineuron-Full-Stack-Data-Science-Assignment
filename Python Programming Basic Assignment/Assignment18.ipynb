{
 "cells": [
  {
   "cell_type": "markdown",
   "id": "581355ff",
   "metadata": {},
   "source": [
    "##### Question 1\n",
    "#### Create a function that takes a list of non-negative integers and strings and return a new list without the strings.\n",
    "##### Examples\n",
    "`filter_list([1, 2, \"a\", \"b\"]) ➞ [1, 2]`\n",
    "\n",
    "`filter_list([1, \"a\", \"b\", 0, 15]) ➞ [1, 0, 15]`\n",
    "\n",
    "`filter_list([1, 2, \"aasf\", \"1\", \"123\", 123]) ➞ [1, 2, 123]`\n",
    "\n"
   ]
  },
  {
   "cell_type": "code",
   "execution_count": 3,
   "id": "9a74d04b",
   "metadata": {},
   "outputs": [
    {
     "name": "stdout",
     "output_type": "stream",
     "text": [
      "[1, 2]\n",
      "[1, 0, 15]\n",
      "[1, 2, 123]\n"
     ]
    }
   ],
   "source": [
    "def filterNumber(list_value):\n",
    "    list_number = []\n",
    "    for i in list_value:\n",
    "        if type(i) == int:\n",
    "            list_number.append(i)\n",
    "            \n",
    "    print(list_number)\n",
    "\n",
    "filterNumber([1, 2, \"a\", \"b\"])\n",
    "filterNumber([1, \"a\", \"b\", 0, 15])\n",
    "filterNumber([1, 2, \"aasf\", \"1\", \"123\", 123])"
   ]
  },
  {
   "cell_type": "markdown",
   "id": "3d312428",
   "metadata": {},
   "source": [
    "##### Question 2\n",
    "#### The \"Reverser\" takes a string as input and returns that string in reverse order, with the opposite case.\n",
    "##### Examples\n",
    "`reverse(\"Hello World\") ➞ \"DLROwOLLEh\"`\n",
    "\n",
    "`reverse(\"ReVeRsE\") ➞ \"eSrEvEr\"`\n",
    "\n",
    "`reverse(\"Radar\") ➞ \"RADAr\"`\n"
   ]
  },
  {
   "cell_type": "code",
   "execution_count": 13,
   "id": "ba21b6fb",
   "metadata": {},
   "outputs": [],
   "source": [
    "def oppositeCase(txt):\n",
    "    if (txt.find(\" \")>0):\n",
    "        txt = \"\".join(txt.split(\" \"))\n",
    "    s = \"\"\n",
    "    for i in txt:\n",
    "        if (i == i.lower()):\n",
    "            s = s + i.upper()\n",
    "        else:\n",
    "            s = s + i.lower()\n",
    "            \n",
    "            \n",
    "    print(s[::-1])\n",
    "            "
   ]
  },
  {
   "cell_type": "code",
   "execution_count": 16,
   "id": "59066806",
   "metadata": {},
   "outputs": [
    {
     "name": "stdout",
     "output_type": "stream",
     "text": [
      "DLROwOLLEh\n",
      "eSrEvEr\n",
      "RADAr\n"
     ]
    }
   ],
   "source": [
    "oppositeCase(\"Hello World\")\n",
    "oppositeCase(\"ReVeRsE\")\n",
    "oppositeCase(\"Radar\")"
   ]
  },
  {
   "cell_type": "code",
   "execution_count": 17,
   "id": "5fe5901a",
   "metadata": {},
   "outputs": [],
   "source": [
    "# Alternate way to swap and reverse\n",
    "def oppositCasRever(txt):\n",
    "    if (txt.find(\" \")>0):\n",
    "        txt = \"\".join(txt.split(\" \"))\n",
    "    txt_swap =txt.swapcase()\n",
    "    print(txt_swap[::-1])"
   ]
  },
  {
   "cell_type": "code",
   "execution_count": 19,
   "id": "a00c0214",
   "metadata": {},
   "outputs": [
    {
     "name": "stdout",
     "output_type": "stream",
     "text": [
      "DLROwOLLEh\n",
      "eSrEvEr\n",
      "RADAr\n"
     ]
    }
   ],
   "source": [
    "oppositCasRever(\"Hello World\")\n",
    "oppositCasRever(\"ReVeRsE\")\n",
    "oppositCasRever(\"Radar\")"
   ]
  },
  {
   "cell_type": "markdown",
   "id": "f1fcc6c2",
   "metadata": {},
   "source": [
    "##### Question 3\n",
    "#### You can assign variables from lists like this:\n",
    "`lst = [1, 2, 3, 4, 5, 6]`  \n",
    "`first = lst[0]`  \n",
    "`middle = lst[1:-1]`  \n",
    "`last = lst[-1]`  \n",
    "\n",
    "`print(first) ➞ outputs 1`  \n",
    "`print(middle) ➞ outputs [2, 3, 4, 5]`  \n",
    "`print(last) ➞ outputs 6`  \n",
    "With Python 3, you can assign variables from lists in a much more succinct way. Create variables first, middle and last from the given list using destructuring assignment (check the Resources tab for some examples), where:\n",
    "\n",
    "`first  ➞ 1`\n",
    "\n",
    "`middle➞ [2, 3, 4, 5]`\n",
    "\n",
    "`last➞ 6`  \n",
    "\n",
    "Your task is to unpack the list writeyourcodehere into three variables, being first, middle, and last, with middle being everything in between the first and last element. Then print all three variables.\n"
   ]
  },
  {
   "cell_type": "code",
   "execution_count": 22,
   "id": "0d6f6e1c",
   "metadata": {},
   "outputs": [
    {
     "name": "stdout",
     "output_type": "stream",
     "text": [
      "first= 1\n",
      "middle= [2, 3, 4, 5]\n",
      "last= 6\n"
     ]
    }
   ],
   "source": [
    "lst = [1,2,3,4,5,6]\n",
    "first, *middle, last = lst\n",
    "print(f\"first= {first}\")\n",
    "print(f\"middle= {middle}\")\n",
    "print(f\"last= {last}\")"
   ]
  },
  {
   "cell_type": "markdown",
   "id": "be83a44e",
   "metadata": {},
   "source": [
    "##### Question 4\n",
    "#### Write a function that calculates the factorial of a number recursively.\n",
    "##### Examples\n",
    "`factorial(5) ➞ 120`\n",
    "\n",
    "`factorial(3) ➞ 6`\n",
    "\n",
    "`factorial(1) ➞ 1`\n",
    "\n",
    "`factorial(0) ➞ 1`\n"
   ]
  },
  {
   "cell_type": "code",
   "execution_count": 23,
   "id": "51024a1d",
   "metadata": {},
   "outputs": [],
   "source": [
    "def factNumRecu(num):\n",
    "    if(num==1):\n",
    "        return 1\n",
    "    else:\n",
    "        return num * factNumRecu(num - 1)\n",
    "    "
   ]
  },
  {
   "cell_type": "code",
   "execution_count": 24,
   "id": "59767b09",
   "metadata": {},
   "outputs": [
    {
     "name": "stdout",
     "output_type": "stream",
     "text": [
      "120\n"
     ]
    }
   ],
   "source": [
    "result = factNumRecu(5)\n",
    "print(result)"
   ]
  },
  {
   "cell_type": "markdown",
   "id": "7afc45fd",
   "metadata": {},
   "source": [
    "##### Question 5\n",
    "#### Write a function that moves all elements of one type to the end of the list.\n",
    "##### Examples\n",
    "`move_to_end([1, 3, 2, 4, 4, 1], 1) ➞ [3, 2, 4, 4, 1, 1]`\n",
    "`# Move all the 1s to the end of the array.`\n",
    "\n",
    "`move_to_end([7, 8, 9, 1, 2, 3, 4], 9) ➞ [7, 8, 1, 2, 3, 4, 9]`\n",
    "\n",
    "`move_to_end([\"a\", \"a\", \"a\", \"b\"], \"a\") ➞ [\"b\", \"a\", \"a\", \"a\"]`\n"
   ]
  },
  {
   "cell_type": "code",
   "execution_count": 25,
   "id": "18969fa5",
   "metadata": {},
   "outputs": [],
   "source": [
    "def moveToEnd(lst,movNum):\n",
    "    for i in lst:\n",
    "        if i == movNum:\n",
    "            lst.remove(i)\n",
    "            lst.append(i)\n",
    "            \n",
    "    print(lst)"
   ]
  },
  {
   "cell_type": "code",
   "execution_count": 28,
   "id": "59cc8a4d",
   "metadata": {},
   "outputs": [
    {
     "name": "stdout",
     "output_type": "stream",
     "text": [
      "[3, 2, 4, 4, 1, 1]\n",
      "[7, 8, 1, 2, 3, 4, 9]\n",
      "['b', 'a', 'a', 'a']\n"
     ]
    }
   ],
   "source": [
    "moveToEnd([1, 3, 2, 4, 4, 1],1)\n",
    "moveToEnd([7, 8, 9, 1, 2, 3, 4],9)\n",
    "moveToEnd([\"a\",\"a\",\"a\",\"b\"],\"a\")"
   ]
  },
  {
   "cell_type": "code",
   "execution_count": null,
   "id": "d8b6ebb1",
   "metadata": {},
   "outputs": [],
   "source": []
  }
 ],
 "metadata": {
  "kernelspec": {
   "display_name": "Python 3 (ipykernel)",
   "language": "python",
   "name": "python3"
  },
  "language_info": {
   "codemirror_mode": {
    "name": "ipython",
    "version": 3
   },
   "file_extension": ".py",
   "mimetype": "text/x-python",
   "name": "python",
   "nbconvert_exporter": "python",
   "pygments_lexer": "ipython3",
   "version": "3.9.7"
  }
 },
 "nbformat": 4,
 "nbformat_minor": 5
}
