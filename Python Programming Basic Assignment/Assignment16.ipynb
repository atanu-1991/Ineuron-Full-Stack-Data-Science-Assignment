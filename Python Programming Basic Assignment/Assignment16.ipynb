{
 "cells": [
  {
   "cell_type": "markdown",
   "id": "0c5fecc1",
   "metadata": {},
   "source": [
    "#### Question1. Write a function that stutters a word as if someone is struggling to read it. The first two letters are repeated twice with an ellipsis ... and space after each, and then the word is pronounced with a question mark ?.\n",
    "##### Examples\n",
    "`stutter(\"incredible\") ➞ \"in... in... incredible?\"`\n",
    "\n",
    "`stutter(\"enthusiastic\") ➞ \"en... en... enthusiastic?\"`\n",
    "\n",
    "`stutter(\"outstanding\") ➞ \"ou... ou... outstanding?\"`\n",
    "\n",
    "Hint :-Assume all input is in lower case and at least two characters long.\n"
   ]
  },
  {
   "cell_type": "code",
   "execution_count": 16,
   "id": "fa0dede1",
   "metadata": {},
   "outputs": [
    {
     "name": "stdout",
     "output_type": "stream",
     "text": [
      "in... in... incredible?\n",
      "en... en... enthusiastic?\n",
      "ou... ou... outstanding?\n"
     ]
    }
   ],
   "source": [
    "def stutterWord(wrd):\n",
    "    pronounce = (wrd[0:2]+\"... \") * 2+wrd+\"?\" \n",
    "    print(pronounce)\n",
    "        \n",
    "stutterWord(\"incredible\")\n",
    "stutterWord(\"enthusiastic\")\n",
    "stutterWord(\"outstanding\")"
   ]
  },
  {
   "cell_type": "markdown",
   "id": "90ad289d",
   "metadata": {},
   "source": [
    "#### Question 2.Create a function that takes an angle in radians and returns the corresponding angle in degrees rounded to one decimal place.\n",
    "##### Examples\n",
    "`radians_to_degrees(1) ➞ 57.3`\n",
    "\n",
    "`radians_to_degrees(20) ➞ 1145.9`\n",
    "\n",
    "`radians_to_degrees(50) ➞ 2864.8`\n"
   ]
  },
  {
   "cell_type": "code",
   "execution_count": 31,
   "id": "6992dd86",
   "metadata": {},
   "outputs": [
    {
     "name": "stdout",
     "output_type": "stream",
     "text": [
      "57.3\n",
      "1145.9\n",
      "2864.8\n"
     ]
    }
   ],
   "source": [
    "import math\n",
    "\n",
    "def radianToDegree(rad):\n",
    "    deg = rad * (180/math.pi)\n",
    "    print(\"%.1f\" % deg)\n",
    "    \n",
    "radianToDegree(1)\n",
    "radianToDegree(20)\n",
    "radianToDegree(50)"
   ]
  },
  {
   "cell_type": "markdown",
   "id": "90a12cfa",
   "metadata": {},
   "source": [
    "#### Question 3. In this challenge, establish if a given integer num is a Curzon number. If 1 plus 2 elevated to num is exactly divisible by 1 plus 2 multiplied by num, then num is a Curzon number.\n",
    "Given a non-negative integer num, implement a function that returns True if num is a Curzon number, or False otherwise.\n",
    "##### Examples\n",
    "`is_curzon(5) ➞ True`  \n",
    "`# 2 ** 5 + 1 = 33`  \n",
    "`# 2 * 5 + 1 = 11`  \n",
    "`# 33 is a multiple of 11`  \n",
    "\n",
    "`is_curzon(10) ➞ False`  \n",
    "`# 2 ** 10 + 1 = 1025`  \n",
    "`# 2 * 10 + 1 = 21`  \n",
    "`# 1025 is not a multiple of 21`  \n",
    "\n",
    "`is_curzon(14) ➞ True`  \n",
    "`# 2 ** 14 + 1 = 16385`  \n",
    "`# 2 * 14 + 1 = 29`  \n",
    "`# 16385 is a multiple of 29`  \n"
   ]
  },
  {
   "cell_type": "code",
   "execution_count": 30,
   "id": "b81eabd0",
   "metadata": {},
   "outputs": [
    {
     "name": "stdout",
     "output_type": "stream",
     "text": [
      "14 is Curzon Number\n",
      "10 is not Curzon Number\n"
     ]
    }
   ],
   "source": [
    "def isCurzon(num):\n",
    "    dividend = (2 ** num) + 1\n",
    "    divisor = (2 * num) + 1\n",
    "    \n",
    "    if(dividend % divisor == 0):\n",
    "        print(f\"{num} is Curzon Number\")\n",
    "    else:\n",
    "        print(f\"{num} is not Curzon Number\")\n",
    "        \n",
    "isCurzon(14)\n",
    "isCurzon(10)"
   ]
  },
  {
   "cell_type": "markdown",
   "id": "f7bdcd2a",
   "metadata": {},
   "source": [
    "#### Question 4.Given the side length x find the area of a hexagon.\n",
    "\n",
    "`A = (3 * √3 * s²) / 2`\n",
    "\n",
    "##### Examples\n",
    "`area_of_hexagon(1) ➞ 2.6`\n",
    "\n",
    "`area_of_hexagon(2) ➞ 10.4`\n",
    "\n",
    "`area_of_hexagon(3) ➞ 23.4`\n"
   ]
  },
  {
   "cell_type": "code",
   "execution_count": 37,
   "id": "c507dc92",
   "metadata": {},
   "outputs": [
    {
     "name": "stdout",
     "output_type": "stream",
     "text": [
      "Area of Hexagon:  2.6\n",
      "Area of Hexagon:  10.4\n",
      "Area of Hexagon:  23.4\n"
     ]
    }
   ],
   "source": [
    "import math\n",
    "\n",
    "def areaHexagon(side):\n",
    "    A = (3 * math.sqrt(3) * (side * side)) / 2\n",
    "    print(\"Area of Hexagon: \",\"%.1f\" % A)\n",
    "    \n",
    "    \n",
    "areaHexagon(1)\n",
    "areaHexagon(2)\n",
    "areaHexagon(3)"
   ]
  },
  {
   "cell_type": "markdown",
   "id": "b1f2ac80",
   "metadata": {},
   "source": [
    "#### Question 5.Create a function that returns a base-2 (binary) representation of a base-10 (decimal) string number. To convert is simple: ((2) means base-2 and (10) means base-10) 010101001(2) = 1 + 8 + 32 + 128.\n",
    "Going from right to left, the value of the most right bit is 1, now from that every bit to the left will be x2 the value, value of an 8 bit binary numbers are (256, 128, 64, 32, 16, 8, 4, 2, 1).\n",
    "##### Examples\n",
    "`binary(1) ➞ \"1\"`\n",
    "`# 1*1 = 1`\n",
    "\n",
    "`binary(5) ➞ \"101\"`\n",
    "`# 1*1 + 1*4 = 5`\n",
    "\n",
    "`binary(10) ➞ \"1010\"`\n",
    "`# 1*2 + 1*8 = 10`"
   ]
  },
  {
   "cell_type": "code",
   "execution_count": 53,
   "id": "d49a0986",
   "metadata": {},
   "outputs": [],
   "source": [
    "def binaryToDecimal(binarNum):\n",
    "    strBinarNum = str(binarNum)\n",
    "    strBinarNum = strBinarNum[::-1]\n",
    "    decimalNum = 0\n",
    "    for i in range(len(strBinarNum)):\n",
    "        if strBinarNum[i] == \"1\":\n",
    "            decimalNum = decimalNum + (2 ** i)\n",
    "            \n",
    "    print(decimalNum)"
   ]
  },
  {
   "cell_type": "code",
   "execution_count": 61,
   "id": "36706abc",
   "metadata": {},
   "outputs": [
    {
     "name": "stdout",
     "output_type": "stream",
     "text": [
      "169\n",
      "1\n",
      "5\n",
      "10\n"
     ]
    }
   ],
   "source": [
    "binaryToDecimal(10101001)\n",
    "binaryToDecimal(1)\n",
    "binaryToDecimal(101)\n",
    "binaryToDecimal(1010)"
   ]
  },
  {
   "cell_type": "code",
   "execution_count": null,
   "id": "3c723a16",
   "metadata": {},
   "outputs": [],
   "source": []
  }
 ],
 "metadata": {
  "kernelspec": {
   "display_name": "Python 3 (ipykernel)",
   "language": "python",
   "name": "python3"
  },
  "language_info": {
   "codemirror_mode": {
    "name": "ipython",
    "version": 3
   },
   "file_extension": ".py",
   "mimetype": "text/x-python",
   "name": "python",
   "nbconvert_exporter": "python",
   "pygments_lexer": "ipython3",
   "version": "3.9.7"
  }
 },
 "nbformat": 4,
 "nbformat_minor": 5
}
