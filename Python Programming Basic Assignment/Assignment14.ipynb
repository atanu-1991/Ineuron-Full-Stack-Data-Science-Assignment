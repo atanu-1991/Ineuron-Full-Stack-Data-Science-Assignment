{
 "cells": [
  {
   "cell_type": "markdown",
   "id": "f7ba3224",
   "metadata": {},
   "source": [
    "##### Question 1:\n",
    "#### Define a class with a generator which can iterate the numbers, which are divisible by 7, between a given range 0 and n."
   ]
  },
  {
   "cell_type": "code",
   "execution_count": 3,
   "id": "4433a5ff",
   "metadata": {},
   "outputs": [
    {
     "name": "stdout",
     "output_type": "stream",
     "text": [
      "0 7 14 21 28 35 42 49 "
     ]
    }
   ],
   "source": [
    "def divbySeven(n):\n",
    "    for i in range(n):\n",
    "        if i%7 == 0:\n",
    "            yield i\n",
    "for i in divbySeven(50):\n",
    "    print(i,end=\" \")"
   ]
  },
  {
   "cell_type": "markdown",
   "id": "6f6b9906",
   "metadata": {},
   "source": [
    "##### Question 2:\n",
    "#### Write a program to compute the frequency of the words from the input. The output should output after sorting the key alphanumerically. \n",
    "\n",
    "Suppose the following input is supplied to the program:\n",
    "\n",
    "New to Python or choosing between Python 2 and Python 3? Read Python 2 or Python 3.\n",
    "\n",
    "Then, the output should be:\n",
    "\n",
    "2:2\n",
    "\n",
    "3.:1\n",
    "\n",
    "3?:1\n",
    "\n",
    "New:1\n",
    "\n",
    "Python:5\n",
    "\n",
    "Read:1\n",
    "\n",
    "and:1\n",
    "\n",
    "between:1\n",
    "\n",
    "choosing:1\n",
    "\n",
    "or:2\n",
    "\n",
    "to:1\n"
   ]
  },
  {
   "cell_type": "code",
   "execution_count": 28,
   "id": "db61299d",
   "metadata": {},
   "outputs": [
    {
     "name": "stdout",
     "output_type": "stream",
     "text": [
      "2 : 2\n",
      "3. : 1\n",
      "3? : 1\n",
      "New : 1\n",
      "Python : 5\n",
      "Read : 1\n",
      "and : 1\n",
      "between : 1\n",
      "choosing : 1\n",
      "or : 2\n",
      "to : 1\n"
     ]
    }
   ],
   "source": [
    "def compFrequ(txt):\n",
    "    txt = txt.split(\" \")\n",
    "    txt.sort()\n",
    "    s = (sorted(set(txt)))\n",
    "    for i in s:\n",
    "        print(f\"{i} : {txt.count(i)}\")\n",
    "\n",
    "compFrequ(\"New to Python or choosing between Python 2 and Python 3? Read Python 2 or Python 3.\")"
   ]
  },
  {
   "cell_type": "markdown",
   "id": "c50e65a5",
   "metadata": {},
   "source": [
    "##### Question 3:\n",
    "#### Define a class Person and its two child classes: Male and Female. All classes have a method \"getGender\" which can print \"Male\" for Male class and \"Female\" for Female class.\n"
   ]
  },
  {
   "cell_type": "code",
   "execution_count": 2,
   "id": "b84a93ec",
   "metadata": {},
   "outputs": [
    {
     "name": "stdout",
     "output_type": "stream",
     "text": [
      "Male\n",
      "Female\n"
     ]
    }
   ],
   "source": [
    "class Person:\n",
    "    pass\n",
    "\n",
    "class Male(Person):\n",
    "    def getGender(self):\n",
    "        print(\"Male\")\n",
    "        \n",
    "class Female(Person):\n",
    "    def getGender(self):\n",
    "        print(\"Female\")\n",
    "        \n",
    "male = Male()\n",
    "male.getGender()\n",
    "female = Female()\n",
    "female.getGender()"
   ]
  },
  {
   "cell_type": "markdown",
   "id": "96d19b2f",
   "metadata": {},
   "source": [
    "##### Question 4:\n",
    "#### Please write a program to generate all sentences where subject is in [\"I\", \"You\"] and verb is in [\"Play\", \"Love\"] and the object is in [\"Hockey\",\"Football\"]."
   ]
  },
  {
   "cell_type": "code",
   "execution_count": 5,
   "id": "a7921d9c",
   "metadata": {},
   "outputs": [
    {
     "name": "stdout",
     "output_type": "stream",
     "text": [
      "I Play Hockey\n",
      "I Play Football\n",
      "I Love Hockey\n",
      "I Love Football\n",
      "You Play Hockey\n",
      "You Play Football\n",
      "You Love Hockey\n",
      "You Love Football\n"
     ]
    }
   ],
   "source": [
    "subject = [\"I\", \"You\"]\n",
    "verb = [\"Play\", \"Love\"]\n",
    "objects = [\"Hockey\", \"Football\"]\n",
    "\n",
    "for i in subject:\n",
    "    for j in verb:\n",
    "        for k in objects:\n",
    "            print(i +\" \"+ j +\" \"+ k)\n",
    "    \n",
    "#     print(subject[i] + )"
   ]
  },
  {
   "cell_type": "markdown",
   "id": "489c351e",
   "metadata": {},
   "source": [
    "##### Question 5:\n",
    "#### Please write a program to compress and decompress the string \"hello world!helloworld!helloworld!hello world!\"."
   ]
  },
  {
   "cell_type": "code",
   "execution_count": 7,
   "id": "6604fa46",
   "metadata": {},
   "outputs": [
    {
     "name": "stdout",
     "output_type": "stream",
     "text": [
      "b'x\\x9c\\xcbH\\xcd\\xc9\\xc9W(\\xcf/\\xcaIQ\\xcc\\x00\\xb1\\xb13\\xa1*\\x00\\xa5\\x9a\\x11\\xb5'\n",
      "hello world!helloworld!helloworld!hello world!\n"
     ]
    }
   ],
   "source": [
    "import zlib\n",
    "\n",
    "txt = \"hello world!helloworld!helloworld!hello world!\"\n",
    "\n",
    "txt = zlib.compress(txt.encode())\n",
    "print(txt)\n",
    "\n",
    "print(zlib.decompress(txt).decode())"
   ]
  },
  {
   "cell_type": "markdown",
   "id": "49639a40",
   "metadata": {},
   "source": [
    "##### Question 6:\n",
    "#### Please write a binary search function which searches an item in a sorted list. The function should return the index of element to be searched in the list.\n"
   ]
  },
  {
   "cell_type": "code",
   "execution_count": 8,
   "id": "b7690635",
   "metadata": {},
   "outputs": [
    {
     "name": "stdout",
     "output_type": "stream",
     "text": [
      "19 is found in position 6\n"
     ]
    }
   ],
   "source": [
    "def searchItem(item):\n",
    "    \n",
    "    l = [2,5,8,11,13,17,19,21,23,25,28]\n",
    "\n",
    "    beg = 0\n",
    "    end = len(l) - 1\n",
    "    count = 0\n",
    "    \n",
    "    while(beg <= end):\n",
    "        mid = (beg + end) // 2\n",
    "        \n",
    "        if(item == l[mid]):\n",
    "            count = count + 1\n",
    "            break\n",
    "            \n",
    "        elif(item > l[mid]):\n",
    "            beg = mid + 1\n",
    "            \n",
    "        elif(item < l[mid]):\n",
    "            end = mid - 1\n",
    "            \n",
    "            \n",
    "    if(count > 0):\n",
    "        print(f\"{item} is found in position {mid}\")\n",
    "    else:\n",
    "        print(f\"{item} is not found\")\n",
    "        \n",
    "        \n",
    "        \n",
    "searchItem(19)"
   ]
  },
  {
   "cell_type": "code",
   "execution_count": null,
   "id": "aa5023df",
   "metadata": {},
   "outputs": [],
   "source": []
  }
 ],
 "metadata": {
  "kernelspec": {
   "display_name": "Python 3 (ipykernel)",
   "language": "python",
   "name": "python3"
  },
  "language_info": {
   "codemirror_mode": {
    "name": "ipython",
    "version": 3
   },
   "file_extension": ".py",
   "mimetype": "text/x-python",
   "name": "python",
   "nbconvert_exporter": "python",
   "pygments_lexer": "ipython3",
   "version": "3.9.7"
  }
 },
 "nbformat": 4,
 "nbformat_minor": 5
}
