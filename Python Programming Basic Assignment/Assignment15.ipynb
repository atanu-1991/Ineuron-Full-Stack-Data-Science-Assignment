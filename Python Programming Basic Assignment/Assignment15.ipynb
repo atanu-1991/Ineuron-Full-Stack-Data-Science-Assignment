{
 "cells": [
  {
   "cell_type": "markdown",
   "id": "caae93c3",
   "metadata": {},
   "source": [
    "##### Question 1:\n",
    "#### Please write a program using generator to print the numbers which can be divisible by 5 and 7 between 0 and n in comma separated form while n is input by console.\n",
    "\n",
    "Example:  \n",
    "If the following n is given as input to the program:  \n",
    "`100`  \n",
    "Then, the output of the program should be:  \n",
    "`0,35,70`  \n"
   ]
  },
  {
   "cell_type": "code",
   "execution_count": 2,
   "id": "51719a30",
   "metadata": {},
   "outputs": [],
   "source": [
    "def divby5and7(n):\n",
    "    for i in range(n):\n",
    "        if (i % 5 == 0 and i %7 == 0):\n",
    "            yield i"
   ]
  },
  {
   "cell_type": "code",
   "execution_count": 6,
   "id": "4210d34a",
   "metadata": {},
   "outputs": [
    {
     "name": "stdout",
     "output_type": "stream",
     "text": [
      "0,35,70\n"
     ]
    }
   ],
   "source": [
    "l = []\n",
    "for i in divby5and7(100):\n",
    "    l.append(str(i))\n",
    "    \n",
    "print(\",\".join(l))"
   ]
  },
  {
   "cell_type": "markdown",
   "id": "51ed923c",
   "metadata": {},
   "source": [
    "##### Question 2:\n",
    "#### Please write a program using generator to print the even numbers between 0 and n in comma separated form while n is input by console.\n",
    "Example:  \n",
    "If the following n is given as input to the program:  \n",
    "`10`  \n",
    "Then, the output of the program should be:  \n",
    "`0,2,4,6,8,10`  \n"
   ]
  },
  {
   "cell_type": "code",
   "execution_count": 10,
   "id": "55dafdd8",
   "metadata": {},
   "outputs": [],
   "source": [
    "def genEven(n):\n",
    "    for i in range(n+1):\n",
    "        if (i % 2 == 0):\n",
    "            yield i"
   ]
  },
  {
   "cell_type": "code",
   "execution_count": 11,
   "id": "f418f23a",
   "metadata": {},
   "outputs": [
    {
     "name": "stdout",
     "output_type": "stream",
     "text": [
      "0,2,4,6,8,10\n"
     ]
    }
   ],
   "source": [
    "l_even = []\n",
    "for i in genEven(10):\n",
    "    l_even.append(str(i))\n",
    "    \n",
    "print(\",\".join(l_even))"
   ]
  },
  {
   "cell_type": "markdown",
   "id": "8404d0d9",
   "metadata": {},
   "source": [
    "##### Question 3:\n",
    "#### The Fibonacci Sequence is computed based on the following formula:\n",
    "`f(n)=0 if n=0`  \n",
    "`f(n)=1 if n=1`  \n",
    "`f(n)=f(n-1)+f(n-2) if n>1`  \n",
    "Please write a program using list comprehension to print the Fibonacci Sequence in comma separated form with a given n input by console.  \n",
    "Example:  \n",
    "If the following n is given as input to the program:  \n",
    "`7`  \n",
    "Then, the output of the program should be:  \n",
    "`0,1,1,2,3,5,8,13`  "
   ]
  },
  {
   "cell_type": "code",
   "execution_count": 13,
   "id": "6bd19c6a",
   "metadata": {},
   "outputs": [
    {
     "name": "stdout",
     "output_type": "stream",
     "text": [
      "Enter The Number:7\n",
      "[0, 1, 1, 2, 3, 5, 8]\n"
     ]
    }
   ],
   "source": [
    "def fibonacci(n):\n",
    "    if n==0:\n",
    "        return 0\n",
    "    elif n==1:\n",
    "        return 1\n",
    "    else:\n",
    "        return (fibonacci(n-2) + fibonacci(n-1))\n",
    "        \n",
    "        \n",
    "n = int(input(\"Enter The Number:\"))\n",
    "print([fibonacci(i) for i in range(n)])"
   ]
  },
  {
   "cell_type": "markdown",
   "id": "66890b3c",
   "metadata": {},
   "source": [
    "##### Question 4:\n",
    "#### Assuming that we have some email addresses in the \"username@companyname.com\" format, please write program to print the user name of a given email address. Both user names and company names are composed of letters only.\n",
    "Example:  \n",
    "If the following email address is given as input to the program:  \n",
    "`john@google.com`  \n",
    "Then, the output of the program should be:  \n",
    "`john`  \n"
   ]
  },
  {
   "cell_type": "code",
   "execution_count": 18,
   "id": "829e8d92",
   "metadata": {},
   "outputs": [
    {
     "name": "stdout",
     "output_type": "stream",
     "text": [
      "UserName: john\n",
      "CompanyName: google\n"
     ]
    }
   ],
   "source": [
    "def getUsername(mail):\n",
    "    l_usr = mail.split(\"@\")\n",
    "    l_company = l_usr[1].split(\".\")\n",
    "    print(\"UserName:\",l_usr[0])\n",
    "    print(\"CompanyName:\",l_company[0])\n",
    "    \n",
    "getUsername(\"john@google.com\")"
   ]
  },
  {
   "cell_type": "markdown",
   "id": "2a0c64d0",
   "metadata": {},
   "source": [
    "##### Question 5:\n",
    "#### Define a class named Shape and its subclass Square. The Square class has an init function which takes a length as argument. Both classes have a area function which can print the area of the shape where Shape's area is 0 by default.\n"
   ]
  },
  {
   "cell_type": "code",
   "execution_count": 21,
   "id": "f7d11878",
   "metadata": {},
   "outputs": [],
   "source": [
    "class Shape:\n",
    "    \n",
    "    def area(self):\n",
    "        print(\"Area=\",0)\n",
    "        \n",
    "        \n",
    "class Square(Shape):\n",
    "    \n",
    "    def __init__(self,length):\n",
    "        self.length = length\n",
    "        \n",
    "    def area(self):\n",
    "        print(\"Area=\",self.length * self.length)"
   ]
  },
  {
   "cell_type": "code",
   "execution_count": 22,
   "id": "514aa0fe",
   "metadata": {},
   "outputs": [
    {
     "name": "stdout",
     "output_type": "stream",
     "text": [
      "Area= 4\n"
     ]
    }
   ],
   "source": [
    "square = Square(2)\n",
    "square.area()"
   ]
  },
  {
   "cell_type": "code",
   "execution_count": null,
   "id": "98b86916",
   "metadata": {},
   "outputs": [],
   "source": []
  }
 ],
 "metadata": {
  "kernelspec": {
   "display_name": "Python 3 (ipykernel)",
   "language": "python",
   "name": "python3"
  },
  "language_info": {
   "codemirror_mode": {
    "name": "ipython",
    "version": 3
   },
   "file_extension": ".py",
   "mimetype": "text/x-python",
   "name": "python",
   "nbconvert_exporter": "python",
   "pygments_lexer": "ipython3",
   "version": "3.9.7"
  }
 },
 "nbformat": 4,
 "nbformat_minor": 5
}
