{
 "cells": [
  {
   "cell_type": "markdown",
   "id": "4e8b38dc",
   "metadata": {},
   "source": [
    "#### 1.\tWrite a Python Program to find sum of array?"
   ]
  },
  {
   "cell_type": "code",
   "execution_count": 3,
   "id": "5d0dbcfc",
   "metadata": {},
   "outputs": [
    {
     "name": "stdout",
     "output_type": "stream",
     "text": [
      "Sum of [1, 2, 3, 4] is 10\n"
     ]
    }
   ],
   "source": [
    "def sumOfArray(l):\n",
    "    print(f\"Sum of {l} is {sum(l)}\")\n",
    "    \n",
    "sumOfArray([1,2,3,4])"
   ]
  },
  {
   "cell_type": "markdown",
   "id": "ac5de9b3",
   "metadata": {},
   "source": [
    "#### 2.\tWrite a Python Program to find largest element in an array?"
   ]
  },
  {
   "cell_type": "code",
   "execution_count": 4,
   "id": "5121c196",
   "metadata": {},
   "outputs": [
    {
     "name": "stdout",
     "output_type": "stream",
     "text": [
      "Maximum element of [4, 2, 5, 7, 1, 3] is 7\n"
     ]
    }
   ],
   "source": [
    "def maxOfArray(l):\n",
    "    print(f\"Maximum element of {l} is {max(l)}\")\n",
    "    \n",
    "maxOfArray([4,2,5,7,1,3])"
   ]
  },
  {
   "cell_type": "markdown",
   "id": "49b7c21c",
   "metadata": {},
   "source": [
    "#### 3.\tWrite a Python Program for array rotation?"
   ]
  },
  {
   "cell_type": "code",
   "execution_count": 4,
   "id": "19bc2c7c",
   "metadata": {},
   "outputs": [
    {
     "name": "stdout",
     "output_type": "stream",
     "text": [
      "Enter Rotation Right/Left: Right\n",
      "Enter the Nummber of Elements to Rotate: 2\n",
      "The Orginal Array is:  [1, 2, 3, 4, 5, 6, 7, 8]\n",
      "After Right Rotation the Array List is:  [7, 8, 1, 2, 3, 4, 5, 6]\n"
     ]
    }
   ],
   "source": [
    "def arrayRotation(arr_list):\n",
    "    rotation_arr = []\n",
    "    size_arr = len(arr_list)\n",
    "    rotation = input(\"Enter Rotation Right/Left: \")\n",
    "    rotation_number = int(input(\"Enter the Nummber of Elements to Rotate: \"))\n",
    "    \n",
    "    if(rotation_number>size_arr):\n",
    "        print(\"Rotattion Number Of Elements should be less than the Size of array list\")\n",
    "    else:\n",
    "        if rotation.upper() == \"RIGHT\":\n",
    "            print(\"The Orginal Array is: \",arr_list)\n",
    "            rotation_arr = arr_list[-(rotation_number):] + arr_list[:(size_arr-rotation_number)]\n",
    "            print(\"After Right Rotation the Array List is: \",rotation_arr)\n",
    "            \n",
    "        elif rotation.upper() == \"LEFT\":\n",
    "            print(\"The Orginal Array is: \",arr_list)\n",
    "            rotation_arr = arr_list[rotation_number:size_arr] + arr_list[:rotation_number]\n",
    "            print(\"After Left Rotation the Array List is: \",rotation_arr)\n",
    "            \n",
    "            \n",
    "        else:\n",
    "            print(\"Wrong Array\")\n",
    "    \n",
    "    \n",
    "\n",
    "arrayRotation([1,2,3,4,5,6,7,8])\n",
    "            "
   ]
  },
  {
   "cell_type": "markdown",
   "id": "641c5408",
   "metadata": {},
   "source": [
    "#### 4.\tWrite a Python Program to Split the array and add the first part to the end?"
   ]
  },
  {
   "cell_type": "code",
   "execution_count": 5,
   "id": "bcbb0039",
   "metadata": {},
   "outputs": [
    {
     "name": "stdout",
     "output_type": "stream",
     "text": [
      "Enter The Number of Elements to Split: 2\n",
      "The Split Array List is:  [1, 2]\n",
      "The list after split and add the first part to the end:  [3, 4, 5, 6, 7, 1, 2]\n"
     ]
    }
   ],
   "source": [
    "def splitArr(arr_list):\n",
    "    split_arr = []\n",
    "    new_arr = []\n",
    "    size_arr = len(arr_list)\n",
    "    split_num = int(input(\"Enter The Number of Elements to Split: \"))\n",
    "    if(split_num>size_arr):\n",
    "        print(\"The split number of element must be less than size of array\")\n",
    "    else:\n",
    "        split_arr = arr_list[:split_num]\n",
    "        print(\"The Split Array List is: \",split_arr)\n",
    "        new_arr = arr_list[split_num:] + arr_list[:split_num]\n",
    "        print(\"The list after split and add the first part to the end: \",new_arr)\n",
    "        \n",
    "        \n",
    "splitArr([1,2,3,4,5,6,7])        "
   ]
  },
  {
   "cell_type": "markdown",
   "id": "e4f5e1e2",
   "metadata": {},
   "source": [
    "#### 5.\tWrite a Python Program to check if given array is Monotonic?"
   ]
  },
  {
   "cell_type": "code",
   "execution_count": 33,
   "id": "bbe6c08d",
   "metadata": {},
   "outputs": [],
   "source": [
    "def isMonotonic(arr_list):\n",
    "    len_arr = len(arr_list)\n",
    "    if all(arr_list[i]>=arr_list[i+1] for i in range(len_arr-1)) or all(arr_list[i]<=arr_list[i+1] for i in range(len_arr-1)):\n",
    "        return True\n",
    "    else:\n",
    "        return False"
   ]
  },
  {
   "cell_type": "code",
   "execution_count": 37,
   "id": "bba61b6d",
   "metadata": {},
   "outputs": [
    {
     "data": {
      "text/plain": [
       "False"
      ]
     },
     "execution_count": 37,
     "metadata": {},
     "output_type": "execute_result"
    }
   ],
   "source": [
    "isMonotonic([6, 5, 4, 4,5])"
   ]
  },
  {
   "cell_type": "code",
   "execution_count": 36,
   "id": "2691138f",
   "metadata": {},
   "outputs": [
    {
     "data": {
      "text/plain": [
       "True"
      ]
     },
     "execution_count": 36,
     "metadata": {},
     "output_type": "execute_result"
    }
   ],
   "source": [
    "isMonotonic([6,5,4])"
   ]
  }
 ],
 "metadata": {
  "kernelspec": {
   "display_name": "Python 3 (ipykernel)",
   "language": "python",
   "name": "python3"
  },
  "language_info": {
   "codemirror_mode": {
    "name": "ipython",
    "version": 3
   },
   "file_extension": ".py",
   "mimetype": "text/x-python",
   "name": "python",
   "nbconvert_exporter": "python",
   "pygments_lexer": "ipython3",
   "version": "3.9.7"
  }
 },
 "nbformat": 4,
 "nbformat_minor": 5
}
