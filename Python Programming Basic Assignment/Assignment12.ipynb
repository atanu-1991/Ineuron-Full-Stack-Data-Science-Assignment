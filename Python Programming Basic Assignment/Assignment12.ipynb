{
 "cells": [
  {
   "cell_type": "markdown",
   "id": "89b0ff10",
   "metadata": {},
   "source": [
    "#### 1.\tWrite a Python program to Extract Unique values dictionary values?"
   ]
  },
  {
   "cell_type": "code",
   "execution_count": 2,
   "id": "1343614e",
   "metadata": {},
   "outputs": [
    {
     "name": "stdout",
     "output_type": "stream",
     "text": [
      "{0, 1, 2, 3, 4, 5, 6, 8, 22, 25, 89, 30}\n"
     ]
    }
   ],
   "source": [
    "dictValue = {'a' : [1,2,3,4], 'b' : [2,0,30,5], 'c' : [22,1,4,8], 'd' : [6,3,89,25]}\n",
    "\n",
    "uniq_val = set([j for i in dictValue.values() for j in i])\n",
    "print(uniq_val)"
   ]
  },
  {
   "cell_type": "code",
   "execution_count": 6,
   "id": "3ab5b9fc",
   "metadata": {},
   "outputs": [
    {
     "name": "stdout",
     "output_type": "stream",
     "text": [
      "{0, 1, 2, 3, 4, 5, 6, 8, 22, 25, 89, 30}\n"
     ]
    }
   ],
   "source": [
    "# Alternate way to extract Unique Values from dict values\n",
    "dictValue = {'a' : [1,2,3,4], 'b' : [2,0,30,5], 'c' : [22,1,4,8], 'd' : [6,3,89,25]}\n",
    "\n",
    "b = set()\n",
    "for i in dictValue.values():\n",
    "    for j in i:\n",
    "        b.add(j)\n",
    "        \n",
    "print(b)"
   ]
  },
  {
   "cell_type": "markdown",
   "id": "45239671",
   "metadata": {},
   "source": [
    "#### 2.\tWrite a Python program to find the sum of all items in a dictionary?"
   ]
  },
  {
   "cell_type": "code",
   "execution_count": 7,
   "id": "3a8612fa",
   "metadata": {},
   "outputs": [
    {
     "name": "stdout",
     "output_type": "stream",
     "text": [
      "10\n"
     ]
    }
   ],
   "source": [
    "dict_data = {'a':1,'b':2,'c':3,'d':4}\n",
    "sum = 0\n",
    "for k , v in dict_data.items():\n",
    "    sum = sum + v\n",
    "    \n",
    "print(sum)"
   ]
  },
  {
   "cell_type": "markdown",
   "id": "a30627b1",
   "metadata": {},
   "source": [
    "#### 3.\tWrite a Python program to Merging two Dictionaries?"
   ]
  },
  {
   "cell_type": "code",
   "execution_count": 8,
   "id": "3cc2739b",
   "metadata": {},
   "outputs": [
    {
     "name": "stdout",
     "output_type": "stream",
     "text": [
      "dict_a=  {'a': 1, 'b': 2}\n",
      "dict_b=  {'b': 3, 'c': 4}\n",
      "dict_both=  {'a': 1, 'b': 3, 'c': 4}\n"
     ]
    }
   ],
   "source": [
    "dict_a = {'a':1,'b':2}\n",
    "dict_b = {'b':3,'c':4}\n",
    "dict_both = dict_a.copy()\n",
    "dict_both.update(dict_b)\n",
    "print(\"dict_a= \",dict_a)\n",
    "print(\"dict_b= \",dict_b)\n",
    "print(\"dict_both= \",dict_both)"
   ]
  },
  {
   "cell_type": "markdown",
   "id": "4f4730d0",
   "metadata": {},
   "source": [
    "#### 4.\tWrite a Python program to convert key-values list to flat dictionary?"
   ]
  },
  {
   "cell_type": "code",
   "execution_count": 49,
   "id": "80c1e49d",
   "metadata": {},
   "outputs": [
    {
     "name": "stdout",
     "output_type": "stream",
     "text": [
      "{1: 'Jan', 2: 'Feb', 3: 'Mar', 4: 'Apr'}\n"
     ]
    }
   ],
   "source": [
    "dict_val = {\"month_num\" : [1,2,3,4], \"month_name\" : [\"Jan\",\"Feb\",\"Mar\",\"Apr\"]}\n",
    "key_list = []\n",
    "flat_dict = {}\n",
    "for i in dict_val.values():\n",
    "    key_list.append(i)\n",
    "    \n",
    "# print(key_list)\n",
    "for i in key_list:\n",
    "    m = 0\n",
    "    for j in key_list[0]:\n",
    "        flat_dict[j] = key_list[1][m]\n",
    "        m = m + 1\n",
    "        \n",
    "print(flat_dict)\n",
    "    "
   ]
  },
  {
   "cell_type": "code",
   "execution_count": 50,
   "id": "56dc2c7d",
   "metadata": {},
   "outputs": [
    {
     "name": "stdout",
     "output_type": "stream",
     "text": [
      "{1: 'Jan', 2: 'Feb', 3: 'Mar', 4: 'Apr'}\n"
     ]
    }
   ],
   "source": [
    "# Alternate way to convert key-values list to flat dictionary\n",
    "dict_val = {\"month_num\" : [1,2,3,4], \"month_name\" : [\"Jan\",\"Feb\",\"Mar\",\"Apr\"]}\n",
    "\n",
    "flat_dicta = dict(zip(dict_val[\"month_num\"],dict_val[\"month_name\"]))\n",
    "print(flat_dict)"
   ]
  },
  {
   "cell_type": "markdown",
   "id": "a61b3b1c",
   "metadata": {},
   "source": [
    "#### 5.\tWrite a Python program to insertion at the beginning in OrderedDict?"
   ]
  },
  {
   "cell_type": "code",
   "execution_count": 59,
   "id": "99398eb9",
   "metadata": {},
   "outputs": [
    {
     "name": "stdout",
     "output_type": "stream",
     "text": [
      "OrderedDict([(1, 'a'), (2, 'b')])\n",
      "OrderedDict([(1, 'a'), (2, 'b'), (3, 'C')])\n",
      "OrderedDict([(3, 'C'), (1, 'a'), (2, 'b')])\n"
     ]
    }
   ],
   "source": [
    "from collections import OrderedDict\n",
    "\n",
    "dict_val = OrderedDict({1:\"a\",2:\"b\"})\n",
    "print(dict_val)\n",
    "dict_two = {3:\"C\"}\n",
    "dict_val.update(dict_two)\n",
    "print(dict_val)\n",
    "dict_val.move_to_end(3,last=False)\n",
    "print(dict_val)"
   ]
  },
  {
   "cell_type": "code",
   "execution_count": 56,
   "id": "11b4b1a3",
   "metadata": {},
   "outputs": [
    {
     "name": "stdout",
     "output_type": "stream",
     "text": [
      "{3: 'c', 1: 'a', 2: 'b'}\n"
     ]
    }
   ],
   "source": [
    "# Alternate way to insertion at the beginning in Orderdict\n",
    "dict_val = {1:\"a\",2:\"b\"}\n",
    "copy_dic = dict_val.copy()\n",
    "dict_val.clear()\n",
    "dict_val[3] = \"c\"\n",
    "dict_val.update(copy_dic)\n",
    "print(dict_val)"
   ]
  },
  {
   "cell_type": "markdown",
   "id": "e21916ef",
   "metadata": {},
   "source": [
    "#### 6.\tWrite a Python program to check order of character in string using OrderedDict()?"
   ]
  },
  {
   "cell_type": "code",
   "execution_count": 9,
   "id": "7877d28e",
   "metadata": {},
   "outputs": [
    {
     "name": "stdout",
     "output_type": "stream",
     "text": [
      "Enter the Text: sort\n",
      "Enter the Pattern: ro\n",
      "OrderedDict([('s', None), ('o', None), ('r', None), ('t', None)])\n",
      "Pattern is not matched\n"
     ]
    }
   ],
   "source": [
    "from collections import OrderedDict\n",
    "\n",
    "def checkCharOrder(txt,pattern):\n",
    "    \n",
    "    char_dict = OrderedDict.fromkeys(txt)\n",
    "    print(char_dict)\n",
    "    patternLen = 0\n",
    "    \n",
    "    for key,value in char_dict.items():\n",
    "        if (key == pattern[patternLen]):\n",
    "            patternLen = patternLen + 1\n",
    "            \n",
    "        if patternLen == len(pattern):\n",
    "            return True\n",
    "        \n",
    "    return False\n",
    "        \n",
    "\n",
    "txt_valu = input(\"Enter the Text: \")\n",
    "pattern_valu = input(\"Enter the Pattern: \")\n",
    "\n",
    "if(checkCharOrder(txt_valu,pattern_valu)):\n",
    "    print(\"Pattern is matched\")\n",
    "else:\n",
    "    print(\"Pattern is not matched\")\n",
    "\n",
    "    "
   ]
  },
  {
   "cell_type": "markdown",
   "id": "cd80ff56",
   "metadata": {},
   "source": [
    "#### 7.\tWrite a Python program to sort Python Dictionaries by Key or Value?"
   ]
  },
  {
   "cell_type": "code",
   "execution_count": 36,
   "id": "45f87ef7",
   "metadata": {},
   "outputs": [
    {
     "name": "stdout",
     "output_type": "stream",
     "text": [
      "How do You want to sort the Dictionaries by Key/Value?value\n",
      "{'d': 1, 'b': 2, 'a': 3, 'e': 4, 'c': 5}\n",
      "How do You want to sort the Dictionaries by Key/Value?key\n",
      "{'a': 3, 'b': 2, 'c': 5, 'd': 1, 'e': 4}\n"
     ]
    }
   ],
   "source": [
    "def sortDict(d):\n",
    "    inp = input(\"How do You want to sort the Dictionaries by Key/Value?\").lower()\n",
    "    if (inp == \"key\"):\n",
    "        l_key = list(d.items())\n",
    "        l_key.sort()\n",
    "        print(dict(l_key))\n",
    "        \n",
    "    elif (inp == \"value\"):\n",
    "        l_value = list(d.items())\n",
    "        \n",
    "        for i in range(len(l_value)):\n",
    "            for j in range(len(l_value) - 1):\n",
    "                if (l_value[j][1] > l_value[j+1][1]):\n",
    "                    temp = l_value[j]\n",
    "                    l_value[j] = l_value[j+1]\n",
    "                    l_value[j+1] = temp\n",
    "                    \n",
    "                    \n",
    "        print(dict(l_value))\n",
    "        \n",
    "        \n",
    "dict_valu = {'b':2,'e':4,'a':3,'d':1,'c':5}\n",
    "sortDict(dict_valu)\n",
    "sortDict(dict_valu)"
   ]
  },
  {
   "cell_type": "code",
   "execution_count": 39,
   "id": "b59569d8",
   "metadata": {},
   "outputs": [
    {
     "name": "stdout",
     "output_type": "stream",
     "text": [
      "{'a': 3, 'b': 2, 'c': 5, 'd': 1, 'e': 4}\n",
      "{'d': 1, 'b': 2, 'a': 3, 'e': 4, 'c': 5}\n"
     ]
    }
   ],
   "source": [
    "# Alternate way to print Python Dictionaries by Key or Value\n",
    "dict_valu = {'b':2,'e':4,'a':3,'d':1,'c':5}\n",
    "\n",
    "def sort_dic(d,typ):\n",
    "    if (typ == \"key\"):\n",
    "        print(dict(sorted(d.items(),key= lambda x : x[0])))\n",
    "    elif(typ == \"value\"):\n",
    "        print(dict(sorted(d.items(),key= lambda x : x[1])))\n",
    "        \n",
    "sort_dic(dict_valu,\"key\")\n",
    "sort_dic(dict_valu,\"value\")"
   ]
  },
  {
   "cell_type": "code",
   "execution_count": null,
   "id": "fd556fcd",
   "metadata": {},
   "outputs": [],
   "source": []
  }
 ],
 "metadata": {
  "kernelspec": {
   "display_name": "Python 3 (ipykernel)",
   "language": "python",
   "name": "python3"
  },
  "language_info": {
   "codemirror_mode": {
    "name": "ipython",
    "version": 3
   },
   "file_extension": ".py",
   "mimetype": "text/x-python",
   "name": "python",
   "nbconvert_exporter": "python",
   "pygments_lexer": "ipython3",
   "version": "3.9.7"
  }
 },
 "nbformat": 4,
 "nbformat_minor": 5
}
