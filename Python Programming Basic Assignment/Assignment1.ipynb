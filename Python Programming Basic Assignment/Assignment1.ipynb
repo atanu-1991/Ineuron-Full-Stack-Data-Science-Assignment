{
 "cells": [
  {
   "cell_type": "markdown",
   "id": "ce661372",
   "metadata": {},
   "source": [
    "#### 1. Write a Python program to print \"Hello Python\"?"
   ]
  },
  {
   "cell_type": "code",
   "execution_count": 4,
   "id": "18f61781",
   "metadata": {},
   "outputs": [
    {
     "name": "stdout",
     "output_type": "stream",
     "text": [
      "Hello Python\n"
     ]
    }
   ],
   "source": [
    "print(\"Hello Python\")"
   ]
  },
  {
   "cell_type": "markdown",
   "id": "0965b1d3",
   "metadata": {},
   "source": [
    "#### 2.Write a Python program to do arithmetical operations addition and division.?"
   ]
  },
  {
   "cell_type": "code",
   "execution_count": 5,
   "id": "89c2e971",
   "metadata": {},
   "outputs": [
    {
     "name": "stdout",
     "output_type": "stream",
     "text": [
      "Sum of two numbers: 6\n",
      "Division of two number is: 2.0\n"
     ]
    }
   ],
   "source": [
    "def addition(a,b):\n",
    "    print(\"Sum of two numbers:\",a+b)\n",
    "    \n",
    "addition(4,2)\n",
    "    \n",
    "def division(a,b):\n",
    "    print(\"Division of two number is:\",a/b)\n",
    "    \n",
    "division(4,2)"
   ]
  },
  {
   "cell_type": "markdown",
   "id": "a89e4304",
   "metadata": {},
   "source": [
    "#### 3.Write a Python program to find the area of a triangle?"
   ]
  },
  {
   "cell_type": "code",
   "execution_count": 7,
   "id": "bce08174",
   "metadata": {},
   "outputs": [
    {
     "name": "stdout",
     "output_type": "stream",
     "text": [
      "Enter the Height of Triangle4\n",
      "Enter the Base of Triangle2\n",
      "Area of Triangle is 4.0\n"
     ]
    }
   ],
   "source": [
    "# function to calculate Area of triangle\n",
    "def area_triangle(base,height):\n",
    "    print(\"Area of Triangle is\",0.5 * base * height)\n",
    "\n",
    "height = int(input(\"Enter the Height of Triangle\"))\n",
    "base = int(input(\"Enter the Base of Triangle\"))\n",
    "\n",
    "area_triangle(base,height)"
   ]
  },
  {
   "cell_type": "markdown",
   "id": "5ed9fad3",
   "metadata": {},
   "source": [
    "#### 4.Write a Python program to swap two variables?"
   ]
  },
  {
   "cell_type": "code",
   "execution_count": 8,
   "id": "9e37b140",
   "metadata": {},
   "outputs": [
    {
     "name": "stdout",
     "output_type": "stream",
     "text": [
      "Enter the first number2\n",
      "Enter the second number3\n",
      "Before Swapping --> 2 3\n",
      "After Swapping --> 3 2\n"
     ]
    }
   ],
   "source": [
    "# function to swap two numbers\n",
    "def swap_num(a,b):\n",
    "    temp = a\n",
    "    a = b\n",
    "    b = temp\n",
    "    \n",
    "    return a,b\n",
    "\n",
    "first_num = int(input(\"Enter the first number\"))\n",
    "second_num = int(input(\"Enter the second number\"))\n",
    "print(\"Before Swapping -->\",first_num,second_num)\n",
    "swap_first , swap_second = swap_num(first_num,second_num)\n",
    "print(\"After Swapping -->\",swap_first,swap_second)"
   ]
  },
  {
   "cell_type": "markdown",
   "id": "7ca138a3",
   "metadata": {},
   "source": [
    "#### 5.Write a Python program to generate a random number ?"
   ]
  },
  {
   "cell_type": "code",
   "execution_count": 14,
   "id": "90b68a41",
   "metadata": {},
   "outputs": [
    {
     "name": "stdout",
     "output_type": "stream",
     "text": [
      "7\n"
     ]
    }
   ],
   "source": [
    "import random\n",
    "\n",
    "# function to generate random number\n",
    "def generat_random_num(firstNum,secNum):\n",
    "    random_num = random.randint(first_num,secNum)\n",
    "    print(random_num)\n",
    "    \n",
    "generat_random_num(1,10)    "
   ]
  },
  {
   "cell_type": "code",
   "execution_count": null,
   "id": "26d96db3",
   "metadata": {},
   "outputs": [],
   "source": []
  }
 ],
 "metadata": {
  "kernelspec": {
   "display_name": "Python 3 (ipykernel)",
   "language": "python",
   "name": "python3"
  },
  "language_info": {
   "codemirror_mode": {
    "name": "ipython",
    "version": 3
   },
   "file_extension": ".py",
   "mimetype": "text/x-python",
   "name": "python",
   "nbconvert_exporter": "python",
   "pygments_lexer": "ipython3",
   "version": "3.9.7"
  }
 },
 "nbformat": 4,
 "nbformat_minor": 5
}
