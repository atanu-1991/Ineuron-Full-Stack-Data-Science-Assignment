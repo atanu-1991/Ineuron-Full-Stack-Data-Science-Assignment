{
 "cells": [
  {
   "cell_type": "markdown",
   "id": "323ddf87",
   "metadata": {},
   "source": [
    "##### Question1\n",
    "#### Create a function that takes a string and returns a string in which each character is repeated once.\n",
    "##### Examples\n",
    "`double_char(\"String\") ➞ \"SSttrriinngg\"`\n",
    "\n",
    "`double_char(\"Hello World!\") ➞ \"HHeellllooWWoorrlldd!!\"`\n",
    "\n",
    "`double_char(\"1234!_ \") ➞ \"11223344!!__  \"`\n"
   ]
  },
  {
   "cell_type": "code",
   "execution_count": 1,
   "id": "e52a7e97",
   "metadata": {},
   "outputs": [],
   "source": [
    "def double_char(txt):\n",
    "    retur_txt = \"\"\n",
    "    for i in txt:\n",
    "        retur_txt = retur_txt + i*2\n",
    "        \n",
    "    print(retur_txt)"
   ]
  },
  {
   "cell_type": "code",
   "execution_count": 5,
   "id": "d9f36bc6",
   "metadata": {},
   "outputs": [
    {
     "name": "stdout",
     "output_type": "stream",
     "text": [
      "SSttrriinngg\n",
      "HHeelllloo  WWoorrlldd!!\n",
      "11223344!!__  \n"
     ]
    }
   ],
   "source": [
    "double_char(\"String\")\n",
    "double_char(\"Hello World!\")\n",
    "double_char(\"1234!_ \")"
   ]
  },
  {
   "cell_type": "markdown",
   "id": "0cb347d2",
   "metadata": {},
   "source": [
    "##### Question2\n",
    "#### Create a function that reverses a boolean value and returns the string \"boolean expected\" if another variable type is given.\n",
    "##### Examples\n",
    "`reverse(True) ➞ False`\n",
    "\n",
    "`reverse(False) ➞ True`\n",
    "\n",
    "`reverse(0) ➞ \"boolean expected\"`\n",
    "\n",
    "`reverse(None) ➞ \"boolean expected\"`\n"
   ]
  },
  {
   "cell_type": "code",
   "execution_count": 12,
   "id": "690f5619",
   "metadata": {},
   "outputs": [],
   "source": [
    "def revBool(boolValue):\n",
    "    if(type(boolValue) == bool):\n",
    "        return not boolValue\n",
    "    else:\n",
    "        return \"boolean expected\""
   ]
  },
  {
   "cell_type": "code",
   "execution_count": 16,
   "id": "d7ae72a5",
   "metadata": {},
   "outputs": [
    {
     "name": "stdout",
     "output_type": "stream",
     "text": [
      "False\n",
      "True\n",
      "boolean expected\n",
      "boolean expected\n"
     ]
    }
   ],
   "source": [
    "print(revBool(True))\n",
    "print(revBool(False))\n",
    "print(revBool(0))\n",
    "print(revBool(None))"
   ]
  },
  {
   "cell_type": "markdown",
   "id": "a5b466ee",
   "metadata": {},
   "source": [
    "##### Question3\n",
    "#### Create a function that returns the thickness (in meters) of a piece of paper after folding it n number of times. The paper starts off with a thickness of 0.5mm.\n",
    "##### Examples\n",
    "`num_layers(1) ➞ \"0.001m\"`  \n",
    "`# Paper folded once is 1mm (equal to 0.001m)`  \n",
    "\n",
    "`num_layers(4) ➞ \"0.008m\"`  \n",
    "`# Paper folded 4 times is 8mm (equal to 0.008m)`  \n",
    "\n",
    "`num_layers(21) ➞ \"1048.576m\"`  \n",
    "`# Paper folded 21 times is 1048576mm (equal to 1048.576m)`  \n"
   ]
  },
  {
   "cell_type": "code",
   "execution_count": 20,
   "id": "0fa9f93b",
   "metadata": {},
   "outputs": [],
   "source": [
    "def calcuThick(fold_time):\n",
    "    thickness = (2 ** fold_time) * 0.5\n",
    "    thick_metr = thickness / 1000\n",
    "    print(f\"Paper folded {fold_time} times is {int(thickness)} mm (equal to {thick_metr}m)\")"
   ]
  },
  {
   "cell_type": "code",
   "execution_count": 22,
   "id": "d95bff00",
   "metadata": {},
   "outputs": [
    {
     "name": "stdout",
     "output_type": "stream",
     "text": [
      "How many times You want to fold Paper21\n",
      "Paper folded 21 times is 1048576 mm (equal to 1048.576m)\n"
     ]
    }
   ],
   "source": [
    "fold = int(input(\"How many times You want to fold Paper\"))\n",
    "calcuThick(fold)"
   ]
  },
  {
   "cell_type": "markdown",
   "id": "63dda1f2",
   "metadata": {},
   "source": [
    "##### Question4\n",
    "#### Create a function that takes a single string as argument and returns an ordered list containing the indices of all capital letters in the string.\n",
    "##### Examples\n",
    "`index_of_caps(\"eDaBiT\") ➞ [1, 3, 5]`\n",
    "\n",
    "`index_of_caps(\"eQuINoX\") ➞ [1, 3, 4, 6]`\n",
    "\n",
    "`index_of_caps(\"determine\") ➞ []`\n",
    "\n",
    "`index_of_caps(\"STRIKE\") ➞ [0, 1, 2, 3, 4, 5]`\n",
    "\n",
    "`index_of_caps(\"sUn\") ➞ [1]`\n"
   ]
  },
  {
   "cell_type": "code",
   "execution_count": 29,
   "id": "52d9fb93",
   "metadata": {},
   "outputs": [],
   "source": [
    "def indofCap(txt):\n",
    "    upper_case = \"ABCDEFGHIJKLMNOPQRSTUVWXYZ\"\n",
    "    order_lst = []\n",
    "    for i in range(len(txt)):\n",
    "        if (txt[i] in upper_case):\n",
    "            order_lst.append(i)\n",
    "            \n",
    "    print(order_lst)"
   ]
  },
  {
   "cell_type": "code",
   "execution_count": 33,
   "id": "5da30ec1",
   "metadata": {},
   "outputs": [
    {
     "name": "stdout",
     "output_type": "stream",
     "text": [
      "[1, 3, 5]\n",
      "[1, 3, 4, 6]\n",
      "[]\n",
      "[0, 1, 2, 3, 4, 5]\n",
      "[1]\n"
     ]
    }
   ],
   "source": [
    "indofCap(\"eDaBiT\")\n",
    "indofCap(\"eQuINoX\")\n",
    "indofCap(\"determine\")\n",
    "indofCap(\"STRIKE\")\n",
    "indofCap(\"sUn\")"
   ]
  },
  {
   "cell_type": "markdown",
   "id": "ec3d52fb",
   "metadata": {},
   "source": [
    "##### Question5\n",
    "#### Using list comprehensions, create a function that finds all even numbers from 1 to the given number.\n",
    "##### Examples\n",
    "`find_even_nums(8) ➞ [2, 4, 6, 8]`\n",
    "\n",
    "`find_even_nums(4) ➞ [2, 4]`\n",
    "\n",
    "`find_even_nums(2) ➞ [2]`\n"
   ]
  },
  {
   "cell_type": "code",
   "execution_count": 36,
   "id": "55644555",
   "metadata": {},
   "outputs": [],
   "source": [
    "def find_even_num(n):\n",
    "    l = [i for i in range(1,n+1) if i%2==0]\n",
    "    print(l)"
   ]
  },
  {
   "cell_type": "code",
   "execution_count": 39,
   "id": "85cd5d51",
   "metadata": {},
   "outputs": [
    {
     "name": "stdout",
     "output_type": "stream",
     "text": [
      "[2, 4, 6, 8]\n",
      "[2, 4]\n",
      "[2]\n"
     ]
    }
   ],
   "source": [
    "find_even_num(8)\n",
    "find_even_num(4)\n",
    "find_even_num(2)"
   ]
  },
  {
   "cell_type": "code",
   "execution_count": null,
   "id": "459966bd",
   "metadata": {},
   "outputs": [],
   "source": []
  }
 ],
 "metadata": {
  "kernelspec": {
   "display_name": "Python 3 (ipykernel)",
   "language": "python",
   "name": "python3"
  },
  "language_info": {
   "codemirror_mode": {
    "name": "ipython",
    "version": 3
   },
   "file_extension": ".py",
   "mimetype": "text/x-python",
   "name": "python",
   "nbconvert_exporter": "python",
   "pygments_lexer": "ipython3",
   "version": "3.9.7"
  }
 },
 "nbformat": 4,
 "nbformat_minor": 5
}
