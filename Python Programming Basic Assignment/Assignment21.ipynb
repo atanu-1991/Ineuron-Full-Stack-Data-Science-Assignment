{
 "cells": [
  {
   "cell_type": "markdown",
   "id": "ef740aa1",
   "metadata": {},
   "source": [
    "##### Question1\n",
    "#### Write a function that takes a list and a number as arguments. Add the number to the end of the list, then remove the first element of the list. The function should then return the updated list.\n",
    "##### Examples\n",
    "`next_in_line([5, 6, 7, 8, 9], 1) ➞ [6, 7, 8, 9, 1]`\n",
    "\n",
    "`next_in_line([7, 6, 3, 23, 17], 10) ➞ [6, 3, 23, 17, 10]`\n",
    "\n",
    "`next_in_line([1, 10, 20, 42 ], 6) ➞ [10, 20, 42, 6]`\n",
    "\n",
    "`next_in_line([], 6) ➞ \"No list has been selected\"`\n"
   ]
  },
  {
   "cell_type": "code",
   "execution_count": 6,
   "id": "eef8eae7",
   "metadata": {},
   "outputs": [
    {
     "name": "stdout",
     "output_type": "stream",
     "text": [
      "[6, 7, 8, 9, 1]\n",
      "[6, 3, 23, 17, 10]\n",
      "[10, 20, 42, 6]\n",
      "No list has been selected\n"
     ]
    }
   ],
   "source": [
    "def next_in_line(lst,num):\n",
    "    if len(lst) == 0:\n",
    "        print(\"No list has been selected\")\n",
    "    else:\n",
    "        \n",
    "        lst.append(num)\n",
    "        lst.remove(lst[0])\n",
    "        print(lst)\n",
    "    \n",
    "\n",
    "next_in_line([5, 6, 7, 8, 9], 1)\n",
    "next_in_line([7, 6, 3, 23, 17], 10)\n",
    "next_in_line([1, 10, 20, 42 ], 6)\n",
    "next_in_line([],6)"
   ]
  },
  {
   "cell_type": "markdown",
   "id": "d2f249d5",
   "metadata": {},
   "source": [
    "##### Question2\n",
    "#### Create the function that takes a list of dictionaries and returns the sum of people's budgets.\n",
    "##### Examples\n",
    "`get_budgets([\n",
    "{ \"name\": \"John\", \"age\": 21, \"budget\": 23000 },\n",
    "{ \"name\": \"Steve\",  \"age\": 32, \"budget\": 40000 },\n",
    "{ \"name\": \"Martin\",  \"age\": 16, \"budget\": 2700 }\n",
    "]) ➞ 65700`\n",
    "\n",
    "`get_budgets([\n",
    "{ \"name\": \"John\",  \"age\": 21, \"budget\": 29000 },\n",
    "{ \"name\": \"Steve\",  \"age\": 32, \"budget\": 32000 },\n",
    "{ \"name\": \"Martin\",  \"age\": 16, \"budget\": 1600 }\n",
    "]) ➞ 62600`\n"
   ]
  },
  {
   "cell_type": "code",
   "execution_count": 15,
   "id": "64858f72",
   "metadata": {},
   "outputs": [],
   "source": [
    "def get_budgets(dic_lst):\n",
    "    sum = 0\n",
    "    for i in dic_lst:\n",
    "        budg = i.get(\"budget\")\n",
    "        sum = sum +budg\n",
    "            \n",
    "    print(f\"Total Budget= {sum}\")"
   ]
  },
  {
   "cell_type": "code",
   "execution_count": 16,
   "id": "39a08e7c",
   "metadata": {},
   "outputs": [
    {
     "name": "stdout",
     "output_type": "stream",
     "text": [
      "Total Budget= 65700\n"
     ]
    }
   ],
   "source": [
    "get_budgets([{ \"name\": \"John\", \"age\": 21, \"budget\": 23000 },{ \"name\": \"Steve\",  \"age\": 32, \"budget\": 40000 },{ \"name\": \"Martin\",  \"age\": 16, \"budget\": 2700 }])"
   ]
  },
  {
   "cell_type": "code",
   "execution_count": 18,
   "id": "ba964b48",
   "metadata": {},
   "outputs": [
    {
     "name": "stdout",
     "output_type": "stream",
     "text": [
      "Total Budget= 62600\n"
     ]
    }
   ],
   "source": [
    "get_budgets([\n",
    "{ \"name\": \"John\",  \"age\": 21, \"budget\": 29000 },\n",
    "{ \"name\": \"Steve\",  \"age\": 32, \"budget\": 32000 },\n",
    "{ \"name\": \"Martin\",  \"age\": 16, \"budget\": 1600 }\n",
    "]\n",
    ")"
   ]
  },
  {
   "cell_type": "markdown",
   "id": "82d04b9a",
   "metadata": {},
   "source": [
    "##### Question3\n",
    "#### Create a function that takes a string and returns a string with its letters in alphabetical order.\n",
    "##### Examples\n",
    "`alphabet_soup(\"hello\") ➞ \"ehllo\"`\n",
    "\n",
    "`alphabet_soup(\"edabit\") ➞ \"abdeit\"`\n",
    "\n",
    "`alphabet_soup(\"hacker\") ➞ \"acehkr\"`\n",
    "\n",
    "`alphabet_soup(\"geek\") ➞ \"eegk\"`\n",
    "\n",
    "`alphabet_soup(\"javascript\") ➞ \"aacijprstv\"`\n"
   ]
  },
  {
   "cell_type": "code",
   "execution_count": 21,
   "id": "33b4ed8d",
   "metadata": {},
   "outputs": [
    {
     "name": "stdout",
     "output_type": "stream",
     "text": [
      "ehllo\n",
      "abdeit\n",
      "acehkr\n",
      "eegk\n",
      "aacijprstv\n"
     ]
    }
   ],
   "source": [
    "def alphabet_soup(s):\n",
    "    sort_str = \"\".join(sorted(s))\n",
    "    print(sort_str)\n",
    "    \n",
    "alphabet_soup(\"hello\")\n",
    "alphabet_soup(\"edabit\")\n",
    "alphabet_soup(\"hacker\")\n",
    "alphabet_soup(\"geek\")\n",
    "alphabet_soup(\"javascript\")"
   ]
  },
  {
   "cell_type": "markdown",
   "id": "1e68c6a1",
   "metadata": {},
   "source": [
    "##### Question4\n",
    "Suppose that you invest $10,000 for 10 years at an interest rate of 6% compounded monthly.\n",
    "What will be the value of your investment at the end of the 10 year period?\n",
    "\n",
    "Create a function that accepts the principal p, the term in yearst, the interest rate r, and the number of compounding periods per year n. The function returns the value at the end of term rounded to the nearest cent.\n",
    "\n",
    "`For the example above:`\n",
    "\n",
    "`compound_interest(10000, 10, 0.06, 12) ➞ 18193.97`\n",
    "\n",
    "Note that the interest rate is given as a decimal and n=12 because with monthly compounding there are 12 periods per year. Compounding can also be done annually, quarterly, weekly, or daily.\n",
    "\n",
    "`Examples`\n",
    "`compound_interest(100, 1, 0.05, 1) ➞ 105.0`\n",
    "\n",
    "`compound_interest(3500, 15, 0.1, 4) ➞ 15399.26`\n",
    "\n",
    "`compound_interest(100000, 20, 0.15, 365) ➞ 2007316.26`\n"
   ]
  },
  {
   "cell_type": "code",
   "execution_count": 27,
   "id": "433ce02a",
   "metadata": {},
   "outputs": [],
   "source": [
    "def compound_interest(principal,year,rate,compPeriod):\n",
    "    ci = principal * (1 + (rate / compPeriod)) ** (year * compPeriod)\n",
    "    print(f\"Compound Interest= {ci:.2f}\")"
   ]
  },
  {
   "cell_type": "code",
   "execution_count": 29,
   "id": "6599b1cc",
   "metadata": {},
   "outputs": [
    {
     "name": "stdout",
     "output_type": "stream",
     "text": [
      "Compound Interest= 105.00\n"
     ]
    }
   ],
   "source": [
    "compound_interest(100,1,0.05,1)"
   ]
  },
  {
   "cell_type": "code",
   "execution_count": 28,
   "id": "e4b19ef0",
   "metadata": {},
   "outputs": [
    {
     "name": "stdout",
     "output_type": "stream",
     "text": [
      "Compound Interest= 15399.26\n"
     ]
    }
   ],
   "source": [
    "compound_interest(3500,15,0.1,4)"
   ]
  },
  {
   "cell_type": "code",
   "execution_count": 30,
   "id": "184b7fe6",
   "metadata": {},
   "outputs": [
    {
     "name": "stdout",
     "output_type": "stream",
     "text": [
      "Compound Interest= 2007316.26\n"
     ]
    }
   ],
   "source": [
    "compound_interest(100000, 20, 0.15, 365)"
   ]
  },
  {
   "cell_type": "markdown",
   "id": "0769d8ec",
   "metadata": {},
   "source": [
    "##### Question5\n",
    "#### Write a function that takes a list of elements and returns only the integers.\n",
    "##### Examples\n",
    "`return_only_integer([9, 2, \"space\", \"car\", \"lion\", 16]) ➞ [9, 2, 16]`\n",
    "\n",
    "`return_only_integer([\"hello\", 81, \"basketball\", 123, \"fox\"]) ➞ [81, 123]`\n",
    "\n",
    "`return_only_integer([10, \"121\", 56, 20, \"car\", 3, \"lion\"]) ➞ [10, 56, 20, 3]`\n",
    "\n",
    "`return_only_integer([\"String\",  True,  3.3,  1]) ➞ [1]`\n"
   ]
  },
  {
   "cell_type": "code",
   "execution_count": 34,
   "id": "dd98d798",
   "metadata": {},
   "outputs": [
    {
     "name": "stdout",
     "output_type": "stream",
     "text": [
      "[9, 2, 16]\n",
      "[81, 123]\n",
      "[10, 56, 20, 3]\n",
      "[1]\n"
     ]
    }
   ],
   "source": [
    "def return_only_integer(lst):\n",
    "    int_lst = []\n",
    "    for i in lst:\n",
    "        if type(i) == int:\n",
    "            int_lst.append(i)\n",
    "            \n",
    "    print(int_lst)\n",
    "    \n",
    "    \n",
    "return_only_integer([9, 2, \"space\", \"car\", \"lion\", 16])\n",
    "return_only_integer([\"hello\", 81, \"basketball\", 123, \"fox\"])\n",
    "return_only_integer([10, \"121\", 56, 20, \"car\", 3, \"lion\"])\n",
    "return_only_integer([\"String\",  True,  3.3,  1])"
   ]
  },
  {
   "cell_type": "code",
   "execution_count": null,
   "id": "f9e2a55d",
   "metadata": {},
   "outputs": [],
   "source": []
  }
 ],
 "metadata": {
  "kernelspec": {
   "display_name": "Python 3 (ipykernel)",
   "language": "python",
   "name": "python3"
  },
  "language_info": {
   "codemirror_mode": {
    "name": "ipython",
    "version": 3
   },
   "file_extension": ".py",
   "mimetype": "text/x-python",
   "name": "python",
   "nbconvert_exporter": "python",
   "pygments_lexer": "ipython3",
   "version": "3.9.7"
  }
 },
 "nbformat": 4,
 "nbformat_minor": 5
}
