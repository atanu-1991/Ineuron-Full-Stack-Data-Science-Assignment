{
 "cells": [
  {
   "cell_type": "markdown",
   "id": "aa5ca43e",
   "metadata": {},
   "source": [
    "#### 1.\tWrite a Python program to find sum of elements in list?"
   ]
  },
  {
   "cell_type": "code",
   "execution_count": 1,
   "id": "8b095382",
   "metadata": {},
   "outputs": [
    {
     "name": "stdout",
     "output_type": "stream",
     "text": [
      "21\n"
     ]
    }
   ],
   "source": [
    "l = [1,2,3,4,5,6]\n",
    "sum = 0\n",
    "for i in l:\n",
    "    sum = sum + i\n",
    "    \n",
    "print(sum)"
   ]
  },
  {
   "cell_type": "markdown",
   "id": "a60954bf",
   "metadata": {},
   "source": [
    "#### 2.\tWrite a Python program to  Multiply all numbers in the list?"
   ]
  },
  {
   "cell_type": "code",
   "execution_count": 2,
   "id": "d0f03fec",
   "metadata": {},
   "outputs": [
    {
     "name": "stdout",
     "output_type": "stream",
     "text": [
      "120\n"
     ]
    }
   ],
   "source": [
    "l = [1,2,3,4,5]\n",
    "mul = 1\n",
    "for i in l:\n",
    "    mul = mul * i\n",
    "    \n",
    "print(mul)"
   ]
  },
  {
   "cell_type": "markdown",
   "id": "a3fa48e3",
   "metadata": {},
   "source": [
    "#### 3.\tWrite a Python program to find smallest number in a list?"
   ]
  },
  {
   "cell_type": "code",
   "execution_count": 14,
   "id": "c195120e",
   "metadata": {},
   "outputs": [
    {
     "name": "stdout",
     "output_type": "stream",
     "text": [
      "2\n"
     ]
    }
   ],
   "source": [
    "l = [8,5,4,2,9,10]\n",
    "\n",
    "minimum = l[0]\n",
    "for i in range(len(l)):\n",
    "    if l[i]<minimum:\n",
    "        minimum = l[i]\n",
    "        \n",
    "        \n",
    "print(minimum)"
   ]
  },
  {
   "cell_type": "code",
   "execution_count": 15,
   "id": "8e455c21",
   "metadata": {},
   "outputs": [
    {
     "data": {
      "text/plain": [
       "2"
      ]
     },
     "execution_count": 15,
     "metadata": {},
     "output_type": "execute_result"
    }
   ],
   "source": [
    "# ALternate way to print minimum value in the list\n",
    "l = [8,5,4,2,9,10]\n",
    "min(l)"
   ]
  },
  {
   "cell_type": "markdown",
   "id": "d78399ba",
   "metadata": {},
   "source": [
    "#### 4.\tWrite a Python program to find largest number in a list?"
   ]
  },
  {
   "cell_type": "code",
   "execution_count": 17,
   "id": "7aff8073",
   "metadata": {},
   "outputs": [
    {
     "name": "stdout",
     "output_type": "stream",
     "text": [
      "12\n"
     ]
    }
   ],
   "source": [
    "l = [8,5,4,12,9,10]\n",
    "maximum = 0\n",
    "for i in range(len(l)):\n",
    "    if l[i]>maximum:\n",
    "        maximum = l[i]\n",
    "        \n",
    "print(maximum)"
   ]
  },
  {
   "cell_type": "code",
   "execution_count": 18,
   "id": "67cfd934",
   "metadata": {},
   "outputs": [
    {
     "data": {
      "text/plain": [
       "12"
      ]
     },
     "execution_count": 18,
     "metadata": {},
     "output_type": "execute_result"
    }
   ],
   "source": [
    "# ALternate way to print maximum value in the list\n",
    "l = [8,5,4,12,9,10]\n",
    "max(l)"
   ]
  },
  {
   "cell_type": "markdown",
   "id": "0cbd099d",
   "metadata": {},
   "source": [
    "#### 5.\tWrite a Python program to find second largest number in a list?"
   ]
  },
  {
   "cell_type": "code",
   "execution_count": 40,
   "id": "d5d99a71",
   "metadata": {},
   "outputs": [
    {
     "name": "stdout",
     "output_type": "stream",
     "text": [
      "10\n"
     ]
    }
   ],
   "source": [
    "# first and easiest way to find second largest number in a list\n",
    "l = [8,5,4,12,9,10]\n",
    "l.sort()\n",
    "print(l[-2])"
   ]
  },
  {
   "cell_type": "code",
   "execution_count": 63,
   "id": "66b3f32d",
   "metadata": {},
   "outputs": [
    {
     "name": "stdout",
     "output_type": "stream",
     "text": [
      "10\n"
     ]
    }
   ],
   "source": [
    "# second easiest way to find second largest number in a list (ALGORITHM WISE)\n",
    "l = [8,5,4,12,9,10,1,2]\n",
    "for i in range(len(l)):\n",
    "    for j in range(len(l)-1):\n",
    "        if (l[j]>l[j+1]):\n",
    "            temp = l[j]\n",
    "            l[j] = l[j+1]\n",
    "            l[j+1] = temp\n",
    "    \n",
    "    \n",
    "print(l[-2])"
   ]
  },
  {
   "cell_type": "code",
   "execution_count": 42,
   "id": "70224e8a",
   "metadata": {},
   "outputs": [
    {
     "name": "stdout",
     "output_type": "stream",
     "text": [
      "10\n"
     ]
    }
   ],
   "source": [
    "# third way to find second largest number in a list\n",
    "l = [8,5,4,12,9,10]\n",
    "maximum = 0\n",
    "secondMaximum = 0     \n",
    "        \n",
    "for i in range(len(l)):\n",
    "    if l[i]>maximum:\n",
    "        maximum = l[i]\n",
    "        \n",
    "        \n",
    "for i in range(len(l)):\n",
    "    if(l[i]<maximum):\n",
    "        if l[i]>secondMaximum:\n",
    "            secondMaximum = l[i]\n",
    "            \n",
    "print(secondMaximum)"
   ]
  },
  {
   "cell_type": "markdown",
   "id": "ee7f654f",
   "metadata": {},
   "source": [
    "#### 6.\tWrite a Python program to find N largest elements from a list?"
   ]
  },
  {
   "cell_type": "code",
   "execution_count": 68,
   "id": "b68af5cf",
   "metadata": {},
   "outputs": [
    {
     "name": "stdout",
     "output_type": "stream",
     "text": [
      "List After sorting from minimum to maximum\n",
      "[1, 2, 4, 5, 8, 9, 10, 12]\n",
      "Enter The position of largest element: 3\n",
      "The 3 position large element is 9\n"
     ]
    }
   ],
   "source": [
    "l = [8,5,4,12,9,10,1,2]\n",
    "for i in range(len(l)):\n",
    "    for j in range(len(l)-1):\n",
    "        if (l[j]>l[j+1]):\n",
    "            temp = l[j]\n",
    "            l[j] = l[j+1]\n",
    "            l[j+1] = temp\n",
    "\n",
    "print(\"List After sorting from minimum to maximum\") \n",
    "print(l)\n",
    "            \n",
    "            \n",
    "large_element = int(input(\"Enter The position of largest element: \"))\n",
    "\n",
    "if (large_element > len(l)):\n",
    "    print(\"Enter Valid Number\")\n",
    "else:\n",
    "    print(f\"The {large_element} position large element is {l[-large_element]}\")"
   ]
  },
  {
   "cell_type": "markdown",
   "id": "8b4f92fa",
   "metadata": {},
   "source": [
    "#### 7.\tWrite a Python program to print even numbers in a list?"
   ]
  },
  {
   "cell_type": "code",
   "execution_count": 69,
   "id": "ae742154",
   "metadata": {},
   "outputs": [
    {
     "name": "stdout",
     "output_type": "stream",
     "text": [
      "8 4 12 10 2 "
     ]
    }
   ],
   "source": [
    "l = [8,5,4,12,9,10,1,2]\n",
    "\n",
    "for i in l:\n",
    "    if (i % 2 == 0):\n",
    "        print(i, end=\" \")"
   ]
  },
  {
   "cell_type": "markdown",
   "id": "485094de",
   "metadata": {},
   "source": [
    "#### 8.\tWrite a Python program to print odd numbers in a List?"
   ]
  },
  {
   "cell_type": "code",
   "execution_count": 70,
   "id": "d87c4ea1",
   "metadata": {},
   "outputs": [
    {
     "name": "stdout",
     "output_type": "stream",
     "text": [
      "5 9 1 "
     ]
    }
   ],
   "source": [
    "l = [8,5,4,12,9,10,1,2]\n",
    "\n",
    "for i in l:\n",
    "    if (i % 2 == 1):\n",
    "        print(i, end=\" \")"
   ]
  },
  {
   "cell_type": "markdown",
   "id": "b345df1c",
   "metadata": {},
   "source": [
    "#### 9.\tWrite a Python program to Remove empty List from List?"
   ]
  },
  {
   "cell_type": "code",
   "execution_count": 84,
   "id": "43ccbd0c",
   "metadata": {},
   "outputs": [
    {
     "name": "stdout",
     "output_type": "stream",
     "text": [
      "[[1, 2, 3, 4], 55, 21, 2, 4, 5, 6, [55, 89, 75]]\n"
     ]
    }
   ],
   "source": [
    "l = [[1,2,3,4],55,21,2,[],4,5,6,[],[55,89,75]]\n",
    "for i in l:\n",
    "    if i == []:\n",
    "        l.remove(i)\n",
    "            \n",
    "print(l)"
   ]
  },
  {
   "cell_type": "markdown",
   "id": "a0ee998b",
   "metadata": {},
   "source": [
    "#### 10.\tWrite a Python program to Cloning or Copying a list?"
   ]
  },
  {
   "cell_type": "code",
   "execution_count": 85,
   "id": "4e49ce03",
   "metadata": {},
   "outputs": [
    {
     "name": "stdout",
     "output_type": "stream",
     "text": [
      "[1, 2, 3, 4, 5]\n"
     ]
    }
   ],
   "source": [
    "l = [1,2,3,4,5]\n",
    "l_copy = []\n",
    "for i in l:\n",
    "    l_copy.append(i)\n",
    "    \n",
    "print(l_copy)"
   ]
  },
  {
   "cell_type": "code",
   "execution_count": 86,
   "id": "c9387640",
   "metadata": {},
   "outputs": [
    {
     "name": "stdout",
     "output_type": "stream",
     "text": [
      "[1, 2, 3, 4, 5]\n"
     ]
    }
   ],
   "source": [
    "# Alternate way\n",
    "l = [1,2,3,4,5]\n",
    "l_cop = l.copy()\n",
    "print(l_cop)"
   ]
  },
  {
   "cell_type": "markdown",
   "id": "f5e615e9",
   "metadata": {},
   "source": [
    "#### 11.\tWrite a Python program to Count occurrences of an element in a list?"
   ]
  },
  {
   "cell_type": "code",
   "execution_count": 97,
   "id": "df36514a",
   "metadata": {},
   "outputs": [
    {
     "name": "stdout",
     "output_type": "stream",
     "text": [
      "1 --> 1\n",
      "2 --> 2\n",
      "3 --> 3\n",
      "4 --> 2\n",
      "5 --> 1\n",
      "2 has occured 2 times in the list\n"
     ]
    }
   ],
   "source": [
    "l = [1,2,2,3,3,3,4,4,5]\n",
    "occurance = 0\n",
    "for i in set(l):\n",
    "    print(f\"{i} --> {l.count(i)}\")\n",
    "    \n",
    "print(f\"{2} has occured {l.count(2)} times in the list\")"
   ]
  },
  {
   "cell_type": "code",
   "execution_count": null,
   "id": "a1e9f466",
   "metadata": {},
   "outputs": [],
   "source": []
  }
 ],
 "metadata": {
  "kernelspec": {
   "display_name": "Python 3 (ipykernel)",
   "language": "python",
   "name": "python3"
  },
  "language_info": {
   "codemirror_mode": {
    "name": "ipython",
    "version": 3
   },
   "file_extension": ".py",
   "mimetype": "text/x-python",
   "name": "python",
   "nbconvert_exporter": "python",
   "pygments_lexer": "ipython3",
   "version": "3.9.7"
  }
 },
 "nbformat": 4,
 "nbformat_minor": 5
}
