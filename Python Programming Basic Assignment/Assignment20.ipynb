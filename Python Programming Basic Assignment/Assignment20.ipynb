{
 "cells": [
  {
   "cell_type": "markdown",
   "id": "5e9fc87f",
   "metadata": {},
   "source": [
    "##### Question1\n",
    "#### Create a function that takes a list of strings and integers, and filters out the list so that it returns a list of integers only.\n",
    "##### Examples\n",
    "`filter_list([1, 2, 3, \"a\", \"b\", 4]) ➞ [1, 2, 3, 4]`\n",
    "\n",
    "`filter_list([\"A\", 0, \"Edabit\", 1729, \"Python\", \"1729\"]) ➞ [0, 1729]`\n",
    "\n",
    "`filter_list([\"Nothing\", \"here\"]) ➞ []`\n"
   ]
  },
  {
   "cell_type": "code",
   "execution_count": 3,
   "id": "e4cc6b85",
   "metadata": {},
   "outputs": [
    {
     "name": "stdout",
     "output_type": "stream",
     "text": [
      "[1, 2, 3, 4]\n",
      "[0, 1729]\n",
      "[]\n"
     ]
    }
   ],
   "source": [
    "def filterInteger(lst):\n",
    "    filt_lst = []\n",
    "    for i in lst:\n",
    "        if type(i) == int:\n",
    "            filt_lst.append(i)\n",
    "        \n",
    "    print(filt_lst)\n",
    "    \n",
    "filterInteger([1, 2, 3, \"a\", \"b\", 4])\n",
    "filterInteger([\"A\", 0, \"Edabit\", 1729, \"Python\", \"1729\"])\n",
    "filterInteger([\"Nothing\", \"here\"])"
   ]
  },
  {
   "cell_type": "markdown",
   "id": "37be605f",
   "metadata": {},
   "source": [
    "##### Question2\n",
    "#### Given a list of numbers, create a function which returns the list but with each element's index in the list added to itself. This means you add 0 to the number at index 0, add 1 to the number at index 1, etc...\n",
    "##### Examples\n",
    "`add_indexes([0, 0, 0, 0, 0]) ➞ [0, 1, 2, 3, 4]`\n",
    "\n",
    "`add_indexes([1, 2, 3, 4, 5]) ➞ [1, 3, 5, 7, 9]`\n",
    "\n",
    "`add_indexes([5, 4, 3, 2, 1]) ➞ [5, 5, 5, 5, 5]`\n"
   ]
  },
  {
   "cell_type": "code",
   "execution_count": 1,
   "id": "0b3b781e",
   "metadata": {},
   "outputs": [],
   "source": [
    "def add_indexes(l):\n",
    "    l_ind = []\n",
    "    for i in range(len(l)):\n",
    "        l_ind.append(l[i]+i)\n",
    "        \n",
    "    print(l_ind)"
   ]
  },
  {
   "cell_type": "code",
   "execution_count": 2,
   "id": "7e309450",
   "metadata": {},
   "outputs": [
    {
     "name": "stdout",
     "output_type": "stream",
     "text": [
      "[0, 1, 2, 3, 4]\n"
     ]
    }
   ],
   "source": [
    "add_indexes([0,0,0,0,0])"
   ]
  },
  {
   "cell_type": "code",
   "execution_count": 3,
   "id": "fe24eb39",
   "metadata": {},
   "outputs": [
    {
     "name": "stdout",
     "output_type": "stream",
     "text": [
      "[1, 3, 5, 7, 9]\n"
     ]
    }
   ],
   "source": [
    "add_indexes([1,2,3,4,5])"
   ]
  },
  {
   "cell_type": "code",
   "execution_count": 4,
   "id": "1e4d8e45",
   "metadata": {},
   "outputs": [
    {
     "name": "stdout",
     "output_type": "stream",
     "text": [
      "[5, 5, 5, 5, 5]\n"
     ]
    }
   ],
   "source": [
    "add_indexes([5,4,3,2,1])"
   ]
  },
  {
   "cell_type": "markdown",
   "id": "15edc727",
   "metadata": {},
   "source": [
    "##### Question3\n",
    "#### Create a function that takes the height and radius of a cone as arguments and returns the volume of the cone rounded to the nearest hundredth. See the resources tab for the formula.\n",
    "##### Examples\n",
    "`cone_volume(3, 2) ➞ 12.57`\n",
    "\n",
    "`cone_volume(15, 6) ➞ 565.49`\n",
    "\n",
    "`cone_volume(18, 0) ➞ 0`\n"
   ]
  },
  {
   "cell_type": "code",
   "execution_count": 12,
   "id": "e5952db9",
   "metadata": {},
   "outputs": [
    {
     "name": "stdout",
     "output_type": "stream",
     "text": [
      "13\n",
      "565\n",
      "0\n"
     ]
    }
   ],
   "source": [
    "import math\n",
    "\n",
    "def cone_volume(height,radius):\n",
    "    volum = round((math.pi * (radius ** 2) * height) / 3)\n",
    "    print(volum)\n",
    "    \n",
    "    \n",
    "cone_volume(3,2)\n",
    "cone_volume(15,6)\n",
    "cone_volume(18,0)"
   ]
  },
  {
   "cell_type": "markdown",
   "id": "194b8605",
   "metadata": {},
   "source": [
    "##### Question4\n",
    "#### This Triangular Number Sequence is generated from a pattern of dots that form a triangle. The first 5 numbers of the sequence, or dots, are: \n",
    "1, 3, 6, 10, 15  \n",
    "This means that the first triangle has just one dot, the second one has three dots, the third one has 6 dots and so on.\n",
    "Write a function that gives the number of dots with its corresponding triangle number of the sequence.\n",
    "##### Examples\n",
    "`triangle(1) ➞ 1`\n",
    "\n",
    "`triangle(6) ➞ 21`\n",
    "\n",
    "`triangle(215) ➞ 23220`\n"
   ]
  },
  {
   "cell_type": "code",
   "execution_count": 2,
   "id": "183ee5fb",
   "metadata": {},
   "outputs": [],
   "source": [
    "def getDotTriangleRange(num):\n",
    "    sum = 0\n",
    "    for i in range(num):\n",
    "        sum = sum + (i+1)\n",
    "        \n",
    "    print(sum)\n",
    "        "
   ]
  },
  {
   "cell_type": "code",
   "execution_count": 11,
   "id": "356312ab",
   "metadata": {},
   "outputs": [
    {
     "name": "stdout",
     "output_type": "stream",
     "text": [
      "23220\n"
     ]
    }
   ],
   "source": [
    "getDotTriangleRange(215)"
   ]
  },
  {
   "cell_type": "code",
   "execution_count": 8,
   "id": "e657d4d9",
   "metadata": {},
   "outputs": [],
   "source": [
    "# Alternate way to find numbers of dot from triangle number\n",
    "def getDotTriangleMul(n):\n",
    "    print(int(n*(n+1)*0.5))"
   ]
  },
  {
   "cell_type": "code",
   "execution_count": 10,
   "id": "4d2ce19d",
   "metadata": {},
   "outputs": [
    {
     "name": "stdout",
     "output_type": "stream",
     "text": [
      "10\n"
     ]
    }
   ],
   "source": [
    "getDotTriangleMul(4)"
   ]
  },
  {
   "cell_type": "markdown",
   "id": "1319406c",
   "metadata": {},
   "source": [
    "##### Question5\n",
    "#### Create a function that takes a list of numbers between 1 and 10 (excluding one number) and returns the missing number.\n",
    "##### Examples\n",
    "`missing_num([1, 2, 3, 4, 6, 7, 8, 9, 10]) ➞ 5`\n",
    "\n",
    "`missing_num([7, 2, 3, 6, 5, 9, 1, 4, 8]) ➞ 10`\n",
    "\n",
    "`missing_num([10, 5, 1, 2, 4, 6, 8, 3, 9]) ➞ 7`"
   ]
  },
  {
   "cell_type": "code",
   "execution_count": 22,
   "id": "e9c4dc9b",
   "metadata": {},
   "outputs": [],
   "source": [
    "def missingNumlst(lst):\n",
    "    missin_lst = [1,2,3,4,5,6,7,8,9,10]\n",
    "    for i in missin_lst:\n",
    "        if i not in lst:\n",
    "            print(i)\n",
    "            break"
   ]
  },
  {
   "cell_type": "code",
   "execution_count": 23,
   "id": "5e880304",
   "metadata": {},
   "outputs": [
    {
     "name": "stdout",
     "output_type": "stream",
     "text": [
      "5\n"
     ]
    }
   ],
   "source": [
    "missingNumlst([1, 2, 3, 4, 6, 7, 8, 9, 10])"
   ]
  },
  {
   "cell_type": "code",
   "execution_count": 24,
   "id": "8abcc0f4",
   "metadata": {},
   "outputs": [],
   "source": [
    "# Alternate way to find missing number\n",
    "def missingNumRange(lst):\n",
    "    for i in range(1,11):\n",
    "        if i not in lst:\n",
    "            print(i)"
   ]
  },
  {
   "cell_type": "code",
   "execution_count": 25,
   "id": "345395fb",
   "metadata": {},
   "outputs": [
    {
     "name": "stdout",
     "output_type": "stream",
     "text": [
      "5\n"
     ]
    }
   ],
   "source": [
    "missingNumRange([1, 2, 3, 4, 6, 7, 8, 9, 10])"
   ]
  },
  {
   "cell_type": "code",
   "execution_count": 26,
   "id": "1a65ae07",
   "metadata": {},
   "outputs": [],
   "source": [
    "# Alternate way to find missing number\n",
    "def missingNumAddi(lst):\n",
    "    total = sum([i for i in range(1,11)])\n",
    "    sum_lst = sum(lst)\n",
    "    print(total - sum_lst)"
   ]
  },
  {
   "cell_type": "code",
   "execution_count": 27,
   "id": "295c69aa",
   "metadata": {},
   "outputs": [
    {
     "name": "stdout",
     "output_type": "stream",
     "text": [
      "5\n"
     ]
    }
   ],
   "source": [
    "missingNumAddi([1, 2, 3, 4, 6, 7, 8, 9, 10])"
   ]
  },
  {
   "cell_type": "code",
   "execution_count": null,
   "id": "82d9d27b",
   "metadata": {},
   "outputs": [],
   "source": []
  }
 ],
 "metadata": {
  "kernelspec": {
   "display_name": "Python 3 (ipykernel)",
   "language": "python",
   "name": "python3"
  },
  "language_info": {
   "codemirror_mode": {
    "name": "ipython",
    "version": 3
   },
   "file_extension": ".py",
   "mimetype": "text/x-python",
   "name": "python",
   "nbconvert_exporter": "python",
   "pygments_lexer": "ipython3",
   "version": "3.9.7"
  }
 },
 "nbformat": 4,
 "nbformat_minor": 5
}
