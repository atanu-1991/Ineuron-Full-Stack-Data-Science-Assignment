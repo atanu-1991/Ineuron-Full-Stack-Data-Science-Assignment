{
 "cells": [
  {
   "cell_type": "markdown",
   "id": "f51de5aa",
   "metadata": {},
   "source": [
    "##### Question 1:\n",
    "\n",
    "#### Write a program that calculates and prints the value according to the given formula:\n",
    "\n",
    "`Q = Square root of [(2 * C * D)/H]`\n",
    "\n",
    "Following are the fixed values of C and H:\n",
    "\n",
    "C is 50. H is 30.\n",
    "\n",
    "D is the variable whose values should be input to your program in a comma-separated sequence.\n",
    "\n",
    "Example\n",
    "\n",
    "Let us assume the following comma separated input sequence is given to the program:\n",
    "\n",
    "100,150,180\n",
    "\n",
    "The output of the program should be:\n",
    "\n",
    "18,22,24\n"
   ]
  },
  {
   "cell_type": "code",
   "execution_count": 33,
   "id": "d8e6bfd4",
   "metadata": {},
   "outputs": [
    {
     "name": "stdout",
     "output_type": "stream",
     "text": [
      "18,22,24\n"
     ]
    }
   ],
   "source": [
    "import math\n",
    "\n",
    "def calcuFormula(d):\n",
    "    C = 50 \n",
    "    H = 30\n",
    "    D = d.split(\",\")\n",
    "    result = []\n",
    "    for i in D:\n",
    "        Q = str(int(math.sqrt((2 * C * int(i)) / H)))\n",
    "        result.append(Q)\n",
    "        \n",
    "    print(\",\".join(result))\n",
    "\n",
    "calcuFormula(\"100,150,180\")"
   ]
  },
  {
   "cell_type": "markdown",
   "id": "f3c3e0de",
   "metadata": {},
   "source": [
    "##### Question 2:\n",
    "#### Write a program which takes 2 digits, X,Y as input and generates a 2-dimensional array. The element value in the i-th row and j-th column of the array should be i*j.\n",
    "\n",
    "Note: i=0,1.., X-1; j=0,1,¡¬Y-1.\n",
    "\n",
    "Example\n",
    "\n",
    "Suppose the following inputs are given to the program:\n",
    "\n",
    "3,5\n",
    "\n",
    "Then, the output of the program should be:\n",
    "\n",
    "`[[0, 0, 0, 0, 0], [0, 1, 2, 3, 4], [0, 2, 4, 6, 8]]` \n"
   ]
  },
  {
   "cell_type": "code",
   "execution_count": 50,
   "id": "f26000ba",
   "metadata": {},
   "outputs": [
    {
     "name": "stdout",
     "output_type": "stream",
     "text": [
      "[[0, 0, 0, 0, 0], [0, 1, 2, 3, 4], [0, 2, 4, 6, 8]]\n"
     ]
    }
   ],
   "source": [
    "two_dimen_arr = []\n",
    "row = 3\n",
    "colum = 5\n",
    "m = 0\n",
    "\n",
    "for i in range(row):\n",
    "    coulmn_lst = []\n",
    "    val = 0\n",
    "    for j in range(colum):\n",
    "        coulmn_lst.append(val)\n",
    "        val = val + i\n",
    "        \n",
    "    two_dimen_arr.append(coulmn_lst)\n",
    "        \n",
    "print(two_dimen_arr)"
   ]
  },
  {
   "cell_type": "code",
   "execution_count": 51,
   "id": "8ffe5b64",
   "metadata": {},
   "outputs": [
    {
     "name": "stdout",
     "output_type": "stream",
     "text": [
      "[[0, 0, 0, 0, 0], [0, 1, 2, 3, 4], [0, 2, 4, 6, 8]]\n"
     ]
    }
   ],
   "source": [
    "# Alternate way to print two_dimensional array\n",
    "two_dimen_arr = []\n",
    "row = 3\n",
    "colum = 5\n",
    "for i in range(row):\n",
    "    coulmn_lst = []\n",
    "    for j in range(colum):\n",
    "        coulmn_lst.append(i * j)\n",
    "        \n",
    "    two_dimen_arr.append(coulmn_lst)\n",
    "    \n",
    "print(two_dimen_arr)"
   ]
  },
  {
   "cell_type": "markdown",
   "id": "5d04abb0",
   "metadata": {},
   "source": [
    "##### Question 3:\n",
    "#### Write a program that accepts a comma separated sequence of words as input and prints the words in a comma-separated sequence after sorting them alphabetically.\n",
    "\n",
    "Suppose the following input is supplied to the program:\n",
    "\n",
    "`without,hello,bag,world`\n",
    "\n",
    "Then, the output should be:\n",
    "\n",
    "`bag,hello,without,world`\n"
   ]
  },
  {
   "cell_type": "code",
   "execution_count": 55,
   "id": "dbf75a00",
   "metadata": {},
   "outputs": [
    {
     "name": "stdout",
     "output_type": "stream",
     "text": [
      "bag,hello,without,world\n"
     ]
    }
   ],
   "source": [
    "def sortWord(in_txt):\n",
    "    in_txt = in_txt.split(\",\")\n",
    "    in_txt.sort()\n",
    "    out_txt = \",\".join(in_txt)\n",
    "    print(out_txt)\n",
    "    \n",
    "sortWord(\"without,hello,bag,world\")"
   ]
  },
  {
   "cell_type": "markdown",
   "id": "d02f7646",
   "metadata": {},
   "source": [
    "##### Question 4:\n",
    "#### Write a program that accepts a sequence of whitespace separated words as input and prints the words after removing all duplicate words and sorting them alphanumerically.\n",
    "\n",
    "Suppose the following input is supplied to the program:\n",
    "\n",
    "`hello world and practice makes perfect and hello world again`\n",
    "\n",
    "Then, the output should be:\n",
    "\n",
    "`again and hello makes perfect practice world`\n"
   ]
  },
  {
   "cell_type": "code",
   "execution_count": 56,
   "id": "e08da7ce",
   "metadata": {},
   "outputs": [
    {
     "name": "stdout",
     "output_type": "stream",
     "text": [
      "again and hello makes perfect practice world\n"
     ]
    }
   ],
   "source": [
    "def duplicatWordSort(in_txt):\n",
    "    in_txt = in_txt.split(\" \")\n",
    "    for i in in_txt:\n",
    "        if in_txt.count(i)>1:\n",
    "            in_txt.remove(i)\n",
    "            \n",
    "    in_txt.sort()\n",
    "    out_txt = \" \".join(in_txt)\n",
    "    print(out_txt)\n",
    "    \n",
    "    \n",
    "s = \"hello world and practice makes perfect and hello world again\"\n",
    "duplicatWordSort(s)"
   ]
  },
  {
   "cell_type": "markdown",
   "id": "b9224d19",
   "metadata": {},
   "source": [
    "##### Question 5:\n",
    "#### Write a program that accepts a sentence and calculate the number of letters and digits.\n",
    "\n",
    "Suppose the following input is supplied to the program:\n",
    "\n",
    "`hello world! 123`\n",
    "\n",
    "Then, the output should be:\n",
    "\n",
    "`LETTERS 10`\n",
    "\n",
    "`DIGITS 3`\n"
   ]
  },
  {
   "cell_type": "code",
   "execution_count": 59,
   "id": "5b3aa868",
   "metadata": {},
   "outputs": [
    {
     "name": "stdout",
     "output_type": "stream",
     "text": [
      "LETTERS 10\n",
      "DIGIT 3\n"
     ]
    }
   ],
   "source": [
    "def numbLetterDigit(in_txt):\n",
    "#     in_txt = in_txt.split(\" \")\n",
    "    letter_list = \"ABCDEFGHIJKLMNOPQRSTUVWXYZabcdefghijklmnopqrstuvwxyz\"\n",
    "    digit_list = \"0123456789\"\n",
    "    letter_count = 0\n",
    "    digit_count = 0\n",
    "    for i in in_txt:\n",
    "        if i in letter_list:\n",
    "            letter_count = letter_count + 1\n",
    "        elif i in digit_list:\n",
    "            digit_count = digit_count + 1\n",
    "            \n",
    "    return letter_count,digit_count\n",
    "\n",
    "\n",
    "l,d = numbLetterDigit(\"hello world! 123\")\n",
    "print(\"LETTERS\",l)\n",
    "print(\"DIGIT\",d)"
   ]
  },
  {
   "cell_type": "markdown",
   "id": "82e72ba7",
   "metadata": {},
   "source": [
    "##### Question 6:\n",
    "#### A website requires the users to input username and password to register. Write a program to check the validity of password input by users.\n",
    "\n",
    "Following are the criteria for checking the password:\n",
    "\n",
    "1. At least 1 letter between [a-z]\n",
    "\n",
    "2. At least 1 number between [0-9]\n",
    "\n",
    "1. At least 1 letter between [A-Z]\n",
    "\n",
    "3. At least 1 character from [$#@]\n",
    "\n",
    "4. Minimum length of transaction password: 6\n",
    "\n",
    "5. Maximum length of transaction password: 12\n",
    "\n",
    "Your program should accept a sequence of comma separated passwords and will check them according to the above criteria. Passwords that match the criteria are to be printed, each separated by a comma.\n",
    "\n",
    "Example\n",
    "\n",
    "If the following passwords are given as input to the program:\n",
    "\n",
    "`ABd1234@1,a F1#,2w3E*,2We3345`\n",
    "\n",
    "Then, the output of the program should be:\n",
    "\n",
    "`ABd1234@1`\n"
   ]
  },
  {
   "cell_type": "code",
   "execution_count": 10,
   "id": "b6631735",
   "metadata": {},
   "outputs": [
    {
     "name": "stdout",
     "output_type": "stream",
     "text": [
      "Create Password: Ata\n",
      "Password Length will be at least 6\n",
      "Create Password: Atanuk123456789lkj\n",
      "Password Length will be maximum 12\n",
      "Create Password: ATANUK\n",
      "Password contains atleast one small letter\n",
      "Create Password: atanuk\n",
      "Password contains atleast one capital letter\n",
      "Create Password: Atanuk\n",
      "Password contains atleast one digit\n",
      "Create Password: Atanuk1\n",
      "Password contains atleast one character\n",
      "Create Password: Ata,nuk#1\n",
      "Password: Ata\n"
     ]
    }
   ],
   "source": [
    "def passwordValidation(password):\n",
    "    small_letter_list = \"abcdefghijklmnopqrstuvwxyz\"\n",
    "    capital_letter_list = \"ABCDEFGHIJKLMNOPQRSTUVWXYZ\"\n",
    "    digit_list = \"0123456789\"\n",
    "    char_list = \"$#@\"\n",
    "    len_password = len(password)\n",
    "    \n",
    "    s = c = d = ch = 0\n",
    "    \n",
    "    if len_password>12:\n",
    "        print(\"Password Length will be maximum 12\")\n",
    "    elif len_password<6:\n",
    "        print(\"Password Length will be at least 6\")\n",
    "    elif not any(i in small_letter_list for i in password):\n",
    "        print(\"Password contains atleast one small letter\") \n",
    "    elif not any(i in capital_letter_list for i in password):\n",
    "        print(\"Password contains atleast one capital letter\")\n",
    "    elif not any(i in digit_list for i in password):\n",
    "        print(\"Password contains atleast one digit\")\n",
    "    elif not any(i in char_list for i in password):\n",
    "        print(\"Password contains atleast one character\")\n",
    "    else:\n",
    "        password = password.split(\",\")\n",
    "        print(\"Password:\",password[0])\n",
    "        return True\n",
    "\n",
    "while(True):\n",
    "    inp_password = input(\"Create Password: \")\n",
    "    b = passwordValidation(inp_password)\n",
    "    if(b):\n",
    "        break"
   ]
  },
  {
   "cell_type": "code",
   "execution_count": null,
   "id": "a9b7b72f",
   "metadata": {},
   "outputs": [],
   "source": []
  }
 ],
 "metadata": {
  "kernelspec": {
   "display_name": "Python 3 (ipykernel)",
   "language": "python",
   "name": "python3"
  },
  "language_info": {
   "codemirror_mode": {
    "name": "ipython",
    "version": 3
   },
   "file_extension": ".py",
   "mimetype": "text/x-python",
   "name": "python",
   "nbconvert_exporter": "python",
   "pygments_lexer": "ipython3",
   "version": "3.9.7"
  }
 },
 "nbformat": 4,
 "nbformat_minor": 5
}
