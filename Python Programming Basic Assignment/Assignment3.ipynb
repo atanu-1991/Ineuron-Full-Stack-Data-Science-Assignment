{
 "cells": [
  {
   "cell_type": "markdown",
   "id": "404f8c28",
   "metadata": {},
   "source": [
    "#### 1.Write a Python Program to Check if a Number is Positive, Negative or Zero?"
   ]
  },
  {
   "cell_type": "code",
   "execution_count": 2,
   "id": "0c58571c",
   "metadata": {},
   "outputs": [
    {
     "name": "stdout",
     "output_type": "stream",
     "text": [
      "Enter the number: -3\n",
      "The number is negative\n"
     ]
    }
   ],
   "source": [
    "def checkNum(num):\n",
    "    if num == 0:\n",
    "        print(\"The number is 0\")\n",
    "        \n",
    "    elif num > 0:\n",
    "        print(\"The number is positive\")\n",
    "        \n",
    "    elif num < 0:\n",
    "        print(\"The number is negative\")\n",
    "        \n",
    "numb = int(input(\"Enter the number: \"))\n",
    "checkNum(numb)"
   ]
  },
  {
   "cell_type": "markdown",
   "id": "74209203",
   "metadata": {},
   "source": [
    "#### 2.\tWrite a Python Program to Check if a Number is Odd or Even?"
   ]
  },
  {
   "cell_type": "code",
   "execution_count": 3,
   "id": "312ef441",
   "metadata": {},
   "outputs": [
    {
     "name": "stdout",
     "output_type": "stream",
     "text": [
      "Enter the Number: 4\n",
      "4 is Even Number\n"
     ]
    }
   ],
   "source": [
    "def check_Odd_Even(num):\n",
    "    if num % 2 == 0:\n",
    "        print(f\"{num} is Even Number\")\n",
    "        \n",
    "    else:\n",
    "        print(f\"{num} is Odd Number\")\n",
    "        \n",
    "numb = int(input(\"Enter the Number: \"))\n",
    "check_Odd_Even(numb)"
   ]
  },
  {
   "cell_type": "markdown",
   "id": "abce056b",
   "metadata": {},
   "source": [
    "#### 3.\tWrite a Python Program to Check Leap Year?"
   ]
  },
  {
   "cell_type": "code",
   "execution_count": 5,
   "id": "f5a6b5b7",
   "metadata": {},
   "outputs": [
    {
     "name": "stdout",
     "output_type": "stream",
     "text": [
      "Enter the Year: 1991\n",
      "The 1991 is not Leap Year\n"
     ]
    }
   ],
   "source": [
    "def check_leapYaear(year):\n",
    "    if (year % 4 == 0 or year % 400 == 0):\n",
    "        print(f\"The {year} is Leap Year\")\n",
    "        \n",
    "    else:\n",
    "        print(f\"The {year} is not Leap Year\")\n",
    "        \n",
    "year = int(input(\"Enter the Year: \"))\n",
    "check_leapYaear(year)\n",
    "    "
   ]
  },
  {
   "cell_type": "markdown",
   "id": "40e3a061",
   "metadata": {},
   "source": [
    "#### 4.\tWrite a Python Program to Check Prime Number?"
   ]
  },
  {
   "cell_type": "code",
   "execution_count": 9,
   "id": "480ecb17",
   "metadata": {},
   "outputs": [
    {
     "name": "stdout",
     "output_type": "stream",
     "text": [
      "Enter The Number\n",
      "9\n",
      "The Number Is Not Prime\n"
     ]
    }
   ],
   "source": [
    "num= input(\"Enter The Number\\n\")\n",
    "num= int(num)\n",
    "prime= True\n",
    "\n",
    "for i in range(2,num):\n",
    "    if (num%i== 0):\n",
    "        prime= False\n",
    "        break\n",
    "\n",
    "if(prime):\n",
    "    print(\"The Number Is Prime\")\n",
    "else:\n",
    "    print(\"The Number Is Not Prime\")"
   ]
  },
  {
   "cell_type": "markdown",
   "id": "8f5890d8",
   "metadata": {},
   "source": [
    "#### 5.\tWrite a Python Program to Print all Prime Numbers in an Interval of 1-10000?"
   ]
  },
  {
   "cell_type": "code",
   "execution_count": 10,
   "id": "44b7fb2c",
   "metadata": {},
   "outputs": [
    {
     "name": "stdout",
     "output_type": "stream",
     "text": [
      "Enter the range of Prime Numbers:\n",
      "1000\n",
      "1,2,3,5,7,11,13,17,19,23,29,31,37,41,43,47,53,59,61,67,71,73,79,83,89,97,101,103,107,109,113,127,131,137,139,149,151,157,163,167,173,179,181,191,193,197,199,211,223,227,229,233,239,241,251,257,263,269,271,277,281,283,293,307,311,313,317,331,337,347,349,353,359,367,373,379,383,389,397,401,409,419,421,431,433,439,443,449,457,461,463,467,479,487,491,499,503,509,521,523,541,547,557,563,569,571,577,587,593,599,601,607,613,617,619,631,641,643,647,653,659,661,673,677,683,691,701,709,719,727,733,739,743,751,757,761,769,773,787,797,809,811,821,823,827,829,839,853,857,859,863,877,881,883,887,907,911,919,929,937,941,947,953,967,971,977,983,991,997\n"
     ]
    }
   ],
   "source": [
    "n = int(input(\"Enter the range of Prime Numbers:\\n\"))\n",
    "prime_list = []\n",
    "for i in range(1,n):\n",
    "    prime = True\n",
    "    for j in range(2,i):\n",
    "        if(i%j == 0):\n",
    "            prime = False\n",
    "            \n",
    "    if(prime):\n",
    "        prime_list.append(i)\n",
    "        \n",
    "lenOfprimelist = len(prime_list)        \n",
    "for j,k in enumerate(prime_list):\n",
    "    if j<(lenOfprimelist-1):\n",
    "        print(k,end=\",\")\n",
    "    else:\n",
    "        print(k)"
   ]
  },
  {
   "cell_type": "code",
   "execution_count": null,
   "id": "33460f90",
   "metadata": {},
   "outputs": [],
   "source": []
  }
 ],
 "metadata": {
  "kernelspec": {
   "display_name": "Python 3 (ipykernel)",
   "language": "python",
   "name": "python3"
  },
  "language_info": {
   "codemirror_mode": {
    "name": "ipython",
    "version": 3
   },
   "file_extension": ".py",
   "mimetype": "text/x-python",
   "name": "python",
   "nbconvert_exporter": "python",
   "pygments_lexer": "ipython3",
   "version": "3.9.7"
  }
 },
 "nbformat": 4,
 "nbformat_minor": 5
}
