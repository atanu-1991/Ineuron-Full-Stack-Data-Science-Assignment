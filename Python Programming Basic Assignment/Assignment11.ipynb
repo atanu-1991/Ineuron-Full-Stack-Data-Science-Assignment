{
 "cells": [
  {
   "cell_type": "markdown",
   "id": "caa22754",
   "metadata": {},
   "source": [
    "#### 1.\tWrite a Python program to find words which are greater than given length k?"
   ]
  },
  {
   "cell_type": "code",
   "execution_count": 16,
   "id": "acb0203f",
   "metadata": {},
   "outputs": [
    {
     "name": "stdout",
     "output_type": "stream",
     "text": [
      "iNeuron Stack Science "
     ]
    }
   ],
   "source": [
    "def findWord(sent,wordLen):\n",
    "    txt = sent.split()\n",
    "    for i in txt:\n",
    "        if (len(i)>wordLen):\n",
    "            print(i,end=\" \")\n",
    "        \n",
    "findWord(\"iNeuron Full Stack Data Science Boot Camp\",4)"
   ]
  },
  {
   "cell_type": "markdown",
   "id": "7552071c",
   "metadata": {},
   "source": [
    "#### 2.\tWrite a Python program for removing i-th character from a string?"
   ]
  },
  {
   "cell_type": "code",
   "execution_count": 17,
   "id": "e769c0c1",
   "metadata": {},
   "outputs": [
    {
     "name": "stdout",
     "output_type": "stream",
     "text": [
      "Datacience\n"
     ]
    }
   ],
   "source": [
    "def removChar(txt,charPos):\n",
    "    outTxt = \"\"\n",
    "    for i in range(len(txt)):\n",
    "        if i != charPos:\n",
    "            outTxt = outTxt + txt[i]\n",
    "            \n",
    "    print(outTxt)\n",
    "    \n",
    "removChar(\"DataScience\",4)"
   ]
  },
  {
   "cell_type": "markdown",
   "id": "54126caf",
   "metadata": {},
   "source": [
    "#### 3.\tWrite a Python program to split and join a string?"
   ]
  },
  {
   "cell_type": "code",
   "execution_count": 24,
   "id": "b16de782",
   "metadata": {},
   "outputs": [],
   "source": [
    "def splitAndjoin(txt):\n",
    "    txt = txt.split()\n",
    "    join_txt = []\n",
    "    for i in txt:\n",
    "        join_txt.append(i)\n",
    "        \n",
    "    joinTxt = \" \".join(join_txt)\n",
    "    print(joinTxt)"
   ]
  },
  {
   "cell_type": "code",
   "execution_count": 25,
   "id": "8909b020",
   "metadata": {},
   "outputs": [
    {
     "name": "stdout",
     "output_type": "stream",
     "text": [
      "Atanu Kundu\n"
     ]
    }
   ],
   "source": [
    "splitAndjoin(\"Atanu Kundu\")"
   ]
  },
  {
   "cell_type": "markdown",
   "id": "08778300",
   "metadata": {},
   "source": [
    "#### 4.\tWrite a Python to check if a given string is binary string or not?"
   ]
  },
  {
   "cell_type": "code",
   "execution_count": 37,
   "id": "0b1fa6f1",
   "metadata": {},
   "outputs": [
    {
     "name": "stdout",
     "output_type": "stream",
     "text": [
      "12340 is not binary\n",
      "1010100 is binary\n"
     ]
    }
   ],
   "source": [
    "def checkBinaryStrin(txt):\n",
    "    binaryStr = \"01\"\n",
    "    for i in txt:\n",
    "        if i not in binaryStr:\n",
    "            print(f\"{txt} is not binary\")\n",
    "            break\n",
    "            \n",
    "    else:\n",
    "        print(f\"{txt} is binary\")\n",
    "        \n",
    "checkBinaryStrin(\"12340\")\n",
    "checkBinaryStrin(\"1010100\")"
   ]
  },
  {
   "cell_type": "markdown",
   "id": "4286a273",
   "metadata": {},
   "source": [
    "#### 5.\tWrite a Python program to find uncommon words from two Strings?"
   ]
  },
  {
   "cell_type": "code",
   "execution_count": 46,
   "id": "6338a9b3",
   "metadata": {},
   "outputs": [
    {
     "name": "stdout",
     "output_type": "stream",
     "text": [
      "  my atanu his anit\n"
     ]
    }
   ],
   "source": [
    "def findWord(txt1,txt2):\n",
    "    uncommon_word = \" \"\n",
    "    txt1 = txt1.lower().split()\n",
    "    txt2 = txt2.lower().split()\n",
    "    for i in txt1:\n",
    "        if i not in txt2:\n",
    "            uncommon_word = uncommon_word +\" \"+i\n",
    "            \n",
    "    for j in txt2:\n",
    "        if j not in txt1:\n",
    "            uncommon_word = uncommon_word+\" \"+j\n",
    "            \n",
    "    print(uncommon_word)\n",
    "    \n",
    "findWord(\"My Name is Atanu Kundu\",\"His name is Anit Kundu\")\n",
    "            "
   ]
  },
  {
   "cell_type": "code",
   "execution_count": 61,
   "id": "48854d0e",
   "metadata": {},
   "outputs": [
    {
     "name": "stdout",
     "output_type": "stream",
     "text": [
      "atanu anit my his "
     ]
    }
   ],
   "source": [
    "# Alternate way to find uncommon words from two String\n",
    "def unCommWord(txt1,txt2):\n",
    "    txt1 = set(txt1.lower().split())\n",
    "    txt2 = set(txt2.lower().split())\n",
    "    out_txt = (txt1.union(txt2)).difference(txt1.intersection(txt2))\n",
    "#     print(out_txt)\n",
    "    \n",
    "    for i in out_txt:\n",
    "        print(i,end=\" \")\n",
    "        \n",
    "        \n",
    "unCommWord(\"My Name is Atanu Kundu\",\"His name is Anit Kundu\")"
   ]
  },
  {
   "cell_type": "markdown",
   "id": "be03f20a",
   "metadata": {},
   "source": [
    "#### 6.\tWrite a Python to find all duplicate characters in string?"
   ]
  },
  {
   "cell_type": "code",
   "execution_count": 49,
   "id": "45c39788",
   "metadata": {},
   "outputs": [
    {
     "name": "stdout",
     "output_type": "stream",
     "text": [
      "['a', 't', ' ', 'c', 'i', 'e', 'n']\n"
     ]
    }
   ],
   "source": [
    "def findDuplicate(txt):\n",
    "    dupli_txt = []\n",
    "    txt = txt.lower()\n",
    "    for i in txt:\n",
    "        if txt.count(i) > 1:\n",
    "            if i not in dupli_txt:\n",
    "                dupli_txt.append(i)\n",
    "    print(dupli_txt)        \n",
    "        \n",
    "findDuplicate(\"Data Science in Python\")"
   ]
  },
  {
   "cell_type": "markdown",
   "id": "9e2d9c98",
   "metadata": {},
   "source": [
    "#### 7.\tWrite a Python Program to check if a string contains any special character?"
   ]
  },
  {
   "cell_type": "code",
   "execution_count": 50,
   "id": "7e96e74c",
   "metadata": {},
   "outputs": [
    {
     "name": "stdout",
     "output_type": "stream",
     "text": [
      "There are total 3 special character in 'My Name is @ 'Atanu Kundu'' which are ['@', \"'\", \"'\"]\n"
     ]
    }
   ],
   "source": [
    "def checkSpecialChar(txt):\n",
    "    specia_char = '''[@_!#$%^&*()<>?\"\"''/\\|}{~:]'''\n",
    "    char_list = []\n",
    "    count = 0\n",
    "    for i in txt:\n",
    "        if i in specia_char:\n",
    "            char_list.append(i)\n",
    "            count = count + 1\n",
    "            \n",
    "    print(f\"There are total {count} special character in '{txt}' which are {char_list}\")\n",
    "    \n",
    "\n",
    "checkSpecialChar(\"My Name is @ 'Atanu Kundu'\")"
   ]
  },
  {
   "cell_type": "code",
   "execution_count": null,
   "id": "e529f962",
   "metadata": {},
   "outputs": [],
   "source": []
  }
 ],
 "metadata": {
  "kernelspec": {
   "display_name": "Python 3 (ipykernel)",
   "language": "python",
   "name": "python3"
  },
  "language_info": {
   "codemirror_mode": {
    "name": "ipython",
    "version": 3
   },
   "file_extension": ".py",
   "mimetype": "text/x-python",
   "name": "python",
   "nbconvert_exporter": "python",
   "pygments_lexer": "ipython3",
   "version": "3.9.7"
  }
 },
 "nbformat": 4,
 "nbformat_minor": 5
}
