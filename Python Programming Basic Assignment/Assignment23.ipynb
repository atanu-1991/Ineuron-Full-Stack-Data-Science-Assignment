{
 "cells": [
  {
   "cell_type": "markdown",
   "id": "c9a210d0",
   "metadata": {},
   "source": [
    "##### Question 1\n",
    "#### Create a function that takes a number as an argument and returns True or False depending on whether the number is symmetrical or not. A number is symmetrical when it is the same as its reverse.\n",
    "##### Examples\n",
    "`is_symmetrical(7227) ➞ True`\n",
    "\n",
    "`is_symmetrical(12567) ➞ False`\n",
    "\n",
    "`is_symmetrical(44444444) ➞ True`\n",
    "\n",
    "`is_symmetrical(9939) ➞ False`\n",
    "\n",
    "`is_symmetrical(1112111) ➞ True`\n"
   ]
  },
  {
   "cell_type": "code",
   "execution_count": 13,
   "id": "6c57ea7c",
   "metadata": {},
   "outputs": [
    {
     "name": "stdout",
     "output_type": "stream",
     "text": [
      "7227 is Symmetrical\n",
      "12567 is Not Symmetrical\n",
      "44444444 is Symmetrical\n",
      "9939 is Not Symmetrical\n",
      "1112111 is Symmetrical\n"
     ]
    }
   ],
   "source": [
    "def is_symmetrical(num):\n",
    "    str_num = str(num)\n",
    "    num_rev = str_num[::-1]\n",
    "    if num == int(num_rev):\n",
    "        print(f\"{num} is Symmetrical\")\n",
    "    else:\n",
    "        print(f\"{num} is Not Symmetrical\")\n",
    "        \n",
    "is_symmetrical(7227)\n",
    "is_symmetrical(12567)\n",
    "is_symmetrical(44444444)\n",
    "is_symmetrical(9939)\n",
    "is_symmetrical(1112111)"
   ]
  },
  {
   "cell_type": "markdown",
   "id": "0500a283",
   "metadata": {},
   "source": [
    "##### Question 2\n",
    "#### Given a string of numbers separated by a comma and space, return the product of the numbers.\n",
    "##### Examples\n",
    "`multiply_nums(\"2, 3\") ➞ 6`\n",
    "\n",
    "`multiply_nums(\"1, 2, 3, 4\") ➞ 24`\n",
    "\n",
    "`multiply_nums(\"54, 75, 453, 0\") ➞ 0`\n",
    "\n",
    "`multiply_nums(\"10, -2\") ➞ -20`\n"
   ]
  },
  {
   "cell_type": "code",
   "execution_count": 27,
   "id": "9daa1e76",
   "metadata": {},
   "outputs": [
    {
     "name": "stdout",
     "output_type": "stream",
     "text": [
      "6\n",
      "24\n",
      "0\n",
      "-20\n"
     ]
    }
   ],
   "source": [
    "def multiply_nums(strs):\n",
    "    mul = 1\n",
    "    str_lst = strs.replace(\" \",\"\").split(\",\")\n",
    "    for i in str_lst:\n",
    "        mul = mul * int(i)\n",
    "    print(mul)\n",
    "    \n",
    "    \n",
    "multiply_nums(\"2, 3\")\n",
    "multiply_nums(\"1, 2, 3, 4\")\n",
    "multiply_nums(\"54, 75, 453, 0\")\n",
    "multiply_nums(\"10, -2\")"
   ]
  },
  {
   "cell_type": "markdown",
   "id": "66f70a5d",
   "metadata": {},
   "source": [
    "##### Question 3\n",
    "#### Create a function that squares every digit of a number.\n",
    "##### Examples\n",
    "`square_digits(9119) ➞ 811181`\n",
    "\n",
    "`square_digits(2483) ➞ 416649`\n",
    "\n",
    "`square_digits(3212) ➞ 9414`\n",
    "##### Notes\n",
    "The function receives an integer and must return an integer\n"
   ]
  },
  {
   "cell_type": "code",
   "execution_count": 33,
   "id": "5803a399",
   "metadata": {},
   "outputs": [
    {
     "name": "stdout",
     "output_type": "stream",
     "text": [
      "811181\n",
      "416649\n",
      "9414\n"
     ]
    }
   ],
   "source": [
    "def square_digits(num):\n",
    "    num_str = str(num)\n",
    "    num_sqr = \"\"\n",
    "    for i in num_str:\n",
    "        sqr = (int(i) **2)\n",
    "        num_sqr = num_sqr + str(sqr)\n",
    "        \n",
    "    print(int(num_sqr))\n",
    "    \n",
    "square_digits(9119)\n",
    "square_digits(2483)\n",
    "square_digits(3212)"
   ]
  },
  {
   "cell_type": "markdown",
   "id": "6141d73a",
   "metadata": {},
   "source": [
    "##### Question 4\n",
    "#### Create a function that sorts a list and removes all duplicate items from it.\n",
    "##### Examples\n",
    "`setify([1, 3, 3, 5, 5]) ➞ [1, 3, 5]`\n",
    "\n",
    "`setify([4, 4, 4, 4]) ➞ [4]`\n",
    "\n",
    "`setify([5, 7, 8, 9, 10, 15]) ➞ [5, 7, 8, 9, 10, 15]`\n",
    "\n",
    "`setify([3, 3, 3, 2, 1]) ➞ [1, 2, 3]`\n"
   ]
  },
  {
   "cell_type": "code",
   "execution_count": 39,
   "id": "4a4c3d99",
   "metadata": {},
   "outputs": [
    {
     "name": "stdout",
     "output_type": "stream",
     "text": [
      "[1, 3, 5]\n",
      "[4]\n",
      "[5, 7, 8, 9, 10, 15]\n",
      "[1, 2, 3]\n"
     ]
    }
   ],
   "source": [
    "def setify(lst):\n",
    "    print(list(set(lst)))\n",
    "    \n",
    "setify([1, 3, 3, 5, 5])\n",
    "setify([4, 4, 4, 4])\n",
    "setify([5, 7, 8, 9, 10, 15])\n",
    "setify([3, 3, 3, 2, 1])"
   ]
  },
  {
   "cell_type": "markdown",
   "id": "b8548b7e",
   "metadata": {},
   "source": [
    "##### Question 5\n",
    "#### Create a function that returns the mean of all digits.\n",
    "##### Examples\n",
    "`mean(42) ➞ 3`\n",
    "\n",
    "`mean(12345) ➞ 3`\n",
    "\n",
    "`mean(666) ➞ 6`\n",
    "##### Notes\n",
    "•\tThe mean of all digits is the sum of digits / how many digits there are (e.g. mean of digits in 512 is (5+1+2)/3(number of digits) = 8/3=2).\n",
    "\n",
    "•\tThe mean will always be an integer.\n"
   ]
  },
  {
   "cell_type": "code",
   "execution_count": 45,
   "id": "76d3f6f8",
   "metadata": {},
   "outputs": [
    {
     "name": "stdout",
     "output_type": "stream",
     "text": [
      "mean(42) -> 3\n",
      "mean(12345) -> 3\n",
      "mean(666) -> 6\n",
      "mean(512) -> 2\n"
     ]
    }
   ],
   "source": [
    "def mean(num):\n",
    "    sum = 0\n",
    "    str_num = str(num)\n",
    "    num_len = len(str_num)\n",
    "    for i in str_num:\n",
    "        sum = sum + int(i)\n",
    "        \n",
    "    avg = (sum // num_len)\n",
    "    print(f\"mean({num}) -> {avg}\")\n",
    "    \n",
    "\n",
    "mean(42)\n",
    "mean(12345)\n",
    "mean(666)\n",
    "mean(512)"
   ]
  },
  {
   "cell_type": "code",
   "execution_count": null,
   "id": "0977a7fc",
   "metadata": {},
   "outputs": [],
   "source": []
  }
 ],
 "metadata": {
  "kernelspec": {
   "display_name": "Python 3 (ipykernel)",
   "language": "python",
   "name": "python3"
  },
  "language_info": {
   "codemirror_mode": {
    "name": "ipython",
    "version": 3
   },
   "file_extension": ".py",
   "mimetype": "text/x-python",
   "name": "python",
   "nbconvert_exporter": "python",
   "pygments_lexer": "ipython3",
   "version": "3.9.7"
  }
 },
 "nbformat": 4,
 "nbformat_minor": 5
}
