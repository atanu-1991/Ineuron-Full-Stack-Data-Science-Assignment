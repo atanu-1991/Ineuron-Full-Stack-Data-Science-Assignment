{
 "cells": [
  {
   "cell_type": "code",
   "execution_count": 5,
   "id": "6a549fb1",
   "metadata": {},
   "outputs": [],
   "source": [
    "# 1:\n",
    "import datetime\n",
    "\n",
    "currentDate = datetime.datetime.now().strftime(\"%d-%m-%Y\")\n",
    "\n",
    "with open(\"today.txt\",'w') as f:\n",
    "    f.write(currentDate)"
   ]
  },
  {
   "cell_type": "code",
   "execution_count": 26,
   "id": "320839ae",
   "metadata": {},
   "outputs": [],
   "source": [
    "# 2:\n",
    "with open(\"today.txt\",'r') as f:\n",
    "    today_string = f.read()"
   ]
  },
  {
   "cell_type": "code",
   "execution_count": 58,
   "id": "9205d755",
   "metadata": {},
   "outputs": [
    {
     "name": "stdout",
     "output_type": "stream",
     "text": [
      "31\n"
     ]
    }
   ],
   "source": [
    "# 3:\n",
    "import re\n",
    "from datetime import datetime\n",
    "\n",
    "match = re.search(r'\\d{2}-\\d{2}-\\d{4}', today_string)\n",
    "da= datetime.strptime(match.group(),\"%d-%m-%Y\").date()\n",
    "print(da.day)"
   ]
  },
  {
   "cell_type": "code",
   "execution_count": 49,
   "id": "6c453786",
   "metadata": {},
   "outputs": [
    {
     "data": {
      "text/plain": [
       "['.ipynb_checkpoints',\n",
       " 'Assignment1.ipynb',\n",
       " 'Assignment15.ipynb',\n",
       " 'Assignment16.ipynb',\n",
       " 'Assignment17.ipynb',\n",
       " 'Assignment18.ipynb',\n",
       " 'Assignment19.ipynb',\n",
       " 'Assignment2.ipynb',\n",
       " 'Assignment20.ipynb',\n",
       " 'Assignment21.ipynb',\n",
       " 'Assignment3.ipynb',\n",
       " 'Assignment4.ipynb',\n",
       " 'Assignment5.ipynb',\n",
       " 'Assignment6.ipynb',\n",
       " 'Assignment7.ipynb',\n",
       " 'Assignment9.ipynb',\n",
       " 'books.csv',\n",
       " 'test.txt',\n",
       " 'today.txt',\n",
       " 'zoo.py',\n",
       " '__pycache__']"
      ]
     },
     "execution_count": 49,
     "metadata": {},
     "output_type": "execute_result"
    }
   ],
   "source": [
    "# 4:\n",
    "import os\n",
    "os.listdir()"
   ]
  },
  {
   "cell_type": "code",
   "execution_count": 50,
   "id": "e3a97420",
   "metadata": {},
   "outputs": [
    {
     "name": "stdout",
     "output_type": "stream",
     "text": [
      "['.ipynb_checkpoints', 'Assignment1.ipynb', 'Assignment15.ipynb', 'Assignment16.ipynb', 'Assignment17.ipynb', 'Assignment18.ipynb', 'Assignment19.ipynb', 'Assignment2.ipynb', 'Assignment20.ipynb', 'Assignment21.ipynb', 'Assignment3.ipynb', 'Assignment4.ipynb', 'Assignment5.ipynb', 'Assignment6.ipynb', 'Assignment7.ipynb', 'Assignment9.ipynb', 'books.csv', 'test.txt', 'today.txt', 'zoo.py', '__pycache__']\n"
     ]
    }
   ],
   "source": [
    "# 5:\n",
    "l = []\n",
    "for i in os.listdir():\n",
    "    l.append(i)\n",
    "    \n",
    "print(l)"
   ]
  },
  {
   "cell_type": "code",
   "execution_count": 64,
   "id": "0b8cd45d",
   "metadata": {},
   "outputs": [],
   "source": [
    "# 6:\n",
    "import datetime\n",
    "\n",
    "da = datetime.datetime(1991,7,26)"
   ]
  },
  {
   "cell_type": "code",
   "execution_count": 66,
   "id": "3796647b",
   "metadata": {},
   "outputs": [
    {
     "data": {
      "text/plain": [
       "4"
      ]
     },
     "execution_count": 66,
     "metadata": {},
     "output_type": "execute_result"
    }
   ],
   "source": [
    "da.weekday()"
   ]
  },
  {
   "cell_type": "code",
   "execution_count": 67,
   "id": "75584f8d",
   "metadata": {},
   "outputs": [
    {
     "name": "stdout",
     "output_type": "stream",
     "text": [
      "2018-12-11\n"
     ]
    }
   ],
   "source": [
    "import datetime\n",
    "\n",
    "start_date = datetime.datetime(1991,7,26)\n",
    "end_date = start_date + datetime.timedelta(days=10000)\n",
    "\n",
    "print(end_date.date())"
   ]
  },
  {
   "cell_type": "code",
   "execution_count": null,
   "id": "84021d0c",
   "metadata": {},
   "outputs": [],
   "source": []
  }
 ],
 "metadata": {
  "kernelspec": {
   "display_name": "Python 3 (ipykernel)",
   "language": "python",
   "name": "python3"
  },
  "language_info": {
   "codemirror_mode": {
    "name": "ipython",
    "version": 3
   },
   "file_extension": ".py",
   "mimetype": "text/x-python",
   "name": "python",
   "nbconvert_exporter": "python",
   "pygments_lexer": "ipython3",
   "version": "3.9.7"
  }
 },
 "nbformat": 4,
 "nbformat_minor": 5
}
