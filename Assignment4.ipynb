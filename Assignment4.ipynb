{
 "cells": [
  {
   "cell_type": "raw",
   "id": "877ff14e",
   "metadata": {},
   "source": [
    "1.What exactly is []?"
   ]
  },
  {
   "cell_type": "raw",
   "id": "fbdeba92",
   "metadata": {},
   "source": [
    "Ans: []- It is array list"
   ]
  },
  {
   "cell_type": "raw",
   "id": "e8fcd4d3",
   "metadata": {},
   "source": [
    "2.In a list of values stored in a variable called spam, how would you assign the value 'hello' as the third value? (Assume [2, 4, 6, 8, 10] are in spam.)"
   ]
  },
  {
   "cell_type": "code",
   "execution_count": 4,
   "id": "9a97559b",
   "metadata": {},
   "outputs": [
    {
     "name": "stdout",
     "output_type": "stream",
     "text": [
      "[2, 4, 'hello', 8, 10]\n"
     ]
    }
   ],
   "source": [
    "spam=[2,4,6,8,10]\n",
    "spam[2]= 'hello'\n",
    "print(spam)"
   ]
  },
  {
   "cell_type": "raw",
   "id": "b78defe3",
   "metadata": {},
   "source": [
    "Let's pretend the spam includes the list ['a', 'b', 'c', 'd'] for the next three queries."
   ]
  },
  {
   "cell_type": "raw",
   "id": "d74608e4",
   "metadata": {},
   "source": [
    "3.What is the value of spam[int(int('3' * 2) / 11)]?"
   ]
  },
  {
   "cell_type": "code",
   "execution_count": 1,
   "id": "4853d143",
   "metadata": {},
   "outputs": [
    {
     "name": "stdout",
     "output_type": "stream",
     "text": [
      "d\n"
     ]
    }
   ],
   "source": [
    "spam=['a', 'b', 'c', 'd']\n",
    "print(spam[int(int('3' * 2) / 11)])"
   ]
  },
  {
   "cell_type": "raw",
   "id": "3926d240",
   "metadata": {},
   "source": [
    "4.What is the value of spam[-1]?  "
   ]
  },
  {
   "cell_type": "code",
   "execution_count": 11,
   "id": "5aba699c",
   "metadata": {},
   "outputs": [
    {
     "name": "stdout",
     "output_type": "stream",
     "text": [
      "d\n"
     ]
    }
   ],
   "source": [
    "print(spam[-1])"
   ]
  },
  {
   "cell_type": "raw",
   "id": "ba873acd",
   "metadata": {},
   "source": [
    "5.What is the value of spam[:2]? "
   ]
  },
  {
   "cell_type": "code",
   "execution_count": 12,
   "id": "c9c637e4",
   "metadata": {},
   "outputs": [
    {
     "name": "stdout",
     "output_type": "stream",
     "text": [
      "['a', 'b']\n"
     ]
    }
   ],
   "source": [
    "print(spam[:2])"
   ]
  },
  {
   "cell_type": "raw",
   "id": "66d149e6",
   "metadata": {},
   "source": [
    "Let's pretend bacon has the list [3.14, 'cat,' 11, 'cat,' True] for the next three questions."
   ]
  },
  {
   "cell_type": "markdown",
   "id": "5b9911b6",
   "metadata": {},
   "source": [
    "6.What is the value of bacon.index('cat')? "
   ]
  },
  {
   "cell_type": "code",
   "execution_count": 15,
   "id": "7f751832",
   "metadata": {},
   "outputs": [
    {
     "name": "stdout",
     "output_type": "stream",
     "text": [
      "1\n"
     ]
    }
   ],
   "source": [
    "bacon=[3.14, 'cat', 11, 'cat', True]\n",
    "print(bacon.index('cat'))"
   ]
  },
  {
   "cell_type": "markdown",
   "id": "fc6e6588",
   "metadata": {},
   "source": [
    "7.How does bacon.append(99) change the look of the list value in bacon? "
   ]
  },
  {
   "cell_type": "code",
   "execution_count": 16,
   "id": "4fb49dbc",
   "metadata": {},
   "outputs": [
    {
     "name": "stdout",
     "output_type": "stream",
     "text": [
      "[3.14, 'cat', 11, 'cat', True, 99]\n"
     ]
    }
   ],
   "source": [
    "bacon.append(99)\n",
    "print(bacon)"
   ]
  },
  {
   "cell_type": "markdown",
   "id": "e494352b",
   "metadata": {},
   "source": [
    "8.How does bacon.remove('cat') change the look of the list in bacon?"
   ]
  },
  {
   "cell_type": "code",
   "execution_count": 17,
   "id": "d0e513c6",
   "metadata": {},
   "outputs": [
    {
     "name": "stdout",
     "output_type": "stream",
     "text": [
      "[3.14, 11, 'cat', True, 99]\n"
     ]
    }
   ],
   "source": [
    "bacon.remove('cat')\n",
    "print(bacon)"
   ]
  },
  {
   "cell_type": "markdown",
   "id": "fe22e3ed",
   "metadata": {},
   "source": [
    "9.What are the list concatenation and list replication operators?"
   ]
  },
  {
   "cell_type": "code",
   "execution_count": 19,
   "id": "b16205c0",
   "metadata": {},
   "outputs": [
    {
     "name": "stdout",
     "output_type": "stream",
     "text": [
      "[1, 2, 3, 4, 5, 6, 7, 8]\n",
      "(1, 2, 3, 4, 5, 6, 7, 8)\n"
     ]
    }
   ],
   "source": [
    "l1=[1,2,3,4]\n",
    "l2=[5,6,7,8]\n",
    "l3= l1 + l2\n",
    "l4=(*l1,*l2)\n",
    "print(l3)\n",
    "print(l4)"
   ]
  },
  {
   "cell_type": "code",
   "execution_count": null,
   "id": "5ad3f7cf",
   "metadata": {},
   "outputs": [],
   "source": [
    "10. What is difference between the list methods append() and insert()?"
   ]
  },
  {
   "cell_type": "raw",
   "id": "adbefc1a",
   "metadata": {},
   "source": [
    "insert() - it will store the value at particular index of list\n",
    "append() - It will store the value at the end of the list"
   ]
  },
  {
   "cell_type": "markdown",
   "id": "4196a574",
   "metadata": {},
   "source": [
    "11.What are the two methods for removing items from a list?"
   ]
  },
  {
   "cell_type": "markdown",
   "id": "2f2ae417",
   "metadata": {},
   "source": [
    "Ans: remove() , pop()"
   ]
  },
  {
   "cell_type": "markdown",
   "id": "95e3c49d",
   "metadata": {},
   "source": [
    "12.Describe how list values and string values are identical."
   ]
  },
  {
   "cell_type": "code",
   "execution_count": null,
   "id": "6b5982b1",
   "metadata": {},
   "outputs": [],
   "source": [
    "l1=['h','e','l','l','o','w']\n",
    "String= 'hellow'"
   ]
  },
  {
   "cell_type": "markdown",
   "id": "c6eeb83e",
   "metadata": {},
   "source": [
    "13.What's the difference between tuples and lists?"
   ]
  },
  {
   "cell_type": "markdown",
   "id": "d0371aa8",
   "metadata": {},
   "source": [
    "list is mutable but tupple is immutable"
   ]
  },
  {
   "cell_type": "markdown",
   "id": "db2e1c7c",
   "metadata": {},
   "source": [
    "14.How do you type a tuple value that only contains the integer 42?"
   ]
  },
  {
   "cell_type": "code",
   "execution_count": 2,
   "id": "ee0cdd3e",
   "metadata": {},
   "outputs": [],
   "source": [
    "a = (42,)"
   ]
  },
  {
   "cell_type": "markdown",
   "id": "db525d05",
   "metadata": {},
   "source": [
    "15.How do you get a list value's tuple form? How do you get a tuple value's list form?"
   ]
  },
  {
   "cell_type": "code",
   "execution_count": null,
   "id": "2b3d514b",
   "metadata": {},
   "outputs": [],
   "source": [
    "a= [(a,b,c),(d,e,f),(g,h,i)]\n",
    "b= ([1,2,3],[4,5,6],[7,8,9])"
   ]
  },
  {
   "cell_type": "markdown",
   "id": "cd38be0f",
   "metadata": {},
   "source": [
    "16.Variables that \"contain\" list values are not necessarily lists themselves. Instead, what do they contain?"
   ]
  },
  {
   "cell_type": "code",
   "execution_count": null,
   "id": "0342cce3",
   "metadata": {},
   "outputs": [],
   "source": [
    "ANs: they contain address of the list"
   ]
  },
  {
   "cell_type": "markdown",
   "id": "3162fc32",
   "metadata": {},
   "source": [
    "17.How do you distinguish between copy.copy() and copy.deepcopy()"
   ]
  },
  {
   "cell_type": "code",
   "execution_count": 37,
   "id": "5cb5875c",
   "metadata": {},
   "outputs": [
    {
     "name": "stdout",
     "output_type": "stream",
     "text": [
      "Displaying value befor copying:\n",
      "1 2 [3, 4] 5 6 \r\n",
      "Displaying value after copying:\n",
      "1 2 [10, 4] 5 6 \n",
      "\n",
      "-----------------------------------------------------------\n",
      "\n",
      "Displaying value before deep copying:\n",
      "1 2 [3, 4] 5 6 \r\n",
      "The new list after deep copying\n",
      "1 2 [10, 4] 5 6 \r\n",
      "The original list\n",
      "1 2 [3, 4] 5 6 "
     ]
    }
   ],
   "source": [
    "# copy.copy()\n",
    "import copy\n",
    "l1=[1,2,[3,4],5,6]\n",
    "l2=copy.copy(l1)\n",
    "print(\"Displaying value befor copying:\")\n",
    "for i in range(0,len(l1)):   \n",
    "   print (l1[i],end=\" \")\n",
    "print(\"\\r\")\n",
    "l2[2][0]= 10\n",
    "print(\"Displaying value after copying:\")\n",
    "for i in range(0,len( l1)):   \n",
    "   print (l1[i],end=\" \")\n",
    "\n",
    "print(\"\\n\")\n",
    "print(\"-----------------------------------------------------------\\n\")\n",
    "# copy.deepcopy()\n",
    "l3=[1,2,[3,4],5,6]\n",
    "l4=copy.deepcopy(l1)\n",
    "\n",
    "print(\"Displaying value before deep copying:\")\n",
    "for i in range(0,len(l3)):   \n",
    "   print(l3[i],end=\" \")\n",
    "\n",
    "print(\"\\r\")\n",
    "l4[2][0]= 10\n",
    "\n",
    "print(\"The new list after deep copying\")\n",
    "for i in range(0,len(l3)):   \n",
    "   print(l4[i],end=\" \")\n",
    "print(\"\\r\")\n",
    "\n",
    "print(\"The original list\")\n",
    "for i in range(0,len(l3)):   \n",
    "   print (l3[i],end=\" \")\n"
   ]
  },
  {
   "cell_type": "code",
   "execution_count": null,
   "id": "0bb4add8",
   "metadata": {},
   "outputs": [],
   "source": []
  },
  {
   "cell_type": "code",
   "execution_count": null,
   "id": "eb9aac6d",
   "metadata": {},
   "outputs": [],
   "source": []
  }
 ],
 "metadata": {
  "kernelspec": {
   "display_name": "Python 3 (ipykernel)",
   "language": "python",
   "name": "python3"
  },
  "language_info": {
   "codemirror_mode": {
    "name": "ipython",
    "version": 3
   },
   "file_extension": ".py",
   "mimetype": "text/x-python",
   "name": "python",
   "nbconvert_exporter": "python",
   "pygments_lexer": "ipython3",
   "version": "3.9.7"
  }
 },
 "nbformat": 4,
 "nbformat_minor": 5
}
