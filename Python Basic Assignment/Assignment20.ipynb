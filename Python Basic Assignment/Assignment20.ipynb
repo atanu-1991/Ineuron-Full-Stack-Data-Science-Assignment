{
 "cells": [
  {
   "cell_type": "markdown",
   "id": "59ae3047",
   "metadata": {},
   "source": [
    "#### 1. Set the variable test1 to the string 'This is a test of the emergency text system,' and save test1 to a file named test.txt."
   ]
  },
  {
   "cell_type": "code",
   "execution_count": 1,
   "id": "202edb26",
   "metadata": {},
   "outputs": [],
   "source": [
    "test1 = \"This is a test of the emergency text system"
   ]
  },
  {
   "cell_type": "code",
   "execution_count": 3,
   "id": "1e32dfa2",
   "metadata": {},
   "outputs": [],
   "source": [
    "with open(\"test.txt\",'w') as f:\n",
    "    f.write(test1)"
   ]
  },
  {
   "cell_type": "markdown",
   "id": "87e10d9e",
   "metadata": {},
   "source": [
    "#### 2. Read the contents of the file test.txt into the variable test2. Is there a difference between test 1 and test 2?"
   ]
  },
  {
   "cell_type": "code",
   "execution_count": 1,
   "id": "76d0b16b",
   "metadata": {},
   "outputs": [
    {
     "name": "stdout",
     "output_type": "stream",
     "text": [
      "This is a test of the emergency text system\n"
     ]
    }
   ],
   "source": [
    "with open(\"test.txt\",'r') as f:\n",
    "    test2 = f.read()\n",
    "\n",
    "print(test2)"
   ]
  },
  {
   "cell_type": "markdown",
   "id": "d3708f18",
   "metadata": {},
   "source": [
    "#### 3. Create a CSV file called books.csv by using these lines:\n",
    "\n",
    "`title,author,year`\n",
    "\n",
    "`The Weirdstone of Brisingamen,Alan Garner,1960`\n",
    "\n",
    "`Perdido Street Station,China Miéville,2000`\n",
    "\n",
    "`Thud!,Terry Pratchett,2005\t`\n",
    "\n",
    "`The Spellman Files,Lisa Lutz,2007`\n",
    "\n",
    "`Small Gods,Terry Pratchett,1992`\n"
   ]
  },
  {
   "cell_type": "code",
   "execution_count": 20,
   "id": "22d7d19d",
   "metadata": {},
   "outputs": [],
   "source": [
    "import csv\n",
    "\n",
    "fields = ['title', 'author', 'year'] \n",
    "rows = [[\"The Weirdstone of Brisingamen\",\"Alan Garner\",1960],[\"Perdido Street Station\",\"China Miéville\",2000],[\"Thud!\",\"Terry Pratchett\",2005],[\"The Spellman Files\",\"Lisa Lutz\",2007],[\"Small Gods\",\"Terry Pratchett\",1992]]\n",
    "\n",
    "filename = \"books.csv\"\n",
    "\n",
    "with open(filename,'w',newline=\"\")as csvfile:\n",
    "    csvWriter = csv.writer(csvfile)\n",
    "    csvWriter.writerow(fields)\n",
    "    csvWriter.writerows(rows)"
   ]
  },
  {
   "cell_type": "markdown",
   "id": "2115832c",
   "metadata": {},
   "source": [
    "#### 4. Use the sqlite3 module to create a SQLite database called books.db, and a table called books with these fields: title (text), author (text), and year (integer)."
   ]
  },
  {
   "cell_type": "code",
   "execution_count": 34,
   "id": "44507757",
   "metadata": {},
   "outputs": [
    {
     "name": "stdout",
     "output_type": "stream",
     "text": [
      "Database Created!!\n"
     ]
    }
   ],
   "source": [
    "import mysql.connector as connection\n",
    "\n",
    "mydb = connection.connect(host= \"localhost\", user= \"root\", passwd= \"mysql\", use_pure= True)\n",
    "cur = mydb.cursor()\n",
    "cur.execute(\"create database books\")\n",
    "print(\"Database Created!!\")\n",
    "mydb.close()"
   ]
  },
  {
   "cell_type": "code",
   "execution_count": 35,
   "id": "f0843e11",
   "metadata": {},
   "outputs": [
    {
     "name": "stdout",
     "output_type": "stream",
     "text": [
      "Table Created!!\n"
     ]
    }
   ],
   "source": [
    "import mysql.connector as connection\n",
    "\n",
    "mydb = connection.connect(host= \"localhost\", database=\"books\", user= \"root\", passwd= \"mysql\", use_pure= True)\n",
    "cur = mydb.cursor()\n",
    "cur.execute(\"create table book(title VARCHAR(50), author VARCHAR(50), years INT(10))\")\n",
    "print(\"Table Created!!\")"
   ]
  },
  {
   "cell_type": "markdown",
   "id": "6f16a6f1",
   "metadata": {},
   "source": [
    "#### 5. Read books.csv and insert its data into the book table."
   ]
  },
  {
   "cell_type": "code",
   "execution_count": 36,
   "id": "986eea6d",
   "metadata": {},
   "outputs": [
    {
     "name": "stdout",
     "output_type": "stream",
     "text": [
      "['The Weirdstone of Brisingamen,Alan Garner,1960']\n",
      "\"The Weirdstone of Brisingamen\",\"Alan Garner\",\"1960\"\n",
      "['Perdido Street Station,China Miéville,2000']\n",
      "\"Perdido Street Station\",\"China Miéville\",\"2000\"\n",
      "['Thud!,Terry Pratchett,2005']\n",
      "\"Thud!\",\"Terry Pratchett\",\"2005\"\n",
      "['The Spellman Files,Lisa Lutz,2007']\n",
      "\"The Spellman Files\",\"Lisa Lutz\",\"2007\"\n",
      "['Small Gods,Terry Pratchett,1992']\n",
      "\"Small Gods\",\"Terry Pratchett\",\"1992\"\n"
     ]
    }
   ],
   "source": [
    "import csv\n",
    "\n",
    "\n",
    "mydb = connection.connect(host= \"localhost\", database=\"books\", user= \"root\", passwd= \"mysql\", use_pure= True)\n",
    "cur = mydb.cursor()\n",
    "with open(\"books.csv\",'r')as f:\n",
    "    next(f)\n",
    "    data_csv = csv.reader(f,delimiter=\"\\n\")\n",
    "    for i in data_csv:\n",
    "        print(i)\n",
    "        split_data = i[0].split(\",\")\n",
    "        join_data = \",\".join('\"'+e+'\"' for e in split_data)\n",
    "        print(join_data)\n",
    "        cur.execute(f\"insert into book values({join_data})\")\n",
    "        \n",
    "mydb.commit()"
   ]
  },
  {
   "cell_type": "markdown",
   "id": "e5e4a552",
   "metadata": {},
   "source": [
    "#### 6. Select and print the title column from the book table in alphabetical order."
   ]
  },
  {
   "cell_type": "code",
   "execution_count": 38,
   "id": "c0e6d293",
   "metadata": {},
   "outputs": [
    {
     "data": {
      "text/html": [
       "<div>\n",
       "<style scoped>\n",
       "    .dataframe tbody tr th:only-of-type {\n",
       "        vertical-align: middle;\n",
       "    }\n",
       "\n",
       "    .dataframe tbody tr th {\n",
       "        vertical-align: top;\n",
       "    }\n",
       "\n",
       "    .dataframe thead th {\n",
       "        text-align: right;\n",
       "    }\n",
       "</style>\n",
       "<table border=\"1\" class=\"dataframe\">\n",
       "  <thead>\n",
       "    <tr style=\"text-align: right;\">\n",
       "      <th></th>\n",
       "      <th>title</th>\n",
       "    </tr>\n",
       "  </thead>\n",
       "  <tbody>\n",
       "    <tr>\n",
       "      <th>0</th>\n",
       "      <td>Perdido Street Station</td>\n",
       "    </tr>\n",
       "    <tr>\n",
       "      <th>1</th>\n",
       "      <td>Small Gods</td>\n",
       "    </tr>\n",
       "    <tr>\n",
       "      <th>2</th>\n",
       "      <td>The Spellman Files</td>\n",
       "    </tr>\n",
       "    <tr>\n",
       "      <th>3</th>\n",
       "      <td>The Weirdstone of Brisingamen</td>\n",
       "    </tr>\n",
       "    <tr>\n",
       "      <th>4</th>\n",
       "      <td>Thud!</td>\n",
       "    </tr>\n",
       "  </tbody>\n",
       "</table>\n",
       "</div>"
      ],
      "text/plain": [
       "                           title\n",
       "0         Perdido Street Station\n",
       "1                     Small Gods\n",
       "2             The Spellman Files\n",
       "3  The Weirdstone of Brisingamen\n",
       "4                          Thud!"
      ]
     },
     "execution_count": 38,
     "metadata": {},
     "output_type": "execute_result"
    }
   ],
   "source": [
    "import pandas as pd\n",
    "pd.read_sql(\"select title from book order by title asc\",mydb)"
   ]
  },
  {
   "cell_type": "markdown",
   "id": "33b63085",
   "metadata": {},
   "source": [
    "#### 7. From the book table, select and print all columns in the order of publication."
   ]
  },
  {
   "cell_type": "code",
   "execution_count": 40,
   "id": "915fc132",
   "metadata": {},
   "outputs": [
    {
     "data": {
      "text/html": [
       "<div>\n",
       "<style scoped>\n",
       "    .dataframe tbody tr th:only-of-type {\n",
       "        vertical-align: middle;\n",
       "    }\n",
       "\n",
       "    .dataframe tbody tr th {\n",
       "        vertical-align: top;\n",
       "    }\n",
       "\n",
       "    .dataframe thead th {\n",
       "        text-align: right;\n",
       "    }\n",
       "</style>\n",
       "<table border=\"1\" class=\"dataframe\">\n",
       "  <thead>\n",
       "    <tr style=\"text-align: right;\">\n",
       "      <th></th>\n",
       "      <th>title</th>\n",
       "      <th>author</th>\n",
       "      <th>years</th>\n",
       "    </tr>\n",
       "  </thead>\n",
       "  <tbody>\n",
       "    <tr>\n",
       "      <th>0</th>\n",
       "      <td>The Weirdstone of Brisingamen</td>\n",
       "      <td>Alan Garner</td>\n",
       "      <td>1960</td>\n",
       "    </tr>\n",
       "    <tr>\n",
       "      <th>1</th>\n",
       "      <td>Small Gods</td>\n",
       "      <td>Terry Pratchett</td>\n",
       "      <td>1992</td>\n",
       "    </tr>\n",
       "    <tr>\n",
       "      <th>2</th>\n",
       "      <td>Perdido Street Station</td>\n",
       "      <td>China Miéville</td>\n",
       "      <td>2000</td>\n",
       "    </tr>\n",
       "    <tr>\n",
       "      <th>3</th>\n",
       "      <td>Thud!</td>\n",
       "      <td>Terry Pratchett</td>\n",
       "      <td>2005</td>\n",
       "    </tr>\n",
       "    <tr>\n",
       "      <th>4</th>\n",
       "      <td>The Spellman Files</td>\n",
       "      <td>Lisa Lutz</td>\n",
       "      <td>2007</td>\n",
       "    </tr>\n",
       "  </tbody>\n",
       "</table>\n",
       "</div>"
      ],
      "text/plain": [
       "                           title           author  years\n",
       "0  The Weirdstone of Brisingamen      Alan Garner   1960\n",
       "1                     Small Gods  Terry Pratchett   1992\n",
       "2         Perdido Street Station   China Miéville   2000\n",
       "3                          Thud!  Terry Pratchett   2005\n",
       "4             The Spellman Files        Lisa Lutz   2007"
      ]
     },
     "execution_count": 40,
     "metadata": {},
     "output_type": "execute_result"
    }
   ],
   "source": [
    "pd.read_sql(\"select title,author,years from book order by years\",mydb)"
   ]
  },
  {
   "cell_type": "markdown",
   "id": "e0c140af",
   "metadata": {},
   "source": [
    "#### 8. Use the sqlalchemy module to connect to the sqlite3 database books.db that you just made in exercise 6."
   ]
  },
  {
   "cell_type": "code",
   "execution_count": 55,
   "id": "8d63d4d9",
   "metadata": {},
   "outputs": [
    {
     "data": {
      "text/plain": [
       "Engine(sqlite:///books.db)"
      ]
     },
     "execution_count": 55,
     "metadata": {},
     "output_type": "execute_result"
    }
   ],
   "source": [
    "import sqlalchemy\n",
    "\n",
    "engine = sqlalchemy.create_engine(\"sqlite:///books.db\")\n",
    "engine"
   ]
  },
  {
   "cell_type": "markdown",
   "id": "564696df",
   "metadata": {},
   "source": [
    "#### 9. Install the Redis server and the Python redis library (pip install redis) on your computer. Create a Redis hash called test with the fields count (1) and name ('Fester Bestertester'). Print all the fields for test."
   ]
  },
  {
   "cell_type": "code",
   "execution_count": 58,
   "id": "6918caa3",
   "metadata": {},
   "outputs": [
    {
     "name": "stdout",
     "output_type": "stream",
     "text": [
      "Requirement already satisfied: redis in c:\\users\\atanu\\anaconda3\\lib\\site-packages (4.3.3)\n",
      "Requirement already satisfied: deprecated>=1.2.3 in c:\\users\\atanu\\anaconda3\\lib\\site-packages (from redis) (1.2.13)\n",
      "Requirement already satisfied: packaging>=20.4 in c:\\users\\atanu\\anaconda3\\lib\\site-packages (from redis) (21.0)\n",
      "Requirement already satisfied: async-timeout>=4.0.2 in c:\\users\\atanu\\anaconda3\\lib\\site-packages (from redis) (4.0.2)\n",
      "Requirement already satisfied: wrapt<2,>=1.10 in c:\\users\\atanu\\anaconda3\\lib\\site-packages (from deprecated>=1.2.3->redis) (1.12.1)\n",
      "Requirement already satisfied: pyparsing>=2.0.2 in c:\\users\\atanu\\anaconda3\\lib\\site-packages (from packaging>=20.4->redis) (3.0.4)\n"
     ]
    }
   ],
   "source": [
    "!pip install redis"
   ]
  },
  {
   "cell_type": "code",
   "execution_count": null,
   "id": "9590d955",
   "metadata": {},
   "outputs": [],
   "source": [
    "import redis\n",
    "conn = redis.Redis()\n",
    "conn.delete('test')\n",
    "conn.hmset('test', {'count': 1, 'name': 'Fester Bestertester'})\n",
    "conn.hgetall('test')"
   ]
  },
  {
   "cell_type": "markdown",
   "id": "4bac78d6",
   "metadata": {},
   "source": [
    "#### 10. Increment the count field of test and print it."
   ]
  },
  {
   "cell_type": "code",
   "execution_count": null,
   "id": "6550c6c1",
   "metadata": {},
   "outputs": [],
   "source": [
    "conn.hincrby('test','count', 3)"
   ]
  }
 ],
 "metadata": {
  "kernelspec": {
   "display_name": "Python 3 (ipykernel)",
   "language": "python",
   "name": "python3"
  },
  "language_info": {
   "codemirror_mode": {
    "name": "ipython",
    "version": 3
   },
   "file_extension": ".py",
   "mimetype": "text/x-python",
   "name": "python",
   "nbconvert_exporter": "python",
   "pygments_lexer": "ipython3",
   "version": "3.9.7"
  }
 },
 "nbformat": 4,
 "nbformat_minor": 5
}
