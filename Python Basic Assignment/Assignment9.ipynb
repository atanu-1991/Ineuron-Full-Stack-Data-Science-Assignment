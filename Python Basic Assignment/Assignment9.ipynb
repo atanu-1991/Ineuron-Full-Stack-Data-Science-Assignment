{
 "cells": [
  {
   "cell_type": "markdown",
   "id": "ab435a79",
   "metadata": {},
   "source": [
    "#### 1.To what does a relative path refer?"
   ]
  },
  {
   "cell_type": "markdown",
   "id": "44be370d",
   "metadata": {},
   "source": [
    "Ans: A relative path refers to a location that is relative to a current directory"
   ]
  },
  {
   "cell_type": "markdown",
   "id": "471a7cc2",
   "metadata": {},
   "source": [
    "#### 2.What does an absolute path start with your operating system?"
   ]
  },
  {
   "cell_type": "markdown",
   "id": "456f8e22",
   "metadata": {},
   "source": [
    "Ans: An absolute path refers to the complete details needed to locate a file or folder, starting from the root element and ending with the other subdirectories.\n",
    "Absolute paths are used in websites and operating systems for locating files and folders.\n",
    "An absolute path is also known as an absolute pathname or full path."
   ]
  },
  {
   "cell_type": "markdown",
   "id": "f17fd862",
   "metadata": {},
   "source": [
    "#### 3.What do the functions os.getcwd() and os.chdir() do?"
   ]
  },
  {
   "cell_type": "markdown",
   "id": "bb82d799",
   "metadata": {},
   "source": [
    "Ans: os.getcwd() is used to check path of th current working directory\n",
    "os.chdir() is used to change the path from the present directory to target directory"
   ]
  },
  {
   "cell_type": "markdown",
   "id": "1874da8e",
   "metadata": {},
   "source": [
    "#### 4.What are the . and .. folders?"
   ]
  },
  {
   "cell_type": "markdown",
   "id": "6c01ce00",
   "metadata": {},
   "source": [
    "Ans: . refers the present directory\n",
    "\n",
    ".. refers the parent directory"
   ]
  },
  {
   "cell_type": "markdown",
   "id": "159fa550",
   "metadata": {},
   "source": [
    "#### 5.In C:\\bacon\\eggs\\spam.txt, which part is the dir name, and which part is the base name?"
   ]
  },
  {
   "cell_type": "markdown",
   "id": "5b6e44e6",
   "metadata": {},
   "source": [
    "C:\\bacon\\eggs\\spam.txt\n",
    "\n",
    "C:\\bacon\\eggs -> dir name\n",
    "\n",
    "spam.txt -> base name"
   ]
  },
  {
   "cell_type": "markdown",
   "id": "0b3c6c80",
   "metadata": {},
   "source": [
    "#### 6.What are the three “mode” arguments that can be passed to the open() function?"
   ]
  },
  {
   "cell_type": "markdown",
   "id": "4b4504ea",
   "metadata": {},
   "source": [
    "Ans: 'r','w','a'"
   ]
  },
  {
   "cell_type": "markdown",
   "id": "6c82c16a",
   "metadata": {},
   "source": [
    "#### 7.What happens if an existing file is opened in write mode?"
   ]
  },
  {
   "cell_type": "markdown",
   "id": "54195dae",
   "metadata": {},
   "source": [
    "Ans: if an existing file is opened in write mode then if we write something than previous text from the file will be deleted"
   ]
  },
  {
   "cell_type": "markdown",
   "id": "69c35ec3",
   "metadata": {},
   "source": [
    "#### 8.How do you tell the difference between read() and readlines()?"
   ]
  },
  {
   "cell_type": "markdown",
   "id": "5e787293",
   "metadata": {},
   "source": [
    "Ans: read() is used to read all the text from the file\n",
    "\n",
    "readlines() is used to read the only one line of text from the file"
   ]
  },
  {
   "cell_type": "markdown",
   "id": "dc1fdfeb",
   "metadata": {},
   "source": [
    "#### 9.What data structure does a shelf value resemble?"
   ]
  },
  {
   "cell_type": "markdown",
   "id": "0666dde2",
   "metadata": {},
   "source": [
    "Ans: dictionary does a shelf value resemble"
   ]
  }
 ],
 "metadata": {
  "kernelspec": {
   "display_name": "Python 3 (ipykernel)",
   "language": "python",
   "name": "python3"
  },
  "language_info": {
   "codemirror_mode": {
    "name": "ipython",
    "version": 3
   },
   "file_extension": ".py",
   "mimetype": "text/x-python",
   "name": "python",
   "nbconvert_exporter": "python",
   "pygments_lexer": "ipython3",
   "version": "3.9.7"
  }
 },
 "nbformat": 4,
 "nbformat_minor": 5
}
