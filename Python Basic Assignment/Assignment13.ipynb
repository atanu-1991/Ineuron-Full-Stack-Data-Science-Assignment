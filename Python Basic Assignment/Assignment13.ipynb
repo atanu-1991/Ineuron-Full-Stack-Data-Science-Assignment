{
 "cells": [
  {
   "cell_type": "markdown",
   "id": "27219485",
   "metadata": {},
   "source": [
    "#### 1. What advantages do Excel spreadsheets have over CSV spreadsheets?"
   ]
  },
  {
   "cell_type": "markdown",
   "id": "d67b8f70",
   "metadata": {},
   "source": [
    "Ans: The Advantages of Excel over CSV are:\n",
    "\n",
    " 1.Excel (XLS and XLSX) file formats are better for storing and analysing complex data.\n",
    " \n",
    " 2.An Excel not only stores data but can also do operations on the data using macros, formulas etc\n",
    " \n",
    " 3.CSV files are plain-text files, Does not contain formatting, formulas, macros, etc. It is also known as flat files"
   ]
  },
  {
   "cell_type": "markdown",
   "id": "1e28af99",
   "metadata": {},
   "source": [
    "#### 2. What do you pass to csv.reader() and csv.writer() to create reader and writer objects?"
   ]
  },
  {
   "cell_type": "code",
   "execution_count": 16,
   "id": "4562f54a",
   "metadata": {},
   "outputs": [
    {
     "name": "stdout",
     "output_type": "stream",
     "text": [
      "['title', 'author', 'year']\n",
      "['The Weirdstone of Brisingamen', 'Alan Garner', '1960']\n",
      "['Perdido Street Station', 'China MiÃ©ville', '2000']\n",
      "['Thud!', 'Terry Pratchett', '2005']\n",
      "['The Spellman Files', 'Lisa Lutz', '2007']\n",
      "['Small Gods', 'Terry Pratchett', '1992']\n"
     ]
    }
   ],
   "source": [
    "import csv\n",
    "\n",
    "with open(\"books.csv\",'r') as f:\n",
    "    data = csv.reader(f)\n",
    "    for j in data:\n",
    "        print(j)"
   ]
  },
  {
   "cell_type": "markdown",
   "id": "c8fa75d6",
   "metadata": {},
   "source": [
    "#### 3. What modes do File objects for reader and writer objects need to be opened in?"
   ]
  },
  {
   "cell_type": "markdown",
   "id": "9219b06e",
   "metadata": {},
   "source": [
    "Ans: For csv.reader(iterable_file_object), the file objects needed to be opened in read mode mode='r' Whereas for csv.writer(iterable_file_object) the file objects needed to be opened in write mode mode='w'"
   ]
  },
  {
   "cell_type": "markdown",
   "id": "798f4b38",
   "metadata": {},
   "source": [
    "#### 4. What method takes a list argument and writes it to a CSV file?"
   ]
  },
  {
   "cell_type": "markdown",
   "id": "a8f75d24",
   "metadata": {},
   "source": [
    "Ans: csv.writer class provides two methods for writing to CSV. They are writerow() and writerows(). writerow() method writes a single row at a time. Whereas writerows() method is used to write multiple rows at a time."
   ]
  },
  {
   "cell_type": "code",
   "execution_count": 2,
   "id": "a3303572",
   "metadata": {},
   "outputs": [],
   "source": [
    "import csv\n",
    "\n",
    "fields = ['Name','Branch','Year','CGPA'] #column names\n",
    "rows = [\n",
    "    \n",
    "            ['ATANU','CSE','2014','7.25'], # data rows of csv file\n",
    "            ['ANIT','IT','2016','7.4'],\n",
    "            ['NILIMA','EE','2012','7.95'],\n",
    "            ['KAJAL','ECE','2010','8.2'],\n",
    "    \n",
    "       ]\n",
    "\n",
    "with open(\"University_record.csv\",'w',newline='') as f:\n",
    "    csvwriter = csv.writer(f) # creating a csv writer object\n",
    "    csvwriter.writerow(fields) # writing the fields\n",
    "    csvwriter.writerows(rows) # writing the data rows"
   ]
  },
  {
   "cell_type": "markdown",
   "id": "2ab7da73",
   "metadata": {},
   "source": [
    "#### 5. What do the keyword arguments delimiter and line terminator do?"
   ]
  },
  {
   "cell_type": "code",
   "execution_count": 17,
   "id": "ae15d867",
   "metadata": {},
   "outputs": [
    {
     "name": "stdout",
     "output_type": "stream",
     "text": [
      "['title,author,year']\n",
      "['The Weirdstone of Brisingamen,Alan Garner,1960']\n",
      "['Perdido Street Station,China MiÃ©ville,2000']\n",
      "['Thud!,Terry Pratchett,2005']\n",
      "['The Spellman Files,Lisa Lutz,2007']\n",
      "['Small Gods,Terry Pratchett,1992']\n"
     ]
    }
   ],
   "source": [
    "# The example of delimiter\n",
    "import csv\n",
    "\n",
    "with open(\"books.csv\",'r') as f:\n",
    "    data = csv.reader(f,delimiter=\"\\n\")\n",
    "    for j in data:\n",
    "        print(j)"
   ]
  },
  {
   "cell_type": "markdown",
   "id": "6a000f69",
   "metadata": {},
   "source": [
    "Here \"\\n\" is the delimiter. We can use any Character as per oour needs if required.\n",
    "\n",
    "Similarly Line Terminator comes at end of line by default it is newline and can be changed accourding to Requirement."
   ]
  },
  {
   "cell_type": "markdown",
   "id": "5b860f6f",
   "metadata": {},
   "source": [
    "#### 6. What function takes a string of JSON data and returns a Python data structure?"
   ]
  },
  {
   "cell_type": "markdown",
   "id": "052e7701",
   "metadata": {},
   "source": [
    "Ans: loads() method takes a string of JSON data and returns a Python data structure"
   ]
  },
  {
   "cell_type": "code",
   "execution_count": 1,
   "id": "d0476d88",
   "metadata": {},
   "outputs": [
    {
     "name": "stdout",
     "output_type": "stream",
     "text": [
      "{\n",
      "\n",
      "    \"Name\" : \"Atanu Kundu\",\n",
      "    \"qualification\" : \"B.Tech\",\n",
      "    \"Branch\" : \"Computer Science & Engineering\"\n",
      "}\n",
      "\n",
      "Type of  json_data is <class 'str'>\n",
      "{'Name': 'Atanu Kundu', 'qualification': 'B.Tech', 'Branch': 'Computer Science & Engineering'}\n",
      "Type of normal_data is <class 'dict'>\n"
     ]
    }
   ],
   "source": [
    "import json\n",
    "\n",
    "json_data = '''{\n",
    "\n",
    "    \"Name\" : \"Atanu Kundu\",\n",
    "    \"qualification\" : \"B.Tech\",\n",
    "    \"Branch\" : \"Computer Science & Engineering\"\n",
    "}\n",
    "'''\n",
    "print(json_data)\n",
    "print(f\"Type of  json_data is {type(json_data)}\")\n",
    "\n",
    "normal_data = json.loads(json_data)\n",
    "print(normal_data)\n",
    "print(f\"Type of normal_data is {type(normal_data)}\")"
   ]
  },
  {
   "cell_type": "markdown",
   "id": "edcd74f7",
   "metadata": {},
   "source": [
    "#### 7. What function takes a Python data structure and returns a string of JSON data?"
   ]
  },
  {
   "cell_type": "markdown",
   "id": "f221ee5f",
   "metadata": {},
   "source": [
    "Ans: dumps() method takes a python data structure and returns a string of JSON data"
   ]
  },
  {
   "cell_type": "code",
   "execution_count": 9,
   "id": "e5017cb5",
   "metadata": {},
   "outputs": [
    {
     "name": "stdout",
     "output_type": "stream",
     "text": [
      "{'Name': 'Kilan Kundu', 'qualification': 'B.Tech', 'Branch': 'Computer Science & Engineering'}\n",
      "Type of normal_data is <class 'dict'>\n",
      "{\n",
      "  \"Name\": \"Kilan Kundu\",\n",
      "  \"qualification\": \"B.Tech\",\n",
      "  \"Branch\": \"Computer Science & Engineering\"\n",
      "}\n",
      "Type of json_data is <class 'str'>\n"
     ]
    }
   ],
   "source": [
    "import json\n",
    "\n",
    "normal_data = {\n",
    "    \"Name\":\"Kilan Kundu\",\n",
    "    \"qualification\":\"B.Tech\",\n",
    "    \"Branch\":\"Computer Science & Engineering\"\n",
    "}\n",
    "\n",
    "print(normal_data)\n",
    "print(f\"Type of normal_data is {type(normal_data)}\")\n",
    "\n",
    "json_data = json.dumps(normal_data,indent=2)\n",
    "print(json_data)\n",
    "print(f\"Type of json_data is {type(json_data)}\")"
   ]
  },
  {
   "cell_type": "code",
   "execution_count": null,
   "id": "3767e31c",
   "metadata": {},
   "outputs": [],
   "source": []
  }
 ],
 "metadata": {
  "kernelspec": {
   "display_name": "Python 3 (ipykernel)",
   "language": "python",
   "name": "python3"
  },
  "language_info": {
   "codemirror_mode": {
    "name": "ipython",
    "version": 3
   },
   "file_extension": ".py",
   "mimetype": "text/x-python",
   "name": "python",
   "nbconvert_exporter": "python",
   "pygments_lexer": "ipython3",
   "version": "3.9.7"
  }
 },
 "nbformat": 4,
 "nbformat_minor": 5
}
