{
 "cells": [
  {
   "cell_type": "markdown",
   "id": "d069b132",
   "metadata": {},
   "source": [
    "#### 1. Make a class called Thing with no contents and print it. Then, create an object called example from this class and also print it. Are the printed values the same or different?"
   ]
  },
  {
   "cell_type": "code",
   "execution_count": 5,
   "id": "e3ad17e6",
   "metadata": {},
   "outputs": [
    {
     "name": "stdout",
     "output_type": "stream",
     "text": [
      "<class '__main__.Thing'>\n",
      "<__main__.Thing object at 0x0000029B2379DB50>\n"
     ]
    }
   ],
   "source": [
    "class Thing:\n",
    "    pass\n",
    "\n",
    "print(Thing)\n",
    "example = Thing()\n",
    "print(example)"
   ]
  },
  {
   "cell_type": "markdown",
   "id": "a6c94be2",
   "metadata": {},
   "source": [
    "#### 2. Create a new class called Thing2 and add the value 'abc' to the letters class attribute. Letters should be printed."
   ]
  },
  {
   "cell_type": "code",
   "execution_count": 7,
   "id": "8dd489f2",
   "metadata": {},
   "outputs": [
    {
     "name": "stdout",
     "output_type": "stream",
     "text": [
      "abc\n"
     ]
    }
   ],
   "source": [
    "class Thing2:\n",
    "    letters = 'abc'\n",
    "    \n",
    "ob = Thing2()\n",
    "print(ob.letters)"
   ]
  },
  {
   "cell_type": "markdown",
   "id": "11b15db4",
   "metadata": {},
   "source": [
    "#### 3. Make yet another class called, of course, Thing3. This time, assign the value 'xyz' to an instance (object) attribute called letters. Print letters. Do you need to make an object from the class to do this?"
   ]
  },
  {
   "cell_type": "code",
   "execution_count": 8,
   "id": "c8238461",
   "metadata": {},
   "outputs": [
    {
     "name": "stdout",
     "output_type": "stream",
     "text": [
      "xyz\n"
     ]
    }
   ],
   "source": [
    "class Thing3:\n",
    "    def __init__(self,letter):\n",
    "        self.letter = letter\n",
    "        \n",
    "    def letters(self):\n",
    "        print(self.letter)\n",
    "        \n",
    "        \n",
    "ob = Thing3('xyz')\n",
    "ob.letters()"
   ]
  },
  {
   "cell_type": "markdown",
   "id": "a289f3cf",
   "metadata": {},
   "source": [
    "#### 4. Create an Element class with the instance attributes name, symbol, and number. Create a class object with the values 'Hydrogen,' 'H,' and 1."
   ]
  },
  {
   "cell_type": "code",
   "execution_count": 9,
   "id": "38d7d93e",
   "metadata": {},
   "outputs": [],
   "source": [
    "class Element:\n",
    "    def __init__(self,name,symbol,number):\n",
    "        self.name = name\n",
    "        self.symbol = symbol\n",
    "        self.number = number\n",
    "        \n",
    "ob = Element('Hydrozen','H',1)"
   ]
  },
  {
   "cell_type": "markdown",
   "id": "09385576",
   "metadata": {},
   "source": [
    "#### 5. Make a dictionary with these keys and values: 'name': 'Hydrogen', 'symbol': 'H', 'number': 1. Then, create an object called hydrogen from class Element using this dictionary."
   ]
  },
  {
   "cell_type": "code",
   "execution_count": 10,
   "id": "5753b213",
   "metadata": {},
   "outputs": [],
   "source": [
    "d = {'name': 'Hydrogen', 'symbol': 'H', 'number': 1}\n",
    "ob = Element(**d)"
   ]
  },
  {
   "cell_type": "markdown",
   "id": "cc834681",
   "metadata": {},
   "source": [
    "#### 6. For the Element class, define a method called dump() that prints the values of the object’s attributes (name, symbol, and number). Create the hydrogen object from this new definition and use dump() to print its attributes."
   ]
  },
  {
   "cell_type": "code",
   "execution_count": 13,
   "id": "757351b1",
   "metadata": {},
   "outputs": [
    {
     "name": "stdout",
     "output_type": "stream",
     "text": [
      "Hydrogen\n",
      "H\n",
      "1\n"
     ]
    }
   ],
   "source": [
    "class Element:\n",
    "    def __init__(self,name,symbol,number):\n",
    "        self.name = name\n",
    "        self.symbol = symbol\n",
    "        self.number = number\n",
    "        \n",
    "    def  dump(self):\n",
    "        print(self.name)\n",
    "        print(self.symbol)\n",
    "        print(self.number)\n",
    "        \n",
    "hydrozen = Element(**d)\n",
    "hydrozen.dump()"
   ]
  },
  {
   "cell_type": "markdown",
   "id": "257dc804",
   "metadata": {},
   "source": [
    "#### 7. Call print(hydrogen). In the definition of Element, change the name of method dump to __str__, create a new hydrogen object, and call print(hydrogen) again."
   ]
  },
  {
   "cell_type": "code",
   "execution_count": 14,
   "id": "6e55dce3",
   "metadata": {},
   "outputs": [
    {
     "name": "stdout",
     "output_type": "stream",
     "text": [
      "Hydrogen\n"
     ]
    }
   ],
   "source": [
    "class Element:\n",
    "    def __init__(self,name,symbol,number):\n",
    "        self.name = name\n",
    "        self.symbol = symbol\n",
    "        self.number = number\n",
    "        \n",
    "    def  __str__(self):\n",
    "        return self.name\n",
    "    \n",
    "hydrozen = Element(**d)\n",
    "print(hydrozen)"
   ]
  },
  {
   "cell_type": "markdown",
   "id": "1c7f90cf",
   "metadata": {},
   "source": [
    "#### 8. Modify Element to make the attributes name, symbol, and number private. Define a getter property for each to return its value."
   ]
  },
  {
   "cell_type": "code",
   "execution_count": 16,
   "id": "1946c1b6",
   "metadata": {},
   "outputs": [
    {
     "data": {
      "text/plain": [
       "'Hydrogen'"
      ]
     },
     "execution_count": 16,
     "metadata": {},
     "output_type": "execute_result"
    }
   ],
   "source": [
    "class Element:\n",
    "    def __init__(self,name,symbol,number):\n",
    "        self.__name = name\n",
    "        self.__symbol = symbol\n",
    "        self.__number = number\n",
    "    \n",
    "    @property\n",
    "    def name(self):\n",
    "        return(self.__name)\n",
    "    \n",
    "    \n",
    "    @property\n",
    "    def symbol(self):\n",
    "        return(self.__symbol)\n",
    "    \n",
    "    \n",
    "    @property\n",
    "    def number(self):\n",
    "        return(self.__number)\n",
    "    \n",
    "\n",
    "hydrozen = Element(**d)\n",
    "hydrozen.name"
   ]
  },
  {
   "cell_type": "markdown",
   "id": "bc048422",
   "metadata": {},
   "source": [
    "#### 9. Define three classes: Bear, Rabbit, and Octothorpe. For each, define only one method: eats(). This should return 'berries' (Bear), 'clover' (Rabbit), or 'campers' (Octothorpe). Create one object from each and print what it eats."
   ]
  },
  {
   "cell_type": "code",
   "execution_count": 24,
   "id": "2de35236",
   "metadata": {},
   "outputs": [
    {
     "data": {
      "text/plain": [
       "'clover'"
      ]
     },
     "execution_count": 24,
     "metadata": {},
     "output_type": "execute_result"
    }
   ],
   "source": [
    "class Bear:\n",
    "    def eats(self):\n",
    "        return 'berries'\n",
    "    \n",
    "class Rabbit:\n",
    "    def eats(self):\n",
    "        return 'clover'\n",
    "    \n",
    "class Octothorpe:\n",
    "    def eats(self):\n",
    "        return 'campers'"
   ]
  },
  {
   "cell_type": "code",
   "execution_count": 25,
   "id": "4918c723",
   "metadata": {},
   "outputs": [
    {
     "data": {
      "text/plain": [
       "'berries'"
      ]
     },
     "execution_count": 25,
     "metadata": {},
     "output_type": "execute_result"
    }
   ],
   "source": [
    "ob = Bear()\n",
    "ob.eats()"
   ]
  },
  {
   "cell_type": "code",
   "execution_count": 26,
   "id": "1ebfd329",
   "metadata": {},
   "outputs": [
    {
     "data": {
      "text/plain": [
       "'clover'"
      ]
     },
     "execution_count": 26,
     "metadata": {},
     "output_type": "execute_result"
    }
   ],
   "source": [
    "ob2 = Rabbit()\n",
    "ob2.eats()"
   ]
  },
  {
   "cell_type": "code",
   "execution_count": 27,
   "id": "ac47b767",
   "metadata": {},
   "outputs": [
    {
     "data": {
      "text/plain": [
       "'campers'"
      ]
     },
     "execution_count": 27,
     "metadata": {},
     "output_type": "execute_result"
    }
   ],
   "source": [
    "ob3 = Octothorpe()\n",
    "ob3.eats()"
   ]
  },
  {
   "cell_type": "markdown",
   "id": "9b38a7b7",
   "metadata": {},
   "source": [
    "#### 10. Define these classes: Laser, Claw, and SmartPhone. Each has only one method: does(). This returns 'disintegrate' (Laser), 'crush' (Claw), or 'ring' (SmartPhone). Then, define the class Robot that has one instance (object) of each of these. Define a does() method for the Robot that prints what its component objects do."
   ]
  },
  {
   "cell_type": "code",
   "execution_count": 32,
   "id": "0929e32e",
   "metadata": {},
   "outputs": [
    {
     "data": {
      "text/plain": [
       "'disintegrate'"
      ]
     },
     "execution_count": 32,
     "metadata": {},
     "output_type": "execute_result"
    }
   ],
   "source": [
    "class Laser:\n",
    "    def does():\n",
    "        return 'disintegrate'\n",
    "    \n",
    "class Claw:\n",
    "    def does():\n",
    "        return 'crush'\n",
    "    \n",
    "class SmartPhone:\n",
    "    def does():\n",
    "        return 'ring'\n",
    "    \n",
    "    \n",
    "class Robot:\n",
    "    def __init__(self,a):\n",
    "        self.a = a\n",
    "    \n",
    "    def does(self):\n",
    "        return self.a.does()\n",
    "    \n",
    "\n",
    "r= Robot(Laser)    \n",
    "r.does()"
   ]
  },
  {
   "cell_type": "code",
   "execution_count": null,
   "id": "60c1580e",
   "metadata": {},
   "outputs": [],
   "source": []
  }
 ],
 "metadata": {
  "kernelspec": {
   "display_name": "Python 3 (ipykernel)",
   "language": "python",
   "name": "python3"
  },
  "language_info": {
   "codemirror_mode": {
    "name": "ipython",
    "version": 3
   },
   "file_extension": ".py",
   "mimetype": "text/x-python",
   "name": "python",
   "nbconvert_exporter": "python",
   "pygments_lexer": "ipython3",
   "version": "3.9.7"
  }
 },
 "nbformat": 4,
 "nbformat_minor": 5
}
