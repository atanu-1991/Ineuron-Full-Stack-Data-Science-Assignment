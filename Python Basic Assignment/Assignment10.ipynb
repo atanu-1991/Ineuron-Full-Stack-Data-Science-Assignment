{
 "cells": [
  {
   "cell_type": "markdown",
   "id": "fe7191f3",
   "metadata": {},
   "source": [
    "#### 1. How do you distinguish between shutil.copy() and shutil.copytree()?"
   ]
  },
  {
   "cell_type": "markdown",
   "id": "1b5ba037",
   "metadata": {},
   "source": [
    "shutil.copy() method is used to copy the contents of a file from one file to another file/folder, it primary takes two arguments src,dest, src represents the file to be copied where as destination refers to the file/folder to where the src data should be copied, if dest is a folder name the src with exact name will be copied to the dest folder, if its a file then the contents of src will be copied to dest where dest retains it name.\n",
    "\n",
    "shutil.copytree() function is used to copy the entire contents of a folder to other folder. it also takes two arguments src & dest, it copies all the content recursively and stores it in dest. the important catch here is dest must not exist prior to this and it will be created during the copy operation. Permissions and times of directories are copied with shutil.copystat() and individual files are copied using shutil.copy2() by default which can be modified using copy_function attribute."
   ]
  },
  {
   "cell_type": "code",
   "execution_count": 8,
   "id": "7c0284e0",
   "metadata": {},
   "outputs": [
    {
     "name": "stdout",
     "output_type": "stream",
     "text": [
      "Before copying file:\n",
      "['.ipynb_checkpoints', 'Assignment1.ipynb', 'Assignment10.ipynb', 'Assignment15.ipynb', 'Assignment16.ipynb', 'Assignment17.ipynb', 'Assignment18.ipynb', 'Assignment19.ipynb', 'Assignment2.ipynb', 'Assignment20.ipynb', 'Assignment21.ipynb', 'Assignment3.ipynb', 'Assignment4.ipynb', 'Assignment5.ipynb', 'Assignment6.ipynb', 'Assignment7.ipynb', 'Assignment8.ipynb', 'Assignment9.ipynb', 'books.csv', 'file.txt', 'test.txt', 'today.txt', 'Untitled.ipynb', 'zoo.py', '__pycache__']\n",
      "Destination Path= E:\\FullStack_Data_Science_Bootcamp\\jupyte_notebook\\Assignment_Answer\\file2.txt\n"
     ]
    }
   ],
   "source": [
    "# Example of shutil.copy()\n",
    "import os\n",
    "import shutil\n",
    "\n",
    "path = 'E:\\FullStack_Data_Science_Bootcamp\\jupyte_notebook\\Assignment_Answer'\n",
    "\n",
    "print(\"Before copying file:\")\n",
    "print(os.listdir(path))\n",
    "\n",
    "sour = 'E:\\\\FullStack_Data_Science_Bootcamp\\\\jupyte_notebook\\\\Assignment_Answer\\\\file.txt'\n",
    "\n",
    "dest = 'E:\\\\FullStack_Data_Science_Bootcamp\\\\jupyte_notebook\\\\Assignment_Answer\\\\file2.txt'\n",
    "\n",
    "sourceTodest = shutil.copy(sour,dest)\n",
    "\n",
    "print(\"Destination Path=\",sourceTodest)"
   ]
  },
  {
   "cell_type": "code",
   "execution_count": 10,
   "id": "31b77f55",
   "metadata": {},
   "outputs": [
    {
     "name": "stdout",
     "output_type": "stream",
     "text": [
      "Before copying file:\n",
      "['.ipynb_checkpoints', 'Assignment_Answer', 'class', 'MyClass', 'MyProgramming', 'quiz', 'Recording Class', 'Untitled.ipynb']\n",
      "Destination Path= E:\\FullStack_Data_Science_Bootcamp\\jupyte_notebook\\Assignment_Answer2\n"
     ]
    }
   ],
   "source": [
    "# Example of shutil.copytree()\n",
    "import os\n",
    "import shutil\n",
    "\n",
    "path = 'E:\\FullStack_Data_Science_Bootcamp\\jupyte_notebook'\n",
    "\n",
    "print(\"Before copying file:\") \n",
    "print(os.listdir(path)) \n",
    "\n",
    "source = 'E:\\\\FullStack_Data_Science_Bootcamp\\\\jupyte_notebook\\\\Assignment_Answer'\n",
    "\n",
    "destination = 'E:\\\\FullStack_Data_Science_Bootcamp\\\\jupyte_notebook\\\\Assignment_Answer2'\n",
    "\n",
    "sourToDest = shutil.copytree(source,destination)\n",
    "\n",
    "print(\"Destination Path=\",sourToDest)"
   ]
  },
  {
   "cell_type": "markdown",
   "id": "4f29edec",
   "metadata": {},
   "source": [
    "#### 2. What function is used to rename files?"
   ]
  },
  {
   "cell_type": "markdown",
   "id": "b1f236d9",
   "metadata": {},
   "source": [
    "Ans: os.rename() function is used to rename files or directories using a python program, this function takes two arguments src and dest, src represents the name file/directory which we want to rename, whereas dest represents the new name of the file/directory."
   ]
  },
  {
   "cell_type": "markdown",
   "id": "c571f574",
   "metadata": {},
   "source": [
    "#### 3. What is the difference between the delete functions in the send2trash and shutil modules?"
   ]
  },
  {
   "cell_type": "markdown",
   "id": "1fec6661",
   "metadata": {},
   "source": [
    "Ans: Shutil module provides a funciton called as shutil.rmtree() which deletes a directory and all its contents. The other functions with similar functionality are os.remove() -> removes a file, os.rmdir() removes a empty directory. The problem with these functions is once a file is deleted. it will be lost permanently, if a file is deleted accidentally using these methods there is no way we can recover the deleted file\n",
    "\n",
    "Where as send2trash module provides a function called send2trash.send2trash() to delete a file/directory. these methods moves the files/directories to trash folder instead of permanently deleting them. hence if a file/folder is deleted accidentally it can be still recovered from trash folder, if is deleted using the send2trash.send2trash() function. send2trash is not included with python standard libary like os & shutil modules. it needs to be installed explicitly using the command !pip install send2trash"
   ]
  },
  {
   "cell_type": "markdown",
   "id": "d5b84b4e",
   "metadata": {},
   "source": [
    "#### 4. ZipFile objects have a close() method just like File objects’ close() method. What ZipFile method is equivalent to File objects’ open() method?"
   ]
  },
  {
   "cell_type": "markdown",
   "id": "8c73e4c3",
   "metadata": {},
   "source": [
    "Ans: ZipFile Module provides a method called as zipfile.ZipFile() to read and write to zipFiles. it takes arugments lile filename and mode etc zipfile.ZipFile('filename', mode = 'r')"
   ]
  },
  {
   "cell_type": "markdown",
   "id": "eb165a98",
   "metadata": {},
   "source": [
    "#### 5. Create a programme that searches a folder tree for files with a certain file extension (such as .pdf or .jpg). Copy these files from whatever location they are in to a new folder."
   ]
  },
  {
   "cell_type": "code",
   "execution_count": 4,
   "id": "7962cbe5",
   "metadata": {},
   "outputs": [
    {
     "name": "stdout",
     "output_type": "stream",
     "text": [
      "Folder Name: E:\\FullStack_Data_Science_Bootcamp\\jupyte_notebook\\Assignment_Answer\\Dummy Source\n",
      "Sub Folder Name: []\n",
      "File Name: ['Assignment1.ipynb', 'Assignment10.ipynb', 'Assignment15.ipynb', 'Assignment16.ipynb', 'Assignment17.ipynb', 'Assignment18.ipynb', 'Assignment19.ipynb', 'Assignment2.ipynb', 'Assignment20.ipynb', 'Assignment21.ipynb', 'Assignment3.ipynb', 'Assignment4.ipynb', 'Assignment5.ipynb', 'Assignment6.ipynb', 'Assignment7.ipynb', 'Assignment8.ipynb', 'Assignment9.ipynb', 'books.csv', 'file.txt', 'file2.txt', 'message.png', 'Notice dt 15.1.22.pdf', 'Paribesh O Bigyan Class VII.pdf', 'Poribesh O Bigyan Class VIII Bengali.pdf', 'test.txt', 'today.txt', 'Untitled.ipynb', 'zoo.py']\n",
      "files copied from E:\\FullStack_Data_Science_Bootcamp\\jupyte_notebook\\Assignment_Answer\\Dummy Source to E:\\FullStack_Data_Science_Bootcamp\\jupyte_notebook\\Assignment_Answer\\Dummy Destination\n"
     ]
    }
   ],
   "source": [
    "import os\n",
    "import shutil\n",
    "\n",
    "def serarch_copy(source,destination,extensions):\n",
    "    \n",
    "    source = os.path.abspath(source)\n",
    "    destination = os.path.abspath(destination)\n",
    "    \n",
    "    for foldername, subfolder, filenames in os.walk(source):\n",
    "        print(f\"Folder Name: {foldername}\")\n",
    "        print(f\"Sub Folder Name: {subfolder}\")\n",
    "        print(f\"File Name: {filenames}\")\n",
    "        \n",
    "        for filename in filenames:\n",
    "            filename,extension = os.path.splitext(filename)\n",
    "            \n",
    "            if extension in extensions:\n",
    "                targetFile = foldername + os.path.sep+filename+extension\n",
    "                shutil.copy(targetFile,destination)\n",
    "                \n",
    "        print(f\"files copied from {source} to {destination}\")\n",
    "        \n",
    "extensions = [\".pdf\",\".png\",\".ipynb\"]\n",
    "source = \"Dummy Source\"\n",
    "destination = \"Dummy Destination\"\n",
    "\n",
    "serarch_copy(source,destination,extensions)"
   ]
  },
  {
   "cell_type": "code",
   "execution_count": null,
   "id": "2da9007b",
   "metadata": {},
   "outputs": [],
   "source": []
  }
 ],
 "metadata": {
  "kernelspec": {
   "display_name": "Python 3 (ipykernel)",
   "language": "python",
   "name": "python3"
  },
  "language_info": {
   "codemirror_mode": {
    "name": "ipython",
    "version": 3
   },
   "file_extension": ".py",
   "mimetype": "text/x-python",
   "name": "python",
   "nbconvert_exporter": "python",
   "pygments_lexer": "ipython3",
   "version": "3.9.7"
  }
 },
 "nbformat": 4,
 "nbformat_minor": 5
}
