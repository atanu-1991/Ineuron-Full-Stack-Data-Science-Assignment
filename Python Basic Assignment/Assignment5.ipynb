{
 "cells": [
  {
   "cell_type": "markdown",
   "id": "3d515383",
   "metadata": {},
   "source": [
    "1.What does an empty dictionary's code look like? "
   ]
  },
  {
   "cell_type": "code",
   "execution_count": null,
   "id": "6658c76c",
   "metadata": {},
   "outputs": [],
   "source": [
    "d= {}"
   ]
  },
  {
   "cell_type": "markdown",
   "id": "62400f84",
   "metadata": {},
   "source": [
    "2.What is the value of a dictionary value with the key 'foo' and the value 42?"
   ]
  },
  {
   "cell_type": "code",
   "execution_count": null,
   "id": "b73458d8",
   "metadata": {},
   "outputs": [],
   "source": [
    "dict={‘foo’: 42}"
   ]
  },
  {
   "cell_type": "markdown",
   "id": "bf5cf839",
   "metadata": {},
   "source": [
    "3.What is the most significant distinction between a dictionary and a list?"
   ]
  },
  {
   "cell_type": "markdown",
   "id": "ad768b26",
   "metadata": {},
   "source": [
    "Ans: dictionary is key-value pair and list contains only value"
   ]
  },
  {
   "cell_type": "raw",
   "id": "3b2a3f3e",
   "metadata": {},
   "source": [
    "4.What happens if you try to access spam['foo'] if spam is {'bar': 100}?"
   ]
  },
  {
   "cell_type": "markdown",
   "id": "e5d8a81b",
   "metadata": {},
   "source": [
    "Ans: throws an error as ‘foo’ is not present in the dictionary"
   ]
  },
  {
   "cell_type": "markdown",
   "id": "427db6bd",
   "metadata": {},
   "source": [
    "5.If a dictionary is stored in spam, what is the difference between the expressions 'cat' in spam and 'cat' in spam.keys()?"
   ]
  },
  {
   "cell_type": "markdown",
   "id": "231a7a1b",
   "metadata": {},
   "source": [
    "Ans:'cat'in spam is value and 'cat' in spam.values() is a key"
   ]
  },
  {
   "cell_type": "markdown",
   "id": "c749b94e",
   "metadata": {},
   "source": [
    "6.If a dictionary is stored in spam, what is the difference between the expressions 'cat' in spam and 'cat' in spam.values()?"
   ]
  },
  {
   "cell_type": "markdown",
   "id": "d4d661b2",
   "metadata": {},
   "source": [
    "Ans:‘cat’ in spam checks whether there is a ‘cat’ key in the dictionary and ‘cat’ in spam.values() checks whether there is a value ‘cat’ for one of the keys in spam"
   ]
  },
  {
   "cell_type": "raw",
   "id": "4c673d2d",
   "metadata": {},
   "source": [
    "7.What is a shortcut for the following code?\n",
    "if 'color' not in spam:\n",
    "spam['color'] = 'black'"
   ]
  },
  {
   "cell_type": "markdown",
   "id": "ab907e31",
   "metadata": {},
   "source": [
    "spam.setdefault('color' : 'black')"
   ]
  },
  {
   "cell_type": "markdown",
   "id": "a56a8eda",
   "metadata": {},
   "source": [
    "8.How do you \"pretty print\" dictionary values using which module and function?"
   ]
  },
  {
   "cell_type": "code",
   "execution_count": 2,
   "id": "df6f4e02",
   "metadata": {},
   "outputs": [
    {
     "name": "stdout",
     "output_type": "stream",
     "text": [
      "**** Using Preety Print ****\n",
      "{'anotherDict': {'A': 1, 'B': 2},\n",
      " 'atanu': 'A programmer',\n",
      " 'fast': 'In a quick manner'}\n"
     ]
    }
   ],
   "source": [
    "import pprint\n",
    "myDict={\"fast\":\"In a quick manner\",\n",
    "       \"atanu\": \"A programmer\",\n",
    "       \"anotherDict\":{\"A\":1,\"B\":2}}\n",
    "print(\"**** Using Preety Print ****\")\n",
    "pprint.pprint(myDict)"
   ]
  },
  {
   "cell_type": "code",
   "execution_count": null,
   "id": "b56bdfc8",
   "metadata": {},
   "outputs": [],
   "source": []
  }
 ],
 "metadata": {
  "kernelspec": {
   "display_name": "Python 3 (ipykernel)",
   "language": "python",
   "name": "python3"
  },
  "language_info": {
   "codemirror_mode": {
    "name": "ipython",
    "version": 3
   },
   "file_extension": ".py",
   "mimetype": "text/x-python",
   "name": "python",
   "nbconvert_exporter": "python",
   "pygments_lexer": "ipython3",
   "version": "3.9.7"
  }
 },
 "nbformat": 4,
 "nbformat_minor": 5
}
