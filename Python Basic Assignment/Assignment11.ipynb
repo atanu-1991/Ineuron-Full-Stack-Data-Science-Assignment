{
 "cells": [
  {
   "cell_type": "markdown",
   "id": "dcf830d2",
   "metadata": {},
   "source": [
    "#### 1. Create an assert statement that throws an AssertionError if the variable spam is a negative integer."
   ]
  },
  {
   "cell_type": "code",
   "execution_count": 3,
   "id": "875da651",
   "metadata": {},
   "outputs": [
    {
     "name": "stdout",
     "output_type": "stream",
     "text": [
      "Enter The Number:\n",
      "-1\n"
     ]
    },
    {
     "ename": "AssertionError",
     "evalue": "",
     "output_type": "error",
     "traceback": [
      "\u001b[1;31m---------------------------------------------------------------------------\u001b[0m",
      "\u001b[1;31mAssertionError\u001b[0m                            Traceback (most recent call last)",
      "\u001b[1;32m~\\AppData\\Local\\Temp/ipykernel_10692/1831027418.py\u001b[0m in \u001b[0;36m<module>\u001b[1;34m\u001b[0m\n\u001b[0;32m      1\u001b[0m \u001b[0mspam\u001b[0m \u001b[1;33m=\u001b[0m \u001b[0mint\u001b[0m\u001b[1;33m(\u001b[0m\u001b[0minput\u001b[0m\u001b[1;33m(\u001b[0m\u001b[1;34m\"Enter The Number:\\n\"\u001b[0m\u001b[1;33m)\u001b[0m\u001b[1;33m)\u001b[0m\u001b[1;33m\u001b[0m\u001b[1;33m\u001b[0m\u001b[0m\n\u001b[1;32m----> 2\u001b[1;33m \u001b[1;32massert\u001b[0m \u001b[0mspam\u001b[0m \u001b[1;33m>\u001b[0m \u001b[1;36m0\u001b[0m\u001b[1;33m\u001b[0m\u001b[1;33m\u001b[0m\u001b[0m\n\u001b[0m\u001b[0;32m      3\u001b[0m \u001b[0mprint\u001b[0m\u001b[1;33m(\u001b[0m\u001b[1;34mf\"{spam} is an integer number\"\u001b[0m\u001b[1;33m)\u001b[0m\u001b[1;33m\u001b[0m\u001b[1;33m\u001b[0m\u001b[0m\n",
      "\u001b[1;31mAssertionError\u001b[0m: "
     ]
    }
   ],
   "source": [
    "spam = int(input(\"Enter The Number:\\n\"))\n",
    "assert spam > 0\n",
    "print(f\"{spam} is an integer number\")"
   ]
  },
  {
   "cell_type": "markdown",
   "id": "c9bfdccc",
   "metadata": {},
   "source": [
    "#### 2. Write an assert statement that triggers an AssertionError if the variables eggs and bacon contain strings that are the same as each other, even if their cases are different (that is, 'hello' and 'hello' are considered the same, and 'goodbye' and 'GOODbye' are also considered the same)."
   ]
  },
  {
   "cell_type": "code",
   "execution_count": 8,
   "id": "3f30436d",
   "metadata": {},
   "outputs": [
    {
     "ename": "AssertionError",
     "evalue": "",
     "output_type": "error",
     "traceback": [
      "\u001b[1;31m---------------------------------------------------------------------------\u001b[0m",
      "\u001b[1;31mAssertionError\u001b[0m                            Traceback (most recent call last)",
      "\u001b[1;32m~\\AppData\\Local\\Temp/ipykernel_10692/1284833916.py\u001b[0m in \u001b[0;36m<module>\u001b[1;34m\u001b[0m\n\u001b[0;32m      2\u001b[0m \u001b[0mbacon\u001b[0m \u001b[1;33m=\u001b[0m \u001b[1;34m\"Hello\"\u001b[0m\u001b[1;33m\u001b[0m\u001b[1;33m\u001b[0m\u001b[0m\n\u001b[0;32m      3\u001b[0m \u001b[1;33m\u001b[0m\u001b[0m\n\u001b[1;32m----> 4\u001b[1;33m \u001b[1;32massert\u001b[0m \u001b[0meggs\u001b[0m\u001b[1;33m.\u001b[0m\u001b[0mlower\u001b[0m\u001b[1;33m(\u001b[0m\u001b[1;33m)\u001b[0m \u001b[1;33m!=\u001b[0m \u001b[0mbacon\u001b[0m\u001b[1;33m.\u001b[0m\u001b[0mlower\u001b[0m\u001b[1;33m(\u001b[0m\u001b[1;33m)\u001b[0m\u001b[1;33m\u001b[0m\u001b[1;33m\u001b[0m\u001b[0m\n\u001b[0m\u001b[0;32m      5\u001b[0m \u001b[0mprint\u001b[0m\u001b[1;33m(\u001b[0m\u001b[1;34m\"eggs and bacon variable are noot same\"\u001b[0m\u001b[1;33m)\u001b[0m\u001b[1;33m\u001b[0m\u001b[1;33m\u001b[0m\u001b[0m\n",
      "\u001b[1;31mAssertionError\u001b[0m: "
     ]
    }
   ],
   "source": [
    "eggs = \"hello\"\n",
    "bacon = \"Hello\"\n",
    "\n",
    "assert eggs.lower() != bacon.lower()\n",
    "print(\"eggs and bacon variable are noot same\")"
   ]
  },
  {
   "cell_type": "code",
   "execution_count": 9,
   "id": "75abacd9",
   "metadata": {},
   "outputs": [
    {
     "ename": "AssertionError",
     "evalue": "",
     "output_type": "error",
     "traceback": [
      "\u001b[1;31m---------------------------------------------------------------------------\u001b[0m",
      "\u001b[1;31mAssertionError\u001b[0m                            Traceback (most recent call last)",
      "\u001b[1;32m~\\AppData\\Local\\Temp/ipykernel_10692/750845362.py\u001b[0m in \u001b[0;36m<module>\u001b[1;34m\u001b[0m\n\u001b[0;32m      2\u001b[0m \u001b[0mbacon\u001b[0m \u001b[1;33m=\u001b[0m \u001b[1;34m\"GOODbye\"\u001b[0m\u001b[1;33m\u001b[0m\u001b[1;33m\u001b[0m\u001b[0m\n\u001b[0;32m      3\u001b[0m \u001b[1;33m\u001b[0m\u001b[0m\n\u001b[1;32m----> 4\u001b[1;33m \u001b[1;32massert\u001b[0m \u001b[0meggs\u001b[0m\u001b[1;33m.\u001b[0m\u001b[0mlower\u001b[0m\u001b[1;33m(\u001b[0m\u001b[1;33m)\u001b[0m \u001b[1;33m!=\u001b[0m \u001b[0mbacon\u001b[0m\u001b[1;33m.\u001b[0m\u001b[0mlower\u001b[0m\u001b[1;33m(\u001b[0m\u001b[1;33m)\u001b[0m\u001b[1;33m\u001b[0m\u001b[1;33m\u001b[0m\u001b[0m\n\u001b[0m\u001b[0;32m      5\u001b[0m \u001b[0mprint\u001b[0m\u001b[1;33m(\u001b[0m\u001b[1;34m\"eggs and bacon variable are noot same\"\u001b[0m\u001b[1;33m)\u001b[0m\u001b[1;33m\u001b[0m\u001b[1;33m\u001b[0m\u001b[0m\n",
      "\u001b[1;31mAssertionError\u001b[0m: "
     ]
    }
   ],
   "source": [
    "eggs = \"goodbye\"\n",
    "bacon = \"GOODbye\"\n",
    "\n",
    "assert eggs.lower() != bacon.lower()\n",
    "print(\"eggs and bacon variable are noot same\")"
   ]
  },
  {
   "cell_type": "markdown",
   "id": "be2df80a",
   "metadata": {},
   "source": [
    "#### 3. Create an assert statement that throws an AssertionError every time."
   ]
  },
  {
   "cell_type": "code",
   "execution_count": 14,
   "id": "ff517949",
   "metadata": {},
   "outputs": [
    {
     "ename": "AssertionError",
     "evalue": "",
     "output_type": "error",
     "traceback": [
      "\u001b[1;31m---------------------------------------------------------------------------\u001b[0m",
      "\u001b[1;31mAssertionError\u001b[0m                            Traceback (most recent call last)",
      "\u001b[1;32m~\\AppData\\Local\\Temp/ipykernel_10692/2103537015.py\u001b[0m in \u001b[0;36m<module>\u001b[1;34m\u001b[0m\n\u001b[1;32m----> 1\u001b[1;33m \u001b[1;32massert\u001b[0m \u001b[1;32mFalse\u001b[0m\u001b[1;33m\u001b[0m\u001b[1;33m\u001b[0m\u001b[0m\n\u001b[0m",
      "\u001b[1;31mAssertionError\u001b[0m: "
     ]
    }
   ],
   "source": [
    "assert False"
   ]
  },
  {
   "cell_type": "markdown",
   "id": "cd7f6d2c",
   "metadata": {},
   "source": [
    "#### 4. What are the two lines that must be present in your software in order to call logging.debug()?"
   ]
  },
  {
   "cell_type": "code",
   "execution_count": null,
   "id": "92f76c94",
   "metadata": {},
   "outputs": [],
   "source": [
    "import logging\n",
    "logging.basicConfig(filename='test2.log', level= logging.DEBUG, format='%(asctime)s %(message)s')"
   ]
  },
  {
   "cell_type": "markdown",
   "id": "bd2422bf",
   "metadata": {},
   "source": [
    "#### 5. What are the two lines that your program must have in order to have logging.debug() send a logging message to a file named programLog.txt?"
   ]
  },
  {
   "cell_type": "code",
   "execution_count": 1,
   "id": "454f61dd",
   "metadata": {},
   "outputs": [],
   "source": [
    "import logging\n",
    "logging.basicConfig(filename='programLog.txt', level= logging.DEBUG, format='%(asctime)s %(message)s')\n",
    "logging.debug(\"Data Inserted Successfully\")\n",
    "logging.debug(\"Programme executed successfully\")"
   ]
  },
  {
   "cell_type": "code",
   "execution_count": 3,
   "id": "b3252ddc",
   "metadata": {},
   "outputs": [
    {
     "name": "stdout",
     "output_type": "stream",
     "text": [
      "2022-06-04 20:57:16,645 Data Inserted Successfully\n",
      "2022-06-04 20:57:16,646 Programme executed successfully\n",
      "2022-06-04 20:57:23,173 diff parser start\n",
      "2022-06-04 20:57:23,174 line_lengths old: 4; new: 1\n",
      "2022-06-04 20:57:23,174 -> code[replace] old[1:4] new[1:1]\n",
      "2022-06-04 20:57:23,175 parse_part from 1 to 1 (to 0 in part parser)\n",
      "2022-06-04 20:57:23,175 diff parser end\n",
      "2022-06-04 20:57:29,820 diff parser start\n",
      "2022-06-04 20:57:29,821 line_lengths old: 1; new: 1\n",
      "2022-06-04 20:57:29,821 -> code[replace] old[1:1] new[1:1]\n",
      "2022-06-04 20:57:29,822 parse_part from 1 to 1 (to 0 in part parser)\n",
      "2022-06-04 20:57:29,823 diff parser end\n",
      "2022-06-04 20:57:47,233 diff parser start\n",
      "2022-06-04 20:57:47,233 line_lengths old: 1; new: 2\n",
      "2022-06-04 20:57:47,233 -> code[replace] old[1:1] new[1:2]\n",
      "2022-06-04 20:57:47,236 parse_part from 1 to 2 (to 1 in part parser)\n",
      "2022-06-04 20:57:47,236 diff parser end\n",
      "2022-06-04 20:57:47,297 pickle loaded: C:\\Users\\Atanu\\anaconda3\\lib\\typing.py\n",
      "2022-06-04 20:57:47,323 pickle loaded: C:\\Users\\Atanu\\anaconda3\\lib\\site-packages\\jedi\\third_party\\typeshed\\stdlib\\3\\typing.pyi\n",
      "2022-06-04 20:57:47,396 pickle loaded: C:\\Users\\Atanu\\anaconda3\\lib\\abc.py\n",
      "2022-06-04 20:57:47,411 pickle loaded: C:\\Users\\Atanu\\anaconda3\\lib\\site-packages\\jedi\\third_party\\typeshed\\stdlib\\3\\abc.pyi\n",
      "2022-06-04 20:57:53,522 diff parser start\n",
      "2022-06-04 20:57:53,523 line_lengths old: 2; new: 3\n",
      "2022-06-04 20:57:53,524 -> code[equal] old[1:1] new[1:1]\n",
      "2022-06-04 20:57:53,525 parse_part from 1 to 2 (to 2 in part parser)\n",
      "2022-06-04 20:57:53,525 -> code[replace] old[2:2] new[2:3]\n",
      "2022-06-04 20:57:53,526 parse_part from 3 to 3 (to 2 in part parser)\n",
      "2022-06-04 20:57:53,526 diff parser end\n",
      "2022-06-04 20:57:56,831 diff parser start\n",
      "2022-06-04 20:57:56,832 line_lengths old: 3; new: 3\n",
      "2022-06-04 20:57:56,833 -> code[equal] old[1:2] new[1:2]\n",
      "2022-06-04 20:57:56,834 parse_part from 1 to 2 (to 2 in part parser)\n",
      "2022-06-04 20:57:56,834 -> code[replace] old[3:3] new[3:3]\n",
      "2022-06-04 20:57:56,834 parse_part from 3 to 3 (to 2 in part parser)\n",
      "2022-06-04 20:57:56,835 diff parser end\n",
      "\n"
     ]
    }
   ],
   "source": [
    "with open(\"programLog.txt\",'r') as f:\n",
    "    txt = f.read()\n",
    "    print(txt)"
   ]
  },
  {
   "cell_type": "markdown",
   "id": "597170d5",
   "metadata": {},
   "source": [
    "#### 6. What are the five levels of logging?"
   ]
  },
  {
   "cell_type": "markdown",
   "id": "d9a55ed8",
   "metadata": {},
   "source": [
    "logging.debug(\"Debug blog\")\n",
    "\n",
    "logging.info(\"This is info log\")\n",
    "\n",
    "logging.warning(\"This is warning log\")\n",
    "\n",
    "logging.error(\"This is my error log\")\n",
    "\n",
    "logging.exception(\"This is my exception log\")"
   ]
  },
  {
   "cell_type": "markdown",
   "id": "07ab8573",
   "metadata": {},
   "source": [
    "#### 7. What line of code would you add to your software to disable all logging messages?"
   ]
  },
  {
   "cell_type": "code",
   "execution_count": null,
   "id": "f459624c",
   "metadata": {},
   "outputs": [],
   "source": [
    "logging.debug = False"
   ]
  },
  {
   "cell_type": "markdown",
   "id": "db73a8d9",
   "metadata": {},
   "source": [
    "#### 8. Why is using logging messages better than using print() to display the same message?"
   ]
  },
  {
   "cell_type": "markdown",
   "id": "4df0ed47",
   "metadata": {},
   "source": [
    "Ans: Post devlopment of your code, you can disable logging messages without removing the logging function, whereas you need to manually remove print() statements, which is tedious activity. and also print is used when you want to display any particular message or help whereas logging is used to record all events like error, info, debug messages, timestamps."
   ]
  },
  {
   "cell_type": "markdown",
   "id": "1293b1b7",
   "metadata": {},
   "source": [
    "#### 9. What are the differences between the Step Over, Step In, and Step Out buttons in the debugger?"
   ]
  },
  {
   "cell_type": "markdown",
   "id": "3f97cabf",
   "metadata": {},
   "source": [
    "Ans: The Differences between Step Over, Step In, Step Out buttons in debugger are:\n",
    "\n",
    " 1.Step in - Step In button will cause the debugger to execute the next line of code and then pause again.\n",
    "\n",
    " 2.Step Over - Step Over button will execute the next line of code, similar to the Step In button. However, if the next line of code is a function call, the Step Over button will “step over” the code in the function. The function’s code will be executed at full speed, and the debugger will pause as soon as the function call returns.\n",
    "    \n",
    " 3.Step out - Step Out button will cause the debugger to execute lines of code at full speed until it returns from the current function."
   ]
  },
  {
   "cell_type": "markdown",
   "id": "43b5ec97",
   "metadata": {},
   "source": [
    "#### 10. After you click Continue, when will the debugger stop ?"
   ]
  },
  {
   "cell_type": "markdown",
   "id": "a21ca730",
   "metadata": {},
   "source": [
    "Ans: This will cause the program to continue running normally, without pausing for debugging untill it terminates or reaches a breakpoint."
   ]
  },
  {
   "cell_type": "markdown",
   "id": "2c4225b0",
   "metadata": {},
   "source": [
    "#### 11. What is the concept of a breakpoint?"
   ]
  },
  {
   "cell_type": "markdown",
   "id": "1f031030",
   "metadata": {},
   "source": [
    "Ans: Breakpoint is a setting on a line of code that causes the debugger to pause when the program execution reaches the line"
   ]
  }
 ],
 "metadata": {
  "kernelspec": {
   "display_name": "Python 3 (ipykernel)",
   "language": "python",
   "name": "python3"
  },
  "language_info": {
   "codemirror_mode": {
    "name": "ipython",
    "version": 3
   },
   "file_extension": ".py",
   "mimetype": "text/x-python",
   "name": "python",
   "nbconvert_exporter": "python",
   "pygments_lexer": "ipython3",
   "version": "3.9.7"
  }
 },
 "nbformat": 4,
 "nbformat_minor": 5
}
